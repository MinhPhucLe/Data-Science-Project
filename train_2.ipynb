{
 "cells": [
  {
   "cell_type": "markdown",
   "metadata": {},
   "source": [
    "## Process data"
   ]
  },
  {
   "cell_type": "code",
   "execution_count": 183,
   "metadata": {},
   "outputs": [
    {
     "data": {
      "text/html": [
       "<div>\n",
       "<style scoped>\n",
       "    .dataframe tbody tr th:only-of-type {\n",
       "        vertical-align: middle;\n",
       "    }\n",
       "\n",
       "    .dataframe tbody tr th {\n",
       "        vertical-align: top;\n",
       "    }\n",
       "\n",
       "    .dataframe thead th {\n",
       "        text-align: right;\n",
       "    }\n",
       "</style>\n",
       "<table border=\"1\" class=\"dataframe\">\n",
       "  <thead>\n",
       "    <tr style=\"text-align: right;\">\n",
       "      <th></th>\n",
       "      <th>brand</th>\n",
       "      <th>price</th>\n",
       "      <th>old</th>\n",
       "      <th>new</th>\n",
       "      <th>cpu</th>\n",
       "      <th>cpu_brand</th>\n",
       "      <th>ram_capacity</th>\n",
       "      <th>ram_brand</th>\n",
       "      <th>hard_drive_type</th>\n",
       "      <th>hard_drive_capacity</th>\n",
       "      <th>card</th>\n",
       "      <th>card_brand</th>\n",
       "      <th>screen_size</th>\n",
       "      <th>screen_type</th>\n",
       "    </tr>\n",
       "  </thead>\n",
       "  <tbody>\n",
       "    <tr>\n",
       "      <th>0</th>\n",
       "      <td>Asus</td>\n",
       "      <td>26990000.0</td>\n",
       "      <td>0</td>\n",
       "      <td>1</td>\n",
       "      <td>Intel Core Ultra 5 125H</td>\n",
       "      <td>Intel</td>\n",
       "      <td>16.0</td>\n",
       "      <td>DDR5</td>\n",
       "      <td>SSD</td>\n",
       "      <td>512GB</td>\n",
       "      <td>Intel Arc Graphics</td>\n",
       "      <td>Intel</td>\n",
       "      <td>14.0</td>\n",
       "      <td>OLED</td>\n",
       "    </tr>\n",
       "    <tr>\n",
       "      <th>1</th>\n",
       "      <td>Lenovo</td>\n",
       "      <td>16390000.0</td>\n",
       "      <td>0</td>\n",
       "      <td>1</td>\n",
       "      <td>AMD Ryzen 77730U</td>\n",
       "      <td>AMD</td>\n",
       "      <td>16.0</td>\n",
       "      <td>DDR4</td>\n",
       "      <td>SSD</td>\n",
       "      <td>512GB</td>\n",
       "      <td>AMD Radeon Graphics</td>\n",
       "      <td>AMD</td>\n",
       "      <td>15.6</td>\n",
       "      <td>HD</td>\n",
       "    </tr>\n",
       "    <tr>\n",
       "      <th>2</th>\n",
       "      <td>ASUS</td>\n",
       "      <td>28990000.0</td>\n",
       "      <td>0</td>\n",
       "      <td>1</td>\n",
       "      <td>Intel Core Ultra 5 125H</td>\n",
       "      <td>Intel</td>\n",
       "      <td>16.0</td>\n",
       "      <td>DDR5</td>\n",
       "      <td>SSD</td>\n",
       "      <td>512GB</td>\n",
       "      <td>Intel Arc Graphics</td>\n",
       "      <td>Intel</td>\n",
       "      <td>14.0</td>\n",
       "      <td>OLED</td>\n",
       "    </tr>\n",
       "    <tr>\n",
       "      <th>3</th>\n",
       "      <td>LG</td>\n",
       "      <td>36290000.0</td>\n",
       "      <td>0</td>\n",
       "      <td>1</td>\n",
       "      <td>Intel Core Ultra 5 125H</td>\n",
       "      <td>Intel</td>\n",
       "      <td>16.0</td>\n",
       "      <td>DDR5</td>\n",
       "      <td>SSD</td>\n",
       "      <td>512GB</td>\n",
       "      <td>Intel Arc graphics</td>\n",
       "      <td>Intel</td>\n",
       "      <td>14.0</td>\n",
       "      <td>IPS</td>\n",
       "    </tr>\n",
       "    <tr>\n",
       "      <th>4</th>\n",
       "      <td>Dell</td>\n",
       "      <td>18990000.0</td>\n",
       "      <td>0</td>\n",
       "      <td>1</td>\n",
       "      <td>Intel Core 5 processor 120U</td>\n",
       "      <td>Intel</td>\n",
       "      <td>8.0</td>\n",
       "      <td>DDR5</td>\n",
       "      <td>SSD</td>\n",
       "      <td>512GB</td>\n",
       "      <td>Intel Graphics</td>\n",
       "      <td>Intel</td>\n",
       "      <td>14.0</td>\n",
       "      <td>HD</td>\n",
       "    </tr>\n",
       "  </tbody>\n",
       "</table>\n",
       "</div>"
      ],
      "text/plain": [
       "    brand       price  old  new                           cpu cpu_brand  \\\n",
       "0    Asus  26990000.0    0    1      Intel Core Ultra 5 125H      Intel   \n",
       "1  Lenovo  16390000.0    0    1             AMD Ryzen 77730U        AMD   \n",
       "2    ASUS  28990000.0    0    1      Intel Core Ultra 5 125H      Intel   \n",
       "3      LG  36290000.0    0    1      Intel Core Ultra 5 125H      Intel   \n",
       "4    Dell  18990000.0    0    1  Intel Core 5 processor 120U      Intel   \n",
       "\n",
       "   ram_capacity ram_brand hard_drive_type hard_drive_capacity  \\\n",
       "0          16.0      DDR5             SSD               512GB   \n",
       "1          16.0      DDR4             SSD               512GB   \n",
       "2          16.0      DDR5             SSD               512GB   \n",
       "3          16.0      DDR5             SSD               512GB   \n",
       "4           8.0      DDR5             SSD               512GB   \n",
       "\n",
       "                  card card_brand  screen_size screen_type  \n",
       "0   Intel Arc Graphics      Intel         14.0        OLED  \n",
       "1  AMD Radeon Graphics        AMD         15.6          HD  \n",
       "2   Intel Arc Graphics      Intel         14.0        OLED  \n",
       "3   Intel Arc graphics      Intel         14.0         IPS  \n",
       "4       Intel Graphics      Intel         14.0          HD  "
      ]
     },
     "execution_count": 183,
     "metadata": {},
     "output_type": "execute_result"
    }
   ],
   "source": [
    "import pandas as pd\n",
    "import numpy as np\n",
    "import matplotlib.pyplot as plt\n",
    "import seaborn as sns\n",
    "from scipy import stats\n",
    "import regex as re\n",
    "from sklearn.preprocessing import LabelEncoder\n",
    "from sklearn.preprocessing import StandardScaler\n",
    "from sklearn.model_selection import train_test_split, GridSearchCV\n",
    "from sklearn.decomposition import PCA\n",
    "#import pygwalker as pyg\n",
    "\n",
    "data = pd.read_csv(\"dai_combined.csv\")\n",
    "data.head()"
   ]
  },
  {
   "cell_type": "code",
   "execution_count": 184,
   "metadata": {},
   "outputs": [
    {
     "data": {
      "text/plain": [
       "array(['Intel Arc Graphics', 'AMD Radeon Graphics', 'Intel Arc graphics',\n",
       "       'Intel Graphics', 'AMD Radeon 890M Graphics',\n",
       "       'Intel Iris Xᵉ Graphics', 'NVIDIA GeForce RTX 3050 6GB GDDR6',\n",
       "       'Intel Iris Xe Graphics', 'NVIDIA GeForce RTX 4050 6GB GDDR6',\n",
       "       'Intel UHD Graphics', 'Intel Arc Graphics 140V',\n",
       "       'Integrated Intel Graphics', 'Intel Arc 140V GPU',\n",
       "       'Intel Arc 130V GPU', 'Intel Arc Graphics 130V',\n",
       "       'NVIDIA RTX 500 Ada Generation 4GB GDDR6',\n",
       "       'AMD Radeon 760M Graphics', 'NVIDIA GeForce RTX 3050 4GB GDDR6',\n",
       "       'AMD 780M Graphics', 'AMD Radeon 880M Graphics',\n",
       "       'NVIDIA RTX A500 4GB GDDR6', 'Integrated Qualcomm Adreno GPU',\n",
       "       'NVIDIA Geforce RTX 3050 6GB GDDR6', 'Intel Arc 140V Graphics',\n",
       "       'NVIDIA RTX A1000 6GB GDDR6',\n",
       "       'NVIDIA RTX 1000 Ada Generation 6GB GDDR6', 'Qualcomm Adreno GPU',\n",
       "       'AMD Radeon graphics', 'NVIDIA GeForce MX570 2GB GDDR6',\n",
       "       'NVIDIA GeForce RTX 4060 8GB GDDR6',\n",
       "       'NVIDIA GeForce RTX 4070 8GB GDDR6', 'Intel HD Graphics',\n",
       "       'Integrated Intel Iris Xe Graphics Functions as UHD Graphics',\n",
       "       'AMD Radeon 780M Graphics', 'AMD Radeon 780M',\n",
       "       'AMD Radeon 660M Graphics', 'AMD Radeon 610M Graphics',\n",
       "       'NVIDIA GeForce MX570A 2GB GDDR6', 'Intel graphics',\n",
       "       'NVIDIA GeForce RTX 2050 4GB GDDR6',\n",
       "       'NVIDIA GeForce MX550 2GB GDDR6',\n",
       "       'NVIDIA GeForce RTX2050 4GB GDDR6',\n",
       "       'NVIDIA GeForce RTX 3050 4GB DDR6', 'Intel Iris Xe graphics',\n",
       "       'Card tích hợp- AMD Radeon Graphics',\n",
       "       'Card tích hợp-Intel Iris Xe Graphics',\n",
       "       'Card tích hợp-Intel UHD Graphics', 'Card tích hợp- 7 nhân GPU',\n",
       "       'Card tích hợp- AMD Radeon 610M Graphics',\n",
       "       'Card tích hợp- Intel UHD Graphics (Iris Xe Graphics chỉ hoạt động với RAM kênh đôi)',\n",
       "       'Card tích hợp- 10 nhân GPU', 'Card tích hợp- 8 nhân GPU',\n",
       "       'Card rời- NVIDIA GeForce RTX 3050, 6 GB',\n",
       "       'Card rời- NVIDIA GeForce RTX 2050, 4 GB',\n",
       "       'Card rời- NVIDIA GeForce RTX 4050, 6 GB',\n",
       "       'Card rời- NVIDIA GeForce RTX 4060, 8 GB',\n",
       "       'Card tích hợp- Intel Graphics',\n",
       "       'Card rời-NVIDIA GeForce RTX 3050, 4 GB',\n",
       "       'Card tích hợp- Intel Arc Graphics',\n",
       "       'Card rời-NVIDIA GeForce RTX 3050Ti, 4 GB',\n",
       "       'Card rời- AMD Radeon RX 6550M, 4 GB',\n",
       "       'Card rời- NVIDIA GeForce RTX 4070, 8 GB',\n",
       "       'Card rời- NVIDIA GeForce MX550 2 GB',\n",
       "       'Card rời- NVIDIA Geforce MX570A, 2 GB',\n",
       "       'Card tích hợp- Intel Arc Graphics 130V',\n",
       "       'Card tích hợp- Intel Arc 140V',\n",
       "       'Card tích hợp- Qualcomm Adreno GPU', 'Card tích hợp- 16 nhân GPU',\n",
       "       'Card tích hợp- 20 nhân GPU', 'Card tích hợp- 18 nhân GPU',\n",
       "       'Card tích hợp- 32 nhân GPU',\n",
       "       'Card rời- NVIDIA GeForce RTX A500, 4 GB',\n",
       "       'Card rời- NVIDIA GeForce RTX 4090, 16 GB',\n",
       "       'NVIDIA\\xa0GeForce\\xa0RTX\\xa03050 4GB GDDR6',\n",
       "       'AMD Radeon RX7600S 8GB GDDR6',\n",
       "       'NVIDIA GeForce RTX  4060 8GB GDDR6',\n",
       "       'NNVIDIA GeForce RTX 4060 8GB GDDR6',\n",
       "       'NVIDIA RTX 2000 Ada 8GB GDDR6',\n",
       "       'NVIDIA\\xa0GeForce\\xa0RTX\\xa04070 8GB GDDR6 140W TGP',\n",
       "       'AMD Radeon RX 6550M 4GB', 'NVIDIA GeForce RTX 4080 12GB GDDR6',\n",
       "       'NNVIDIA GeForce RTX 4070 8GB GDDR6',\n",
       "       'NVIDIA GeForce RTX 3060 6GB GDDR6',\n",
       "       'NVIDIA GeForce RTX 4090 16GB GDDR6',\n",
       "       'NVIDIA GeForce RTX 2000 Ada 8GB GDDR6',\n",
       "       'NVIDIA GeForce RTX 4060 8GBGDDR6',\n",
       "       'NVIDIAGeForce RTX 4060 8GB GDDR6',\n",
       "       'NVIDIA GeForce RTX\\xa04050\\xa06GB GDDR6',\n",
       "       'AMD Radeon RX7700S 8GB GDDR6',\n",
       "       'Nvidia Geforce RTX 4080 12GB GDDR6',\n",
       "       'NVIDIA\\xa0GeForce\\xa0RTX\\xa04060 8GB GDDR6 140W TGP',\n",
       "       ' NVIDIA GeForce RTX 4050 6GB GDDR6',\n",
       "       'Nvidia Geforce RTX 4070 8GB GDDR6',\n",
       "       'NVIDIA\\xa0GeForce\\xa0RTX\\xa04050 6GB GDDR6 140W TGP',\n",
       "       'NVIDIA GeForce RTX\\xa04060\\xa08GB GDDR6',\n",
       "       'NVIDIA\\xa0GeForce\\xa0RTX\\xa04070 8GB GDDR6',\n",
       "       'NVIDIA GeForce RTX 2000 8GB GDDR6', 'NVIDIA RTX 2000 Ada 8GB',\n",
       "       'NVIDIA GeForce RTX\\xa04060\\xa08GB GDDR6 140W TGP',\n",
       "       'NVIDIA RTX A1000 6GB', 'AMD Radeon ',\n",
       "       'NVIDIA GeForce RTX 3050Ti 4GB GDDR6'], dtype=object)"
      ]
     },
     "execution_count": 184,
     "metadata": {},
     "output_type": "execute_result"
    }
   ],
   "source": [
    "data['card'].unique()"
   ]
  },
  {
   "cell_type": "code",
   "execution_count": 185,
   "metadata": {},
   "outputs": [
    {
     "name": "stdout",
     "output_type": "stream",
     "text": [
      "card\n",
      "Intel Iris Xe Graphics                      185\n",
      "Intel UHD Graphics                          123\n",
      "Intel Arc Graphics                          105\n",
      "Intel Graphics                              102\n",
      "NVIDIA GeForce RTX 4060 8GB GDDR6            76\n",
      "                                           ... \n",
      "Card rời- NVIDIA GeForce RTX A500, 4 GB       1\n",
      "Card rời- NVIDIA GeForce RTX 4090, 16 GB      1\n",
      "AMD Radeon RX7600S 8GB GDDR6                  1\n",
      "NVIDIA GeForce RTX  4060 8GB GDDR6            1\n",
      "NVIDIA GeForce RTX 3050Ti 4GB GDDR6           1\n",
      "Name: count, Length: 102, dtype: int64\n"
     ]
    }
   ],
   "source": [
    "ssd_counts = data['card'].value_counts()\n",
    "print(ssd_counts)"
   ]
  },
  {
   "cell_type": "code",
   "execution_count": 186,
   "metadata": {},
   "outputs": [
    {
     "name": "stdout",
     "output_type": "stream",
     "text": [
      "brand\n",
      "Laptop Lenovo      348\n",
      "Laptop HP          199\n",
      "Laptop Dell        174\n",
      "Laptop Asus        147\n",
      "Laptop Acer        141\n",
      "Laptop MSI          77\n",
      "HP                  65\n",
      "Laptop ASUS         41\n",
      "Laptop MacBook      22\n",
      "Lenovo              22\n",
      "Dell                19\n",
      "Laptop LG           13\n",
      "Acer                12\n",
      "Laptop Gigabyte      9\n",
      "MSI                  5\n",
      "Gigabyte             5\n",
      "LG                   3\n",
      "Laptop Samsung       2\n",
      "Máy                  2\n",
      "Laptop Creator       2\n",
      "Laptop               1\n",
      "Laptop Stealth       1\n",
      "Laptop Gaming        1\n",
      "Laptop Aspire        1\n",
      "Name: count, dtype: int64\n"
     ]
    }
   ],
   "source": [
    "brand_counts = train['brand'].value_counts()\n",
    "print(brand_counts)"
   ]
  },
  {
   "cell_type": "code",
   "execution_count": 187,
   "metadata": {},
   "outputs": [],
   "source": [
    "data['hard_drive_capacity'] = data['hard_drive_capacity'].str.replace(' ', '', regex=False)"
   ]
  },
  {
   "cell_type": "code",
   "execution_count": 188,
   "metadata": {},
   "outputs": [],
   "source": [
    "cat_cols = ['brand', 'cpu', 'cpu_brand', 'ram_capacity',\n",
    "       'ram_brand', 'hard_drive_type', 'hard_drive_capacity', 'card',\n",
    "       'card_brand', 'screen_size', 'screen_type']"
   ]
  },
  {
   "cell_type": "code",
   "execution_count": 189,
   "metadata": {},
   "outputs": [
    {
     "name": "stdout",
     "output_type": "stream",
     "text": [
      "<class 'pandas.core.frame.DataFrame'>\n",
      "RangeIndex: 1311 entries, 0 to 1310\n",
      "Data columns (total 14 columns):\n",
      " #   Column               Non-Null Count  Dtype  \n",
      "---  ------               --------------  -----  \n",
      " 0   brand                1311 non-null   object \n",
      " 1   price                1250 non-null   float64\n",
      " 2   old                  1311 non-null   int64  \n",
      " 3   new                  1311 non-null   int64  \n",
      " 4   cpu                  1311 non-null   object \n",
      " 5   cpu_brand            1310 non-null   object \n",
      " 6   ram_capacity         1310 non-null   float64\n",
      " 7   ram_brand            1251 non-null   object \n",
      " 8   hard_drive_type      1297 non-null   object \n",
      " 9   hard_drive_capacity  1301 non-null   object \n",
      " 10  card                 1311 non-null   object \n",
      " 11  card_brand           1311 non-null   object \n",
      " 12  screen_size          1284 non-null   float64\n",
      " 13  screen_type          1265 non-null   object \n",
      "dtypes: float64(3), int64(2), object(9)\n",
      "memory usage: 143.5+ KB\n"
     ]
    }
   ],
   "source": [
    "data.info()"
   ]
  },
  {
   "cell_type": "code",
   "execution_count": 190,
   "metadata": {},
   "outputs": [
    {
     "name": "stdout",
     "output_type": "stream",
     "text": [
      "<class 'pandas.core.frame.DataFrame'>\n",
      "RangeIndex: 1311 entries, 0 to 1310\n",
      "Data columns (total 14 columns):\n",
      " #   Column               Non-Null Count  Dtype  \n",
      "---  ------               --------------  -----  \n",
      " 0   brand                1311 non-null   object \n",
      " 1   price                1250 non-null   float64\n",
      " 2   old                  1311 non-null   int64  \n",
      " 3   new                  1311 non-null   int64  \n",
      " 4   cpu                  1311 non-null   object \n",
      " 5   cpu_brand            1311 non-null   object \n",
      " 6   ram_capacity         1311 non-null   object \n",
      " 7   ram_brand            1311 non-null   object \n",
      " 8   hard_drive_type      1311 non-null   object \n",
      " 9   hard_drive_capacity  1311 non-null   object \n",
      " 10  card                 1311 non-null   object \n",
      " 11  card_brand           1311 non-null   object \n",
      " 12  screen_size          1311 non-null   object \n",
      " 13  screen_type          1311 non-null   object \n",
      "dtypes: float64(1), int64(2), object(11)\n",
      "memory usage: 143.5+ KB\n"
     ]
    }
   ],
   "source": [
    "data[cat_cols] = data[cat_cols].fillna('missing')\n",
    "data.head()\n",
    "data.info()"
   ]
  },
  {
   "cell_type": "code",
   "execution_count": 192,
   "metadata": {},
   "outputs": [
    {
     "ename": "TypeError",
     "evalue": "Encoders require their input argument must be uniformly strings or numbers. Got ['float', 'str']",
     "output_type": "error",
     "traceback": [
      "\u001b[0;31m---------------------------------------------------------------------------\u001b[0m",
      "\u001b[0;31mTypeError\u001b[0m                                 Traceback (most recent call last)",
      "File \u001b[0;32m/opt/anaconda3/lib/python3.12/site-packages/sklearn/utils/_encode.py:174\u001b[0m, in \u001b[0;36m_unique_python\u001b[0;34m(values, return_inverse, return_counts)\u001b[0m\n\u001b[1;32m    172\u001b[0m uniques_set, missing_values \u001b[38;5;241m=\u001b[39m _extract_missing(uniques_set)\n\u001b[0;32m--> 174\u001b[0m uniques \u001b[38;5;241m=\u001b[39m \u001b[38;5;28msorted\u001b[39m(uniques_set)\n\u001b[1;32m    175\u001b[0m uniques\u001b[38;5;241m.\u001b[39mextend(missing_values\u001b[38;5;241m.\u001b[39mto_list())\n",
      "\u001b[0;31mTypeError\u001b[0m: '<' not supported between instances of 'str' and 'float'",
      "\nDuring handling of the above exception, another exception occurred:\n",
      "\u001b[0;31mTypeError\u001b[0m                                 Traceback (most recent call last)",
      "Cell \u001b[0;32mIn[192], line 4\u001b[0m\n\u001b[1;32m      1\u001b[0m en \u001b[38;5;241m=\u001b[39m LabelEncoder()\n\u001b[1;32m      3\u001b[0m \u001b[38;5;28;01mfor\u001b[39;00m cols \u001b[38;5;129;01min\u001b[39;00m cat_cols:\n\u001b[0;32m----> 4\u001b[0m     data[cols] \u001b[38;5;241m=\u001b[39m en\u001b[38;5;241m.\u001b[39mfit_transform(data[cols])\n\u001b[1;32m      6\u001b[0m \u001b[38;5;28mprint\u001b[39m(\u001b[38;5;124m'\u001b[39m\u001b[38;5;124mDataframe encoded by Label encoding dimension : \u001b[39m\u001b[38;5;124m'\u001b[39m, encoded_data\u001b[38;5;241m.\u001b[39mshape)\n",
      "File \u001b[0;32m/opt/anaconda3/lib/python3.12/site-packages/sklearn/preprocessing/_label.py:115\u001b[0m, in \u001b[0;36mLabelEncoder.fit_transform\u001b[0;34m(self, y)\u001b[0m\n\u001b[1;32m    102\u001b[0m \u001b[38;5;250m\u001b[39m\u001b[38;5;124;03m\"\"\"Fit label encoder and return encoded labels.\u001b[39;00m\n\u001b[1;32m    103\u001b[0m \n\u001b[1;32m    104\u001b[0m \u001b[38;5;124;03mParameters\u001b[39;00m\n\u001b[0;32m   (...)\u001b[0m\n\u001b[1;32m    112\u001b[0m \u001b[38;5;124;03m    Encoded labels.\u001b[39;00m\n\u001b[1;32m    113\u001b[0m \u001b[38;5;124;03m\"\"\"\u001b[39;00m\n\u001b[1;32m    114\u001b[0m y \u001b[38;5;241m=\u001b[39m column_or_1d(y, warn\u001b[38;5;241m=\u001b[39m\u001b[38;5;28;01mTrue\u001b[39;00m)\n\u001b[0;32m--> 115\u001b[0m \u001b[38;5;28mself\u001b[39m\u001b[38;5;241m.\u001b[39mclasses_, y \u001b[38;5;241m=\u001b[39m _unique(y, return_inverse\u001b[38;5;241m=\u001b[39m\u001b[38;5;28;01mTrue\u001b[39;00m)\n\u001b[1;32m    116\u001b[0m \u001b[38;5;28;01mreturn\u001b[39;00m y\n",
      "File \u001b[0;32m/opt/anaconda3/lib/python3.12/site-packages/sklearn/utils/_encode.py:42\u001b[0m, in \u001b[0;36m_unique\u001b[0;34m(values, return_inverse, return_counts)\u001b[0m\n\u001b[1;32m     11\u001b[0m \u001b[38;5;250m\u001b[39m\u001b[38;5;124;03m\"\"\"Helper function to find unique values with support for python objects.\u001b[39;00m\n\u001b[1;32m     12\u001b[0m \n\u001b[1;32m     13\u001b[0m \u001b[38;5;124;03mUses pure python method for object dtype, and numpy method for\u001b[39;00m\n\u001b[0;32m   (...)\u001b[0m\n\u001b[1;32m     39\u001b[0m \u001b[38;5;124;03m    array. Only provided if `return_counts` is True.\u001b[39;00m\n\u001b[1;32m     40\u001b[0m \u001b[38;5;124;03m\"\"\"\u001b[39;00m\n\u001b[1;32m     41\u001b[0m \u001b[38;5;28;01mif\u001b[39;00m values\u001b[38;5;241m.\u001b[39mdtype \u001b[38;5;241m==\u001b[39m \u001b[38;5;28mobject\u001b[39m:\n\u001b[0;32m---> 42\u001b[0m     \u001b[38;5;28;01mreturn\u001b[39;00m _unique_python(\n\u001b[1;32m     43\u001b[0m         values, return_inverse\u001b[38;5;241m=\u001b[39mreturn_inverse, return_counts\u001b[38;5;241m=\u001b[39mreturn_counts\n\u001b[1;32m     44\u001b[0m     )\n\u001b[1;32m     45\u001b[0m \u001b[38;5;66;03m# numerical\u001b[39;00m\n\u001b[1;32m     46\u001b[0m \u001b[38;5;28;01mreturn\u001b[39;00m _unique_np(\n\u001b[1;32m     47\u001b[0m     values, return_inverse\u001b[38;5;241m=\u001b[39mreturn_inverse, return_counts\u001b[38;5;241m=\u001b[39mreturn_counts\n\u001b[1;32m     48\u001b[0m )\n",
      "File \u001b[0;32m/opt/anaconda3/lib/python3.12/site-packages/sklearn/utils/_encode.py:179\u001b[0m, in \u001b[0;36m_unique_python\u001b[0;34m(values, return_inverse, return_counts)\u001b[0m\n\u001b[1;32m    177\u001b[0m \u001b[38;5;28;01mexcept\u001b[39;00m \u001b[38;5;167;01mTypeError\u001b[39;00m:\n\u001b[1;32m    178\u001b[0m     types \u001b[38;5;241m=\u001b[39m \u001b[38;5;28msorted\u001b[39m(t\u001b[38;5;241m.\u001b[39m\u001b[38;5;18m__qualname__\u001b[39m \u001b[38;5;28;01mfor\u001b[39;00m t \u001b[38;5;129;01min\u001b[39;00m \u001b[38;5;28mset\u001b[39m(\u001b[38;5;28mtype\u001b[39m(v) \u001b[38;5;28;01mfor\u001b[39;00m v \u001b[38;5;129;01min\u001b[39;00m values))\n\u001b[0;32m--> 179\u001b[0m     \u001b[38;5;28;01mraise\u001b[39;00m \u001b[38;5;167;01mTypeError\u001b[39;00m(\n\u001b[1;32m    180\u001b[0m         \u001b[38;5;124m\"\u001b[39m\u001b[38;5;124mEncoders require their input argument must be uniformly \u001b[39m\u001b[38;5;124m\"\u001b[39m\n\u001b[1;32m    181\u001b[0m         \u001b[38;5;124mf\u001b[39m\u001b[38;5;124m\"\u001b[39m\u001b[38;5;124mstrings or numbers. Got \u001b[39m\u001b[38;5;132;01m{\u001b[39;00mtypes\u001b[38;5;132;01m}\u001b[39;00m\u001b[38;5;124m\"\u001b[39m\n\u001b[1;32m    182\u001b[0m     )\n\u001b[1;32m    183\u001b[0m ret \u001b[38;5;241m=\u001b[39m (uniques,)\n\u001b[1;32m    185\u001b[0m \u001b[38;5;28;01mif\u001b[39;00m return_inverse:\n",
      "\u001b[0;31mTypeError\u001b[0m: Encoders require their input argument must be uniformly strings or numbers. Got ['float', 'str']"
     ]
    }
   ],
   "source": [
    "en = LabelEncoder()\n",
    "\n",
    "for cols in cat_cols:\n",
    "    data[cols] = en.fit_transform(data[cols])\n",
    "\n",
    "print('Dataframe encoded by Label encoding dimension : ', encoded_data.shape)"
   ]
  }
 ],
 "metadata": {
  "kernelspec": {
   "display_name": "base",
   "language": "python",
   "name": "python3"
  },
  "language_info": {
   "codemirror_mode": {
    "name": "ipython",
    "version": 3
   },
   "file_extension": ".py",
   "mimetype": "text/x-python",
   "name": "python",
   "nbconvert_exporter": "python",
   "pygments_lexer": "ipython3",
   "version": "3.12.5"
  }
 },
 "nbformat": 4,
 "nbformat_minor": 2
}
