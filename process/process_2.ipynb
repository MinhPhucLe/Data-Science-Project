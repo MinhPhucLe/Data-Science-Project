{
 "cells": [
  {
   "cell_type": "code",
   "execution_count": 3,
   "metadata": {
    "ExecuteTime": {
     "end_time": "2024-12-16T12:55:12.556180Z",
     "start_time": "2024-12-16T12:55:12.553817Z"
    }
   },
   "outputs": [],
   "source": [
    "import os\n",
    "import re\n",
    "import pandas as pd\n",
    "from pandas import DataFrame"
   ]
  },
  {
   "cell_type": "code",
   "execution_count": 4,
   "metadata": {
    "ExecuteTime": {
     "end_time": "2024-12-16T12:55:12.575297Z",
     "start_time": "2024-12-16T12:55:12.571779Z"
    }
   },
   "outputs": [],
   "source": [
    "# Define the folder containing the CSV files\n",
    "FOLDER_PATH = '../Dai'\n",
    "CSV_FILE = '../dai_combined.csv'"
   ]
  },
  {
   "cell_type": "code",
   "execution_count": 5,
   "metadata": {
    "ExecuteTime": {
     "end_time": "2024-12-16T12:55:12.600572Z",
     "start_time": "2024-12-16T12:55:12.586467Z"
    }
   },
   "outputs": [],
   "source": [
    " # List to hold dataframes\n",
    "dfs = []\n",
    "\n",
    "# Iterate over all files in the folder\n",
    "for filename in os.listdir(FOLDER_PATH):\n",
    "    if filename.endswith('.csv'):\n",
    "        file_path = os.path.join(FOLDER_PATH, filename)\n",
    "        # Read the CSV file into a dataframe\n",
    "        df = pd.read_csv(file_path)\n",
    "        # Append the dataframe to the list\n",
    "        dfs.append(df)\n",
    "\n",
    "# Concatenate all dataframes\n",
    "combined_df = pd.concat(dfs, ignore_index=True)\n",
    "\n",
    "# Drop unnecessary columns \n",
    "combined_df = combined_df.drop(columns=['page', 'name', 'link'])"
   ]
  },
  {
   "cell_type": "code",
   "execution_count": 6,
   "metadata": {
    "ExecuteTime": {
     "end_time": "2024-12-16T12:55:12.620168Z",
     "start_time": "2024-12-16T12:55:12.612176Z"
    }
   },
   "outputs": [
    {
     "data": {
      "text/html": [
       "<div>\n",
       "<style scoped>\n",
       "    .dataframe tbody tr th:only-of-type {\n",
       "        vertical-align: middle;\n",
       "    }\n",
       "\n",
       "    .dataframe tbody tr th {\n",
       "        vertical-align: top;\n",
       "    }\n",
       "\n",
       "    .dataframe thead th {\n",
       "        text-align: right;\n",
       "    }\n",
       "</style>\n",
       "<table border=\"1\" class=\"dataframe\">\n",
       "  <thead>\n",
       "    <tr style=\"text-align: right;\">\n",
       "      <th></th>\n",
       "      <th>brand</th>\n",
       "      <th>price</th>\n",
       "      <th>old</th>\n",
       "      <th>new</th>\n",
       "      <th>cpu</th>\n",
       "      <th>cpu_brand</th>\n",
       "      <th>ram_capacity</th>\n",
       "      <th>ram_brand</th>\n",
       "      <th>hard_drive_type</th>\n",
       "      <th>hard_drive_capacity</th>\n",
       "      <th>card</th>\n",
       "      <th>card_brand</th>\n",
       "      <th>screen_size</th>\n",
       "      <th>screen_type</th>\n",
       "    </tr>\n",
       "  </thead>\n",
       "  <tbody>\n",
       "    <tr>\n",
       "      <th>0</th>\n",
       "      <td>Laptop Asus</td>\n",
       "      <td>26990000.0</td>\n",
       "      <td>0</td>\n",
       "      <td>1</td>\n",
       "      <td>Intel Core Ultra 5 125H</td>\n",
       "      <td>Intel</td>\n",
       "      <td>16.0</td>\n",
       "      <td>DDR5</td>\n",
       "      <td>SSD</td>\n",
       "      <td>512GB</td>\n",
       "      <td>Intel Arc Graphics</td>\n",
       "      <td>Intel</td>\n",
       "      <td>14.0</td>\n",
       "      <td>OLED</td>\n",
       "    </tr>\n",
       "    <tr>\n",
       "      <th>1</th>\n",
       "      <td>Lenovo</td>\n",
       "      <td>16390000.0</td>\n",
       "      <td>0</td>\n",
       "      <td>1</td>\n",
       "      <td>AMD Ryzen 77730U</td>\n",
       "      <td>AMD</td>\n",
       "      <td>16.0</td>\n",
       "      <td>DDR4</td>\n",
       "      <td>SSD</td>\n",
       "      <td>512GB</td>\n",
       "      <td>AMD Radeon Graphics</td>\n",
       "      <td>AMD</td>\n",
       "      <td>15.6</td>\n",
       "      <td>HD</td>\n",
       "    </tr>\n",
       "    <tr>\n",
       "      <th>2</th>\n",
       "      <td>Laptop ASUS</td>\n",
       "      <td>28990000.0</td>\n",
       "      <td>0</td>\n",
       "      <td>1</td>\n",
       "      <td>Intel Core Ultra 5 125H</td>\n",
       "      <td>Intel</td>\n",
       "      <td>16.0</td>\n",
       "      <td>DDR5</td>\n",
       "      <td>SSD</td>\n",
       "      <td>512GB</td>\n",
       "      <td>Intel Arc Graphics</td>\n",
       "      <td>Intel</td>\n",
       "      <td>14.0</td>\n",
       "      <td>OLED</td>\n",
       "    </tr>\n",
       "    <tr>\n",
       "      <th>3</th>\n",
       "      <td>Laptop LG</td>\n",
       "      <td>36290000.0</td>\n",
       "      <td>0</td>\n",
       "      <td>1</td>\n",
       "      <td>Intel Core Ultra 5 125H</td>\n",
       "      <td>Intel</td>\n",
       "      <td>16.0</td>\n",
       "      <td>DDR5</td>\n",
       "      <td>SSD</td>\n",
       "      <td>512GB</td>\n",
       "      <td>Intel Arc graphics</td>\n",
       "      <td>Intel</td>\n",
       "      <td>14.0</td>\n",
       "      <td>IPS</td>\n",
       "    </tr>\n",
       "    <tr>\n",
       "      <th>4</th>\n",
       "      <td>Laptop Dell</td>\n",
       "      <td>18990000.0</td>\n",
       "      <td>0</td>\n",
       "      <td>1</td>\n",
       "      <td>Intel Core 5 processor 120U</td>\n",
       "      <td>Intel</td>\n",
       "      <td>8.0</td>\n",
       "      <td>DDR5</td>\n",
       "      <td>SSD</td>\n",
       "      <td>512GB</td>\n",
       "      <td>Intel Graphics</td>\n",
       "      <td>Intel</td>\n",
       "      <td>14.0</td>\n",
       "      <td>HD</td>\n",
       "    </tr>\n",
       "  </tbody>\n",
       "</table>\n",
       "</div>"
      ],
      "text/plain": [
       "         brand       price  old  new                           cpu cpu_brand  \\\n",
       "0  Laptop Asus  26990000.0    0    1      Intel Core Ultra 5 125H      Intel   \n",
       "1       Lenovo  16390000.0    0    1             AMD Ryzen 77730U        AMD   \n",
       "2  Laptop ASUS  28990000.0    0    1      Intel Core Ultra 5 125H      Intel   \n",
       "3    Laptop LG  36290000.0    0    1      Intel Core Ultra 5 125H      Intel   \n",
       "4  Laptop Dell  18990000.0    0    1  Intel Core 5 processor 120U      Intel   \n",
       "\n",
       "   ram_capacity ram_brand hard_drive_type hard_drive_capacity  \\\n",
       "0          16.0      DDR5             SSD               512GB   \n",
       "1          16.0      DDR4             SSD               512GB   \n",
       "2          16.0      DDR5             SSD               512GB   \n",
       "3          16.0      DDR5             SSD               512GB   \n",
       "4           8.0      DDR5             SSD               512GB   \n",
       "\n",
       "                  card card_brand  screen_size screen_type  \n",
       "0   Intel Arc Graphics      Intel         14.0        OLED  \n",
       "1  AMD Radeon Graphics        AMD         15.6          HD  \n",
       "2   Intel Arc Graphics      Intel         14.0        OLED  \n",
       "3   Intel Arc graphics      Intel         14.0         IPS  \n",
       "4       Intel Graphics      Intel         14.0          HD  "
      ]
     },
     "execution_count": 6,
     "metadata": {},
     "output_type": "execute_result"
    }
   ],
   "source": [
    "combined_df.head()"
   ]
  },
  {
   "cell_type": "code",
   "execution_count": 7,
   "metadata": {
    "ExecuteTime": {
     "end_time": "2024-12-16T12:55:13.130218Z",
     "start_time": "2024-12-16T12:55:13.127939Z"
    }
   },
   "outputs": [],
   "source": [
    "def print_unique_values_with_counts(df: DataFrame, column: str, prefix: str):\n",
    "    print(prefix)\n",
    "    print(f\"Column: {column}\")\n",
    "    print(\"Unique Values and Counts:\")\n",
    "    print(df[column].value_counts())\n",
    "    print(f\"Total Count: {df[column].count()}\")\n",
    "    print(\"-\" * 100)"
   ]
  },
  {
   "cell_type": "code",
   "execution_count": 8,
   "metadata": {
    "ExecuteTime": {
     "end_time": "2024-12-16T12:55:13.144697Z",
     "start_time": "2024-12-16T12:55:13.141966Z"
    }
   },
   "outputs": [],
   "source": [
    "from mapping_brand import brand_mapping\n",
    "\n",
    "def process_brand(data: DataFrame, column='brand') -> DataFrame:\n",
    "    data[column] = data[column].str.replace('Laptop ', '', regex=False)\n",
    "    data = data[~data[column].isin(['Máy', 'Creator', 'Stealth', 'Gaming', 'Laptop', 'Samsung','Aspire'])]\n",
    "    data[column] = data[column].replace(brand_mapping) \n",
    "\n",
    "    return data"
   ]
  },
  {
   "cell_type": "code",
   "execution_count": 9,
   "metadata": {
    "ExecuteTime": {
     "end_time": "2024-12-16T12:55:13.167206Z",
     "start_time": "2024-12-16T12:55:13.163624Z"
    }
   },
   "outputs": [],
   "source": [
    "from mapping_cpu import cpu_mapping\n",
    "\n",
    "def process_cpu(data: DataFrame, column='cpu') -> DataFrame:\n",
    "    data['cpu'] = data['cpu'].astype(str)\n",
    "    data['cpu'] = data['cpu'].replace(cpu_mapping)\n",
    "    data['cpu'] = data['cpu'].apply(lambda x: re.sub(r'[\\xa0]', ' ', x) if isinstance(x, str) else x)\n",
    "    data['cpu'] = data['cpu'].apply(lambda x: x.strip())\n",
    "    return data"
   ]
  },
  {
   "cell_type": "code",
   "execution_count": 10,
   "metadata": {
    "ExecuteTime": {
     "end_time": "2024-12-16T12:55:13.206704Z",
     "start_time": "2024-12-16T12:55:13.203965Z"
    }
   },
   "outputs": [
    {
     "ename": "SyntaxError",
     "evalue": "unterminated string literal (detected at line 10) (2235943121.py, line 10)",
     "output_type": "error",
     "traceback": [
      "\u001b[0;36m  Cell \u001b[0;32mIn[10], line 10\u001b[0;36m\u001b[0m\n\u001b[0;31m    'Intel UHD Graphics (Iris Xe Graphics chỉ hoạt động với RAM kênh đôi)''])]\u001b[0m\n\u001b[0m                                                                          ^\u001b[0m\n\u001b[0;31mSyntaxError\u001b[0m\u001b[0;31m:\u001b[0m unterminated string literal (detected at line 10)\n"
     ]
    }
   ],
   "source": [
    "from mapping_card import card_mapping\n",
    "\n",
    "def process_card(data: DataFrame, column='card') -> DataFrame:\n",
    "    data['card'] = data['card'].replace(card_mapping)\n",
    "    data['card'] = data['card'].astype(str)\n",
    "    data['card'] = data['card'].apply(lambda x: re.sub(r'(Card rời\\-\\s?|Card tích hợp\\-\\s?)', '', x) if isinstance(x, str) else x)\n",
    "    data['card'] = data['card'].apply(lambda x: re.sub(r'[\\xa0]', ' ', x) if isinstance(x, str) else x)\n",
    "    data['card'] = data['card'].apply(lambda x: x.strip())\n",
    "    data = data[~data['card'].isin(['Một cp su ty chọn. Dễ dng kết nối với mn hnh 4K hoặc 1080P ngoi bằng HDMI hoặc VGA mạng RJ45 c dy hai thiết bị USBA v nguồn điện USBC  tất cả thng qua một cp USBC duy nhất ẩn bn trong thiết kế tối giản',\n",
    "     'Intel UHD Graphics (Iris Xe Graphics chỉ hoạt động với RAM kênh đôi)''])]\n",
    "    return data"
   ]
  },
  {
   "cell_type": "code",
   "execution_count": null,
   "metadata": {},
   "outputs": [],
   "source": [
    "from mapping_screen_type import screen_type_mapping\n",
    "\n",
    "def process_screen_type(data: DataFrame, column='screen_type') -> DataFrame:\n",
    "    data['screen_type'] = data['screen_type'].replace(screen_type_mapping)\n",
    "    return data"
   ]
  },
  {
   "cell_type": "code",
   "execution_count": null,
   "metadata": {},
   "outputs": [
    {
     "name": "stdout",
     "output_type": "stream",
     "text": [
      "BEFORE\n",
      "Column: screen_type\n",
      "Unique Values and Counts:\n",
      "screen_type\n",
      "HD         509\n",
      "IPS        287\n",
      "Full HD    169\n",
      "OLED        54\n",
      "8K          51\n",
      "2K          44\n",
      "WUXGA       40\n",
      "2.8K        35\n",
      "Retina      22\n",
      "QHD          9\n",
      "TFT          6\n",
      "3.2K         2\n",
      "4K/UHD       2\n",
      "WQHD         1\n",
      "2.2K         1\n",
      "2.5K         1\n",
      "Name: count, dtype: int64\n",
      "Total Count: 1233\n",
      "----------------------------------------------------------------------------------------------------\n",
      "AFTER\n",
      "Column: screen_type\n",
      "Unique Values and Counts:\n",
      "screen_type\n",
      "HD         509\n",
      "IPS        287\n",
      "Full HD    169\n",
      "OLED        54\n",
      "8K          51\n",
      "2K          44\n",
      "WUXGA       40\n",
      "2.8K        35\n",
      "Retina      22\n",
      "QHD          9\n",
      "TFT          6\n",
      "3.2K         2\n",
      "4K/UHD       2\n",
      "WQHD         1\n",
      "2.2K         1\n",
      "2.5K         1\n",
      "Name: count, dtype: int64\n",
      "Total Count: 1233\n",
      "----------------------------------------------------------------------------------------------------\n"
     ]
    }
   ],
   "source": [
    "#Process screen type\n",
    "print_unique_values_with_counts(combined_df, column='screen_type', prefix='BEFORE')\n",
    "combined_df = process_screen_type(combined_df)\n",
    "print_unique_values_with_counts(combined_df, column='screen_type', prefix='AFTER')\n"
   ]
  },
  {
   "cell_type": "code",
   "execution_count": null,
   "metadata": {},
   "outputs": [
    {
     "name": "stdout",
     "output_type": "stream",
     "text": [
      "['OLED' 'HD' 'IPS' '8K' '2K' nan 'TFT' 'WQHD' 'Full HD' 'Retina' 'WUXGA'\n",
      " '2.8K' '3.2K' 'QHD' '2.2K' '2.5K' '4K/UHD']\n"
     ]
    }
   ],
   "source": [
    "print(combined_df['screen_type'].unique())"
   ]
  },
  {
   "cell_type": "code",
   "execution_count": null,
   "metadata": {},
   "outputs": [
    {
     "name": "stdout",
     "output_type": "stream",
     "text": [
      "BEFORE\n",
      "Column: card\n",
      "Unique Values and Counts:\n",
      "card\n",
      "Intel Iris Xe Graphics                      185\n",
      "Intel UHD Graphics                          123\n",
      "Intel Arc Graphics                          105\n",
      "Intel Graphics                              102\n",
      "NVIDIA GeForce RTX 4060 8GB GDDR6            76\n",
      "                                           ... \n",
      "Card tích hợp- 18 nhân GPU                    1\n",
      "Card rời- NVIDIA GeForce RTX A500, 4 GB       1\n",
      "Card rời- NVIDIA GeForce RTX 4090, 16 GB      1\n",
      "AMD Radeon RX7600S 8GB GDDR6                  1\n",
      "NVIDIA GeForce RTX 3050Ti 4GB GDDR6           1\n",
      "Name: count, Length: 103, dtype: int64\n",
      "Total Count: 1312\n",
      "----------------------------------------------------------------------------------------------------\n",
      "AFTER\n",
      "Column: card\n",
      "Unique Values and Counts:\n",
      "card\n",
      "Intel Iris Xe Graphics                272\n",
      "Intel Arc Graphics                    163\n",
      "Intel UHD Graphics                    148\n",
      "Intel Graphics                        142\n",
      "NVIDIA GeForce RTX 4060                76\n",
      "                                     ... \n",
      "NVIDIA GeForce RTX A500, 4 GB           1\n",
      "NVIDIA GeForce RTX 4090, 16 GB          1\n",
      "AMD Radeon RX 7600S                     1\n",
      "NVIDIA GeForce RTX  4060 8GB GDDR6      1\n",
      "NVIDIA GeForce RTX 3050 Ti              1\n",
      "Name: count, Length: 78, dtype: int64\n",
      "Total Count: 1289\n",
      "----------------------------------------------------------------------------------------------------\n"
     ]
    }
   ],
   "source": [
    "#Process card\n",
    "print_unique_values_with_counts(combined_df, column='card', prefix='BEFORE')\n",
    "combined_df = process_card(combined_df)\n",
    "print_unique_values_with_counts(combined_df, column='card', prefix='AFTER')\n",
    "# print(combined_df['card'].unique())"
   ]
  },
  {
   "cell_type": "code",
   "execution_count": null,
   "metadata": {},
   "outputs": [
    {
     "name": "stdout",
     "output_type": "stream",
     "text": [
      "['Intel Arc Graphics' 'AMD Radeon Graphics' 'Intel Graphics'\n",
      " 'AMD Radeon 890M Graphics' 'Intel Iris Xe Graphics'\n",
      " 'NVIDIA GeForce RTX 3050' 'NVIDIA GeForce RTX 4050' 'Intel UHD Graphics'\n",
      " 'Intel Arc A-Series 140V' 'Intel Arc A-Series 130V' 'NVIDIA RTX 500 Ada'\n",
      " 'AMD Radeon 760M Graphics' 'AMD 780M Graphics' 'AMD Radeon 880M Graphics'\n",
      " 'NVIDIA RTX A500' 'Qualcomm Adreno GPU' 'Intel Arc 140V Graphics'\n",
      " 'NVIDIA RTX A1000' 'NVIDIA RTX 1000 Ada Generation 6GB GDDR6'\n",
      " 'AMD Radeon graphics' 'NVIDIA GeForce MX570' 'NVIDIA GeForce RTX 4060'\n",
      " 'NVIDIA GeForce RTX 4070' 'Intel HD Graphics' 'AMD Radeon 780M Graphics'\n",
      " 'AMD Radeon 780M' 'AMD Radeon 660M Graphics' 'AMD Radeon 610M Graphics'\n",
      " 'NVIDIA GeForce MX570A' 'NVIDIA GeForce RTX 2050' 'NVIDIA GeForce MX550'\n",
      " 'NVIDIA GeForce RTX 3050 4GB DDR6' 'Intel Iris Xe graphics' '7 nhân GPU'\n",
      " '10 nhân GPU' '8 nhân GPU' 'NVIDIA GeForce RTX 3050, 6 GB'\n",
      " 'NVIDIA GeForce RTX 2050, 4 GB' 'NVIDIA GeForce RTX 4050, 6 GB'\n",
      " 'NVIDIA GeForce RTX 4060, 8 GB' 'NVIDIA GeForce RTX 3050, 4 GB'\n",
      " 'NVIDIA GeForce RTX 3050Ti, 4 GB' 'AMD Radeon RX 6550M, 4 GB'\n",
      " 'NVIDIA GeForce RTX 4070, 8 GB' 'NVIDIA GeForce MX550 2 GB'\n",
      " 'NVIDIA Geforce MX570A, 2 GB' 'Intel Arc Graphics 130V' 'Intel Arc 140V'\n",
      " '16 nhân GPU' '20 nhân GPU' '18 nhân GPU' '32 nhân GPU'\n",
      " 'NVIDIA GeForce RTX A500, 4 GB' 'NVIDIA GeForce RTX 4090, 16 GB'\n",
      " 'NVIDIA GeForce RTX 3050 4GB GDDR6' 'AMD Radeon RX 7600S'\n",
      " 'NVIDIA GeForce RTX  4060 8GB GDDR6' 'NNVIDIA GeForce RTX 4060 8GB GDDR6'\n",
      " 'NVIDIA RTX 2000 Ada' 'NVIDIA GeForce RTX 4070 8GB GDDR6 140W TGP'\n",
      " 'AMD Radeon RX 6550M 4GB' 'NVIDIA GeForce RTX 4080'\n",
      " 'NNVIDIA GeForce RTX 4070 8GB GDDR6' 'NVIDIA GeForce RTX 3060 6GB GDDR6'\n",
      " 'NVIDIA GeForce RTX 4090' 'NVIDIA GeForce RTX 2000 Ada 8GB GDDR6'\n",
      " 'NVIDIA GeForce RTX 4060 8GBGDDR6' 'NVIDIAGeForce RTX 4060 8GB GDDR6'\n",
      " 'NVIDIA GeForce RTX 4050 6GB GDDR6' 'AMD Radeon RX 7700S'\n",
      " 'NVIDIA GeForce RTX 4060 8GB GDDR6 140W TGP'\n",
      " 'NVIDIA GeForce RTX 4050 6GB GDDR6 140W TGP'\n",
      " 'NVIDIA GeForce RTX 4060 8GB GDDR6' 'NVIDIA GeForce RTX 4070 8GB GDDR6'\n",
      " 'NVIDIA GeForce RTX 2000 8GB GDDR6' 'NVIDIA RTX 2000 Ada 8GB'\n",
      " 'AMD Radeon' 'NVIDIA GeForce RTX 3050 Ti']\n"
     ]
    }
   ],
   "source": [
    "print(combined_df['card'].unique())"
   ]
  },
  {
   "cell_type": "code",
   "execution_count": null,
   "metadata": {},
   "outputs": [
    {
     "name": "stdout",
     "output_type": "stream",
     "text": [
      "BEFORE\n",
      "Column: cpu\n",
      "Unique Values and Counts:\n",
      "cpu\n",
      "Intel Core Ultra 7 155H     115\n",
      "Intel Core i71355U           86\n",
      "Intel Core i51335U           67\n",
      "Intel Core Ultra 5 125H      51\n",
      "Intel Core i713620H          35\n",
      "                           ... \n",
      "Intel Core i71365U            1\n",
      "Intel Core i51230U            1\n",
      "Intel Core  i713700H          1\n",
      "Intel Core i51235U            1\n",
      "AMD Ryzen Z1 Extreme          1\n",
      "Name: count, Length: 188, dtype: int64\n",
      "Total Count: 1289\n",
      "----------------------------------------------------------------------------------------------------\n",
      "AFTER\n",
      "Column: cpu\n",
      "Unique Values and Counts:\n",
      "cpu\n",
      "Intel Core Ultra 7 155H            115\n",
      "Intel Core i71355U                  86\n",
      "Intel Core i51335U                  68\n",
      "Intel Core Ultra 5 125H             51\n",
      "Intel Core i713620H                 35\n",
      "                                  ... \n",
      "Intel Core i5 Tiger Lake 1155G7      1\n",
      "Intel Core i7 Alder Lake 1260P       1\n",
      "Intel Core i3 Tiger Lake 1115G4      1\n",
      "Intel Core i7 Alder Lake 12650H      1\n",
      "AMD Ryzen Z1 Extreme                 1\n",
      "Name: count, Length: 175, dtype: int64\n",
      "Total Count: 1289\n",
      "----------------------------------------------------------------------------------------------------\n",
      "['Intel Core Ultra 5 125H' 'AMD Ryzen 77730U'\n",
      " 'Intel Core 5 processor 120U' 'AMD Ryzen AI 9 HX 370'\n",
      " 'Intel Core Ultra 7 155H' 'Intel Core 5 120U' 'Intel Core i712700H'\n",
      " 'Intel Core i513500H' 'Intel Core i51340P' 'Intel Core Ultra 7 155U'\n",
      " 'Intel Core Ultra 5 125U' 'Intel Core i513420H' 'Intel Core Ultra 5 226V'\n",
      " 'Intel Core Ultra 7 258V' 'Intel Core Ultra 7 165U'\n",
      " 'Intel Core Ultra 5 135U' 'Intel Core i71355U' 'Intel Core i51334U'\n",
      " 'AMD Ryzen 5 5625U' 'AMD Ryzen 58640HS' 'Intel Core 5120U'\n",
      " 'Intel Core 7150U' 'Intel Core i51235U' 'Intel Core i31215U'\n",
      " 'Intel Core i31315U' 'Intel Core i51335U' 'Intel Core Ultra 9 185H'\n",
      " 'Intel Core 7 150U' 'Intel Core Ultra 5125U' 'Intel Core i713620H'\n",
      " 'Intel Core Ultra 7 Processor 258V' 'Intel Core Ultra 5 Processor 226V'\n",
      " 'Intel Core i713700H' 'Intel Core i71265U' 'Intel Core Ultra 5 135U vPro'\n",
      " 'Intel Core Ultra 7 165U vPro' 'Intel Core Ultra 5 226V 16GB'\n",
      " 'AMD Ryzen 78840HS' 'Intel Core i71255U' 'AMD Ryzen 78745H'\n",
      " 'Intel Core Ultra 7155U' 'AMD Ryzen 7 7730U' 'AMD Ryzen 5 7430U'\n",
      " 'AMD Ryzen AI 9 365' 'Snapdragon X Plus X1P42100' 'Intel Core i71360P'\n",
      " 'Intel Core i71250U' 'AMD Ryzen 75700U' 'Intel Core Ultra 7165U'\n",
      " 'Intel Core Ultra 7 258V 32GB' 'Snapdragon X Elite X1E 78 100 Processor'\n",
      " 'AMD Ryzen 78845H' 'Intel Core i31305U' 'Intel Core 7 processor 150U'\n",
      " 'AMD Ryzen 5 8640HS' 'Intel Core i913900H' 'Intel Core i512500H'\n",
      " 'Intel Core 3100U' 'AMD Ryzen 57530U' 'Intel Core i3N305'\n",
      " 'AMD Ryzen 78845HS' 'AMD Ryzen 7 PRO 7840U' 'Intel Core Ultra 5125H'\n",
      " 'Intel Core Ultra 7155H' 'AMD Ryzen 57535U' 'AMD Ryzen 57535HS'\n",
      " 'AMD Ryzen 5 7530U' 'AMD Ryzen 5 7520U' 'Intel Core i51155G7'\n",
      " 'Intel Core i5120U' 'Intel Core  Ultra 5 125H' 'Intel Core i51355U'\n",
      " 'Intel Core  i513420H' 'Intel Core  i713700H' 'Intel Core i512450H'\n",
      " 'Intel Core i51230U' 'Intel Core i71365U' 'Intel Core i712650H'\n",
      " 'AMD Ryzen 57520U' 'Intel Core i5 Alder Lake 1235U'\n",
      " 'Intel Core i5 Alder Lake 12450H' 'AMD Ryzen 7 5700U'\n",
      " 'Intel Core i3 Raptor Lake 1315U' 'Apple M1'\n",
      " 'Intel Core i3 Alder Lake 1215U' 'Apple M3' 'Apple M2'\n",
      " 'Intel Core i5 Alder Lake 12500H' 'Intel Core i5 Raptor Lake 1334U'\n",
      " 'Intel Core i5 Alder Lake 12450HX' 'Intel Core i5 Raptor Lake 1335U'\n",
      " 'Intel Core i5 Tiger Lake 1135G7' 'Intel Core i7 Raptor Lake 13620H'\n",
      " 'Intel Core i5 Raptor Lake 13500HX' 'Intel Core i5 120U'\n",
      " 'Intel Core i5 Raptor Lake 13420H' 'Intel Core Ultra 5 Meteor Lake 125H'\n",
      " 'Intel Core i7 Raptor Lake 1355U' 'AMD Ryzen 5 7535HS'\n",
      " 'Intel Core i5 Alder Lake 1240P' 'AMD Ryzen 7 7435HS'\n",
      " 'Intel Core i5 Raptor Lake 13500H' 'Intel Core i7 Alder Lake 12650H'\n",
      " 'Intel Core i7 Alder Lake 12700H' 'Intel Core Ultra 7 Meteor Lake 155H'\n",
      " 'Intel Core i3 Tiger Lake 1115G4' 'Intel Core i7 Alder Lake 1260P'\n",
      " 'Intel Core Ultra 5 Meteor Lake 125U' 'Intel Core i7 Alder Lake 1255U'\n",
      " 'Intel Core i5 Tiger Lake 1155G7' 'Intel Core Ultra 7 Meteor Lake 155U'\n",
      " 'AMD Ryzen 7 8845HS' 'Intel Core i7 Raptor Lake 13650HX'\n",
      " 'Intel Core Ultra 9 Meteor Lake 185H' 'Intel Core i9 Raptor Lake 14900HX'\n",
      " 'Intel Core i7 150U' 'AMD Ryzen 9 AI HX 370'\n",
      " 'Intel Core i7 Raptor Lake 14650HX' 'Intel Core i7 Raptor Lake 13700H'\n",
      " 'Intel Core i9 Raptor Lake 13900H' 'AMD Ryzen 5 7640HS'\n",
      " 'Intel Core Ultra 5 Lunar Lake 226V' 'AMD Ryzen 7 7735HS'\n",
      " 'Intel Core i7 Raptor Lake 14700HX' 'Intel Core Ultra 7 Lunar Lake 258V'\n",
      " 'Snapdragon X Elite X1E 78 100' 'Snapdragon X Plus X1P 42 100'\n",
      " 'AMD Ryzen 7 8840HS' 'AMD Ryzen 7 7840HS'\n",
      " 'Intel Core i9 Raptor Lake 13900HX' 'Intel Core Ultra 9 Lunar Lake 288V'\n",
      " 'Apple M4 Pro' 'Intel Core i5 Raptor Lake 1340P' 'Intel Celeron- N4500'\n",
      " 'AMD Ryzen 9 7940HS' 'Apple M3 Pro' 'Celeron - N4500' 'Apple M4 Max'\n",
      " 'Intel Core i5 Raptor Lake 13450HX' 'Intel Core i7 Raptor Lake 13800H'\n",
      " 'AMD Ryzen 9 8945HS' 'Intel Core Ultra 5 Meteor Lake 135U'\n",
      " 'Intel Core Ultra 7 Meteor Lake 165U' 'AMD Ryzen 5 8645HS'\n",
      " 'Intel Core i713650HX' 'Intel Core i914900HX' 'Intel Core i714650HX'\n",
      " 'AMD Ryzen 77435HS' 'AMD Ryzen 57235HS' 'Intel Core i512450HX'\n",
      " 'AMD Ryzen 98945HS' 'AMD Ryzen 56600H'\n",
      " 'Intel Core Ultra 7 165H vPro Enterprise' 'Intel Core i514450HX'\n",
      " 'Intel Core  Ultra 7 155H' 'AMD Ryzen 97945HX' 'AMD Ryzen 77735HS'\n",
      " 'AMD Ryzen 58645HS' 'AMD Ryzen 77840HS' 'Intel Core i513450HX'\n",
      " 'Intel Core i714700HX' 'Intel Core i913900HX' 'Intel Core i514500HX'\n",
      " 'AMD Ryzen 78840H' 'Intel Core i913980HX' 'Intel Core i713700HX'\n",
      " 'AMD Ryzen 77840H' 'Intel Core i913950HX' 'Intel Core i713850HX'\n",
      " 'Intel Core i913900H i913900H' 'Intel Core i713800H' 'Intel Core i71370P'\n",
      " 'AMD Ryzen 57640HS' 'AMD Ryzen 97940HS' 'AMD Ryzen Z1 Extreme']\n"
     ]
    }
   ],
   "source": [
    "#Process cpu\n",
    "print_unique_values_with_counts(combined_df, column='cpu', prefix='BEFORE')\n",
    "combined_df = process_cpu(combined_df)\n",
    "print_unique_values_with_counts(combined_df, column='cpu', prefix='AFTER')\n",
    "print(combined_df['cpu'].unique())\n"
   ]
  },
  {
   "cell_type": "code",
   "execution_count": null,
   "metadata": {},
   "outputs": [
    {
     "name": "stdout",
     "output_type": "stream",
     "text": [
      "BEFORE\n",
      "Column: brand\n",
      "Unique Values and Counts:\n",
      "brand\n",
      "Laptop Lenovo      348\n",
      "Laptop HP          187\n",
      "Laptop Dell        167\n",
      "Laptop Asus        146\n",
      "Laptop Acer        139\n",
      "Laptop MSI          77\n",
      "HP                  65\n",
      "Laptop ASUS         41\n",
      "Laptop MacBook      22\n",
      "Lenovo              21\n",
      "Dell                19\n",
      "Laptop LG           13\n",
      "Acer                12\n",
      "Laptop Gigabyte      9\n",
      "MSI                  5\n",
      "Gigabyte             5\n",
      "LG                   3\n",
      "Laptop Samsung       2\n",
      "Máy                  2\n",
      "Laptop Creator       2\n",
      "Laptop               1\n",
      "Laptop Stealth       1\n",
      "Laptop Gaming        1\n",
      "Laptop Aspire        1\n",
      "Name: count, dtype: int64\n",
      "Total Count: 1289\n",
      "----------------------------------------------------------------------------------------------------\n",
      "AFTER\n",
      "Column: brand\n",
      "Unique Values and Counts:\n",
      "brand\n",
      "Lenovo     369\n",
      "HP         252\n",
      "Asus       187\n",
      "Dell       186\n",
      "Acer       151\n",
      "MSI         96\n",
      "Macbook     22\n",
      "LG          16\n",
      "Name: count, dtype: int64\n",
      "Total Count: 1279\n",
      "----------------------------------------------------------------------------------------------------\n"
     ]
    },
    {
     "name": "stderr",
     "output_type": "stream",
     "text": [
      "/var/folders/6r/g5_v_b2d7b9bm7rmhzlj8crh0000gn/T/ipykernel_82447/2627135916.py:6: SettingWithCopyWarning: \n",
      "A value is trying to be set on a copy of a slice from a DataFrame.\n",
      "Try using .loc[row_indexer,col_indexer] = value instead\n",
      "\n",
      "See the caveats in the documentation: https://pandas.pydata.org/pandas-docs/stable/user_guide/indexing.html#returning-a-view-versus-a-copy\n",
      "  data[column] = data[column].replace(brand_mapping)\n"
     ]
    }
   ],
   "source": [
    "# Process brand\n",
    "print_unique_values_with_counts(combined_df, column='brand', prefix='BEFORE')\n",
    "combined_df = process_brand(combined_df)\n",
    "print_unique_values_with_counts(combined_df, column='brand', prefix='AFTER')"
   ]
  },
  {
   "cell_type": "code",
   "execution_count": null,
   "metadata": {},
   "outputs": [],
   "source": [
    "combined_df.to_csv(\"../Data/data_2.csv\", index=False)"
   ]
  }
 ],
 "metadata": {
  "kernelspec": {
   "display_name": "base",
   "language": "python",
   "name": "python3"
  },
  "language_info": {
   "codemirror_mode": {
    "name": "ipython",
    "version": 3
   },
   "file_extension": ".py",
   "mimetype": "text/x-python",
   "name": "python",
   "nbconvert_exporter": "python",
   "pygments_lexer": "ipython3",
   "version": "3.12.5"
  }
 },
 "nbformat": 4,
 "nbformat_minor": 2
}
