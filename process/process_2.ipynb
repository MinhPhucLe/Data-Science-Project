{
 "cells": [
  {
   "cell_type": "code",
   "execution_count": 131,
   "metadata": {},
   "outputs": [],
   "source": [
    "import os\n",
    "import pandas as pd\n",
    "from pandas import DataFrame"
   ]
  },
  {
   "cell_type": "code",
   "execution_count": 132,
   "metadata": {},
   "outputs": [],
   "source": [
    "# Define the folder containing the CSV files\n",
    "FOLDER_PATH = '../Dai'\n",
    "CSV_FILE = '../dai_combined.csv'"
   ]
  },
  {
   "cell_type": "code",
   "execution_count": 133,
   "metadata": {},
   "outputs": [],
   "source": [
    " # List to hold dataframes\n",
    "dfs = []\n",
    "\n",
    "# Iterate over all files in the folder\n",
    "for filename in os.listdir(FOLDER_PATH):\n",
    "    if filename.endswith('.csv'):\n",
    "        file_path = os.path.join(FOLDER_PATH, filename)\n",
    "        # Read the CSV file into a dataframe\n",
    "        df = pd.read_csv(file_path)\n",
    "        # Append the dataframe to the list\n",
    "        dfs.append(df)\n",
    "\n",
    "# Concatenate all dataframes\n",
    "combined_df = pd.concat(dfs, ignore_index=True)\n",
    "\n",
    "# Drop unnecessary columns \n",
    "combined_df = combined_df.drop(columns=['page', 'name', 'link'])"
   ]
  },
  {
   "cell_type": "code",
   "execution_count": 134,
   "metadata": {},
   "outputs": [],
   "source": [
    "def print_unique_values_with_counts(df: DataFrame, column: str, prefix: str):\n",
    "    print(prefix)\n",
    "    print(f\"Column: {column}\")\n",
    "    print(\"Unique Values and Counts:\")\n",
    "    print(df[column].value_counts())\n",
    "    print(f\"Total Count: {df[column].count()}\")\n",
    "    print(\"-\" * 100)"
   ]
  },
  {
   "cell_type": "code",
   "execution_count": 135,
   "metadata": {},
   "outputs": [],
   "source": [
    "from mapping_brand import brand_mapping\n",
    "\n",
    "def process_brand(data: DataFrame, column='brand') -> DataFrame:\n",
    "    data[column] = data[column].str.replace('Laptop ', '', regex=False)\n",
    "    data = data[~data[column].isin(['Máy', 'Creator', 'Stealth', 'Gaming', 'Laptop'])]\n",
    "    # data[column] = data[column].replace(brand_mapping) \n",
    "\n",
    "    return data"
   ]
  },
  {
   "cell_type": "code",
   "execution_count": 136,
   "metadata": {},
   "outputs": [
    {
     "name": "stdout",
     "output_type": "stream",
     "text": [
      "BEFORE\n",
      "Column: brand\n",
      "Unique Values and Counts:\n",
      "brand\n",
      "Laptop Lenovo      348\n",
      "Laptop HP          199\n",
      "Laptop Dell        174\n",
      "Laptop Asus        147\n",
      "Laptop Acer        141\n",
      "Laptop MSI          77\n",
      "HP                  65\n",
      "Laptop ASUS         41\n",
      "Laptop MacBook      22\n",
      "Lenovo              22\n",
      "Dell                19\n",
      "Laptop LG           13\n",
      "Acer                12\n",
      "Laptop Gigabyte      9\n",
      "MSI                  5\n",
      "Gigabyte             5\n",
      "LG                   3\n",
      "Laptop Samsung       2\n",
      "Máy                  2\n",
      "Laptop Creator       2\n",
      "Laptop               1\n",
      "Laptop Stealth       1\n",
      "Laptop Gaming        1\n",
      "Laptop Aspire        1\n",
      "Name: count, dtype: int64\n",
      "Total Count: 1312\n",
      "----------------------------------------------------------------------------------------------------\n",
      "AFTER\n",
      "Column: brand\n",
      "Unique Values and Counts:\n",
      "brand\n",
      "Lenovo      370\n",
      "HP          264\n",
      "Dell        193\n",
      "Acer        153\n",
      "Asus        147\n",
      "MSI          82\n",
      "ASUS         41\n",
      "MacBook      22\n",
      "LG           16\n",
      "Gigabyte     14\n",
      "Samsung       2\n",
      "Aspire        1\n",
      "Name: count, dtype: int64\n",
      "Total Count: 1305\n",
      "----------------------------------------------------------------------------------------------------\n"
     ]
    }
   ],
   "source": [
    "# Process brand\n",
    "print_unique_values_with_counts(combined_df, column='brand', prefix='BEFORE')\n",
    "combined_df = process_brand(combined_df)\n",
    "print_unique_values_with_counts(combined_df, column='brand', prefix='AFTER')"
   ]
  },
  {
   "cell_type": "code",
   "execution_count": 137,
   "metadata": {},
   "outputs": [
    {
     "data": {
      "text/plain": [
       "array(['Asus', 'Lenovo', 'ASUS', 'LG', 'Dell', 'HP', 'Acer', 'MSI',\n",
       "       'Aspire', 'MacBook', 'Samsung', 'Gigabyte'], dtype=object)"
      ]
     },
     "execution_count": 137,
     "metadata": {},
     "output_type": "execute_result"
    }
   ],
   "source": [
    "combined_df['brand'].unique()"
   ]
  }
 ],
 "metadata": {
  "kernelspec": {
   "display_name": "base",
   "language": "python",
   "name": "python3"
  },
  "language_info": {
   "codemirror_mode": {
    "name": "ipython",
    "version": 3
   },
   "file_extension": ".py",
   "mimetype": "text/x-python",
   "name": "python",
   "nbconvert_exporter": "python",
   "pygments_lexer": "ipython3",
   "version": "3.12.5"
  }
 },
 "nbformat": 4,
 "nbformat_minor": 2
}
