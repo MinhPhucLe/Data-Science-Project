{
 "cells": [
  {
   "cell_type": "code",
   "execution_count": 27,
   "id": "5dbe69991a0183b3",
   "metadata": {
    "ExecuteTime": {
     "end_time": "2024-12-16T18:26:49.224783Z",
     "start_time": "2024-12-16T18:26:49.209967Z"
    }
   },
   "outputs": [],
   "source": [
    "import os\n",
    "import pandas as pd\n",
    "from pandas import DataFrame"
   ]
  },
  {
   "cell_type": "code",
   "execution_count": 28,
   "id": "14a15d63b535a2b1",
   "metadata": {
    "ExecuteTime": {
     "end_time": "2024-12-16T18:26:49.254905Z",
     "start_time": "2024-12-16T18:26:49.238349Z"
    }
   },
   "outputs": [],
   "source": [
    "# Define the folder containing the CSV files\n",
    "FOLDER_PATH = '../Crawl'\n",
    "FILE_PATH = '../Data/Data.csv'\n",
    "CSV_FILE = '../Data/processed_data.csv'"
   ]
  },
  {
   "cell_type": "code",
   "execution_count": 29,
   "id": "c7a9e4b16e1a2379",
   "metadata": {
    "ExecuteTime": {
     "end_time": "2024-12-16T18:26:49.286891Z",
     "start_time": "2024-12-16T18:26:49.261103Z"
    }
   },
   "outputs": [],
   "source": [
    "#  # List to hold dataframes\n",
    "# dfs = []\n",
    "# \n",
    "# # Iterate over all files in the folder\n",
    "# for filename in os.listdir(FOLDER_PATH):\n",
    "#     if filename.endswith('.csv'):\n",
    "#         file_path = os.path.join(FOLDER_PATH, filename)\n",
    "#         # Read the CSV file into a dataframe\n",
    "#         df = pd.read_csv(file_path)\n",
    "#         # Append the dataframe to the list\n",
    "#         dfs.append(df)\n",
    "# \n",
    "# Concatenate all dataframes\n",
    "# combined_df = pd.concat(dfs, ignore_index=True)\n",
    "combined_df = pd.read_csv(FILE_PATH)\n",
    "\n",
    "# Drop unnecessary columns \n",
    "# combined_df = combined_df.drop(columns=['page', 'name', 'link', 'image'])"
   ]
  },
  {
   "cell_type": "code",
   "execution_count": 30,
   "id": "cd22f29a3f280950",
   "metadata": {
    "ExecuteTime": {
     "end_time": "2024-12-16T18:26:49.488397Z",
     "start_time": "2024-12-16T18:26:49.474569Z"
    }
   },
   "outputs": [],
   "source": [
    "def print_unique_values_with_counts(df: DataFrame, column: str, prefix: str):\n",
    "    print(prefix)\n",
    "    print(f\"Column: {column}\")\n",
    "    print(\"Unique Values and Counts:\")\n",
    "    print(df[column].value_counts())\n",
    "    print(f\"Total Count: {df[column].count()}\")\n",
    "    print(\"-\" * 100)"
   ]
  },
  {
   "cell_type": "code",
   "execution_count": 31,
   "id": "f459017a8a53befe",
   "metadata": {
    "ExecuteTime": {
     "end_time": "2024-12-16T18:26:49.549638Z",
     "start_time": "2024-12-16T18:26:49.539217Z"
    }
   },
   "outputs": [],
   "source": [
    "from mapping_brand import brand_mapping\n",
    "\n",
    "def process_brand(data: DataFrame, column='brand') -> DataFrame:\n",
    "    data[column] = data[column].replace(brand_mapping)\n",
    "    data = data[~data[column].isin(['Prestige', 'kstation', 'gaming', 'Workstation', 'Samsung', 'iPad'])]\n",
    "    \n",
    "    return data"
   ]
  },
  {
   "cell_type": "code",
   "execution_count": 32,
   "id": "ded108c201650d33",
   "metadata": {
    "ExecuteTime": {
     "end_time": "2024-12-16T18:26:49.579725Z",
     "start_time": "2024-12-16T18:26:49.565546Z"
    }
   },
   "outputs": [],
   "source": [
    "from mapping_cpu import cpu_mapping\n",
    "\n",
    "def process_cpu(data: DataFrame, column='cpu') -> DataFrame:\n",
    "    data[column] = data[column].str.replace(\"CPU \", \"\", regex=False)\n",
    "    data[column] = data[column].replace(cpu_mapping)\n",
    "    return data"
   ]
  },
  {
   "cell_type": "code",
   "execution_count": 33,
   "id": "280dd698a7611219",
   "metadata": {
    "ExecuteTime": {
     "end_time": "2024-12-16T18:26:49.610435Z",
     "start_time": "2024-12-16T18:26:49.596436Z"
    }
   },
   "outputs": [],
   "source": [
    "from mapping_cpu_brand import cpu_brand_mapping\n",
    "\n",
    "def process_cpu_brand(data: DataFrame, column='cpu_brand') -> DataFrame:\n",
    "    data[column] = data[column].replace(cpu_brand_mapping)\n",
    "    data = data[~data[column].isin(['CPU', 'Chip'])]\n",
    "    \n",
    "    return data"
   ]
  },
  {
   "cell_type": "code",
   "execution_count": 34,
   "id": "6598b27ed4316155",
   "metadata": {
    "ExecuteTime": {
     "end_time": "2024-12-16T18:26:49.642082Z",
     "start_time": "2024-12-16T18:26:49.627427Z"
    }
   },
   "outputs": [],
   "source": [
    "def process_ram_capacity(data: DataFrame, column='ram_capacity') -> DataFrame:\n",
    "    data[column] = data[column].str.extract(r\"(\\d+)\").astype(float)\n",
    "    return data"
   ]
  },
  {
   "cell_type": "code",
   "execution_count": 35,
   "id": "cb84583c37f805a3",
   "metadata": {
    "ExecuteTime": {
     "end_time": "2024-12-16T18:26:49.673728Z",
     "start_time": "2024-12-16T18:26:49.659487Z"
    }
   },
   "outputs": [],
   "source": [
    "from mapping_ram_brand import ram_brand_mapping\n",
    "\n",
    "def process_ram_brand(data: DataFrame, column='ram_brand') -> DataFrame:\n",
    "    data[column] = data[column].str.strip().replace(ram_brand_mapping)\n",
    "    data = data[~data[column].isin([\"3200\", \"5600\", \"4800\", \"5200\", \"7467\", \"6400\", \"7500\", \"1TB\", \"Soldered\"])]\n",
    "    return data"
   ]
  },
  {
   "cell_type": "code",
   "execution_count": 36,
   "id": "59057276a8eaad3d",
   "metadata": {
    "ExecuteTime": {
     "end_time": "2024-12-16T18:26:49.704550Z",
     "start_time": "2024-12-16T18:26:49.691912Z"
    }
   },
   "outputs": [],
   "source": [
    "from mapping_hard_drive_capacity import hard_drive_capacity_mapping\n",
    "\n",
    "def process_hard_drive_capacity(data: DataFrame, column='hard_drive_capacity') -> DataFrame:\n",
    "    data[column] = data[column].str.extract(r\"(\\d+)\")[0].astype(float).apply(lambda x: f\"{int(x)}TB\" if x in [1, 2, 4] else (\"1TB\" if x == 1024 else (f\"{int(x)}GB\" if x in [128, 256, 512] else None)))\n",
    "    data[column] = data[column].replace(hard_drive_capacity_mapping)\n",
    "    return data"
   ]
  },
  {
   "cell_type": "code",
   "execution_count": 37,
   "id": "952a1da7e7e60ef3",
   "metadata": {
    "ExecuteTime": {
     "end_time": "2024-12-16T18:26:49.736270Z",
     "start_time": "2024-12-16T18:26:49.722229Z"
    }
   },
   "outputs": [],
   "source": [
    "def process_hard_drive_type(data: DataFrame, column='hard_drive_type') -> DataFrame:\n",
    "    data = data[data[column].isin(['SSD', 'HDD'])]\n",
    "    return data"
   ]
  },
  {
   "cell_type": "code",
   "execution_count": 38,
   "id": "1c07124dc0753163",
   "metadata": {
    "ExecuteTime": {
     "end_time": "2024-12-16T18:26:49.767186Z",
     "start_time": "2024-12-16T18:26:49.753516Z"
    }
   },
   "outputs": [],
   "source": [
    "from mapping_card import card_mapping\n",
    "\n",
    "def process_card(data: DataFrame, column='card') -> DataFrame:\n",
    "    data[column] = data[column].str.replace(\"Card rời \", \"\", regex=False)\n",
    "    data[column] = data[column].str.replace(\"Nvidia\", \"NVIDIA\", regex=False)\n",
    "    data[column] = data[column].str.replace(\"NVidia\", \"NVIDIA\", regex=False)\n",
    "    data[column] = data[column].str.replace(\"Geforce\", \"GeForce\", regex=False)\n",
    "    data[column] = data[column].str.replace(\n",
    "        r'^(GeForce|Quadro)',\n",
    "        'NVIDIA GeForce',\n",
    "        regex=True\n",
    "    )\n",
    "    data[column] = data[column].replace(card_mapping)\n",
    "    return data"
   ]
  },
  {
   "cell_type": "code",
   "execution_count": 39,
   "id": "41b4ead4e17597d7",
   "metadata": {
    "ExecuteTime": {
     "end_time": "2024-12-16T18:26:49.798824Z",
     "start_time": "2024-12-16T18:26:49.784410Z"
    }
   },
   "outputs": [],
   "source": [
    "from mapping_card_brand import card_brand_mapping\n",
    "\n",
    "def process_card_brand(data: DataFrame, column='card_brand') -> DataFrame:\n",
    "    data[column] = data[column].str.replace(\"Nvidia\", \"NVIDIA\", regex=False)\n",
    "    data[column] = data[column].str.replace(\"NVidia\", \"NVIDIA\", regex=False) \n",
    "    data[column] = data[column].replace(card_brand_mapping)\n",
    "    return data "
   ]
  },
  {
   "cell_type": "code",
   "execution_count": 40,
   "id": "d0fc2fbc",
   "metadata": {},
   "outputs": [],
   "source": [
    "from mapping_screen_size import screen_size_mapping\n",
    "\n",
    "def process_screen_size(data: DataFrame, column='screen_size') -> DataFrame:\n",
    "    data[column] = data[column].replace(screen_size_mapping)\n",
    "    return data"
   ]
  },
  {
   "cell_type": "code",
   "execution_count": 41,
   "id": "a6ac7410",
   "metadata": {
    "ExecuteTime": {
     "end_time": "2024-12-16T18:26:49.859855Z",
     "start_time": "2024-12-16T18:26:49.816430Z"
    }
   },
   "outputs": [
    {
     "name": "stdout",
     "output_type": "stream",
     "text": [
      "BEFORE\n",
      "Column: card\n",
      "Unique Values and Counts:\n",
      "card\n",
      "Intel Iris Xe Graphics                         441\n",
      "Intel Arc Graphics                             264\n",
      "Intel UHD Graphics                             217\n",
      "Intel Graphics                                 186\n",
      "NVIDIA GeForce RTX 4060                         89\n",
      "                                              ... \n",
      "Intel Iris Xe Graphics | Intel UHD Graphics      1\n",
      "Intel UHD Graphics | NVIDIA Quadro P520          1\n",
      "NVIDIA GeForce RTX 4060 6GB GDDR6                1\n",
      "Apple GPU 16 Core                                1\n",
      "NVIDIA GeForce RTX3080 16GB                      1\n",
      "Name: count, Length: 192, dtype: int64\n",
      "Total Count: 2203\n",
      "----------------------------------------------------------------------------------------------------\n",
      "AFTER\n",
      "Column: card\n",
      "Unique Values and Counts:\n",
      "card\n",
      "Intel Iris Xe Graphics                         442\n",
      "Intel Arc Graphics                             264\n",
      "Intel UHD Graphics                             217\n",
      "Intel Graphics                                 186\n",
      "NVIDIA GeForce RTX 4060                         89\n",
      "                                              ... \n",
      "AMD Radeon RX7600S 8GB GDDR6                     1\n",
      "Intel Iris Xe Graphics | Intel UHD Graphics      1\n",
      "Intel UHD Graphics | NVIDIA Quadro P520          1\n",
      "NVIDIA GeForce RTX 4060 6GB GDDR6                1\n",
      "NVIDIA GeForce RTX3080 16GB                      1\n",
      "Name: count, Length: 191, dtype: int64\n",
      "Total Count: 2203\n",
      "----------------------------------------------------------------------------------------------------\n"
     ]
    }
   ],
   "source": [
    "# Process card\n",
    "print_unique_values_with_counts(combined_df, column='card', prefix='BEFORE')\n",
    "combined_df = process_card(combined_df)\n",
    "print_unique_values_with_counts(combined_df, column='card', prefix='AFTER')"
   ]
  },
  {
   "cell_type": "code",
   "execution_count": 42,
   "id": "78b4ebd2d7890876",
   "metadata": {
    "ExecuteTime": {
     "end_time": "2024-12-16T18:26:49.907067Z",
     "start_time": "2024-12-16T18:26:49.882800Z"
    }
   },
   "outputs": [
    {
     "name": "stdout",
     "output_type": "stream",
     "text": [
      "BEFORE\n",
      "Column: brand\n",
      "Unique Values and Counts:\n",
      "brand\n",
      "Lenovo       696\n",
      "Asus         356\n",
      "HP           336\n",
      "Dell         326\n",
      "Acer         230\n",
      "MSI          168\n",
      "Macbook       38\n",
      "LG            35\n",
      "Gaming        17\n",
      "Microsoft     10\n",
      "Name: count, dtype: int64\n",
      "Total Count: 2212\n",
      "----------------------------------------------------------------------------------------------------\n",
      "AFTER\n",
      "Column: brand\n",
      "Unique Values and Counts:\n",
      "brand\n",
      "Lenovo       696\n",
      "Asus         356\n",
      "HP           336\n",
      "Dell         326\n",
      "Acer         230\n",
      "MSI          168\n",
      "Macbook       38\n",
      "LG            35\n",
      "Gaming        17\n",
      "Microsoft     10\n",
      "Name: count, dtype: int64\n",
      "Total Count: 2212\n",
      "----------------------------------------------------------------------------------------------------\n"
     ]
    }
   ],
   "source": [
    "# Process brand\n",
    "print_unique_values_with_counts(combined_df, column='brand', prefix='BEFORE')\n",
    "combined_df = process_brand(combined_df)\n",
    "print_unique_values_with_counts(combined_df, column='brand', prefix='AFTER')"
   ]
  },
  {
   "cell_type": "code",
   "execution_count": 43,
   "id": "9b31241f22a1c29a",
   "metadata": {
    "ExecuteTime": {
     "end_time": "2024-12-16T18:26:49.954272Z",
     "start_time": "2024-12-16T18:26:49.923846Z"
    }
   },
   "outputs": [
    {
     "name": "stdout",
     "output_type": "stream",
     "text": [
      "BEFORE\n",
      "Column: cpu\n",
      "Unique Values and Counts:\n",
      "cpu\n",
      "Intel Core Ultra 7 155H    174\n",
      "Intel Core i71355U          86\n",
      "Intel Core Ultra 5 125H     74\n",
      "Intel Core i51335U          68\n",
      "Intel Core Ultra 5 125U     40\n",
      "                          ... \n",
      "AMD Ryzen 5 6600H            1\n",
      "Apple M4                     1\n",
      "Apple M4 (10-core)           1\n",
      "Intel Core i5-1334U          1\n",
      "AMD Ryzen 5 4650U            1\n",
      "Name: count, Length: 355, dtype: int64\n",
      "Total Count: 2206\n",
      "----------------------------------------------------------------------------------------------------\n",
      "AFTER\n",
      "Column: cpu\n",
      "Unique Values and Counts:\n",
      "cpu\n",
      "Intel Core Ultra 7 155H     174\n",
      "Intel Core i71355U           86\n",
      "Intel Core Ultra 5 125H      74\n",
      "Intel Core i51335U           68\n",
      "Intel Core Ultra 5 125U      40\n",
      "                           ... \n",
      "Apple M4                      1\n",
      "Apple M4 (10-core)            1\n",
      "Intel Core i5-1334U           1\n",
      "Intel Core  Ultra 5 125H      1\n",
      "AMD Ryzen 5 4650U             1\n",
      "Name: count, Length: 352, dtype: int64\n",
      "Total Count: 2206\n",
      "----------------------------------------------------------------------------------------------------\n"
     ]
    }
   ],
   "source": [
    "# Process cpu\n",
    "print_unique_values_with_counts(combined_df, column='cpu', prefix='BEFORE')\n",
    "combined_df = process_cpu(combined_df)\n",
    "print_unique_values_with_counts(combined_df, column='cpu', prefix='AFTER')"
   ]
  },
  {
   "cell_type": "code",
   "execution_count": 44,
   "id": "2761a01e10f97816",
   "metadata": {
    "ExecuteTime": {
     "end_time": "2024-12-16T18:26:49.984870Z",
     "start_time": "2024-12-16T18:26:49.974296Z"
    }
   },
   "outputs": [
    {
     "name": "stdout",
     "output_type": "stream",
     "text": [
      "BEFORE\n",
      "Column: cpu_brand\n",
      "Unique Values and Counts:\n",
      "cpu_brand\n",
      "Intel       1862\n",
      "AMD          286\n",
      "Apple         36\n",
      "Qualcomm      16\n",
      "Ryzen         13\n",
      "Name: count, dtype: int64\n",
      "Total Count: 2213\n",
      "----------------------------------------------------------------------------------------------------\n",
      "AFTER\n",
      "Column: cpu_brand\n",
      "Unique Values and Counts:\n",
      "cpu_brand\n",
      "Intel       1862\n",
      "AMD          299\n",
      "Apple         36\n",
      "Qualcomm      16\n",
      "Name: count, dtype: int64\n",
      "Total Count: 2213\n",
      "----------------------------------------------------------------------------------------------------\n"
     ]
    }
   ],
   "source": [
    "# Process cpu_brand\n",
    "print_unique_values_with_counts(combined_df, column='cpu_brand', prefix='BEFORE')\n",
    "combined_df = process_cpu_brand(combined_df)\n",
    "print_unique_values_with_counts(combined_df, column='cpu_brand', prefix='AFTER')"
   ]
  },
  {
   "cell_type": "code",
   "execution_count": 45,
   "id": "ac68f69e45993ea3",
   "metadata": {
    "ExecuteTime": {
     "end_time": "2024-12-16T18:26:50.015446Z",
     "start_time": "2024-12-16T18:26:50.012641Z"
    }
   },
   "outputs": [],
   "source": [
    "# # Process ram_capacity\n",
    "# print_unique_values_with_counts(combined_df, column='ram_capacity', prefix='BEFORE')\n",
    "# combined_df = process_ram_capacity(combined_df)\n",
    "# print_unique_values_with_counts(combined_df, column='ram_capacity', prefix='AFTER')"
   ]
  },
  {
   "cell_type": "code",
   "execution_count": 46,
   "id": "f4f9781deb3a4a6e",
   "metadata": {
    "ExecuteTime": {
     "end_time": "2024-12-16T18:26:50.061757Z",
     "start_time": "2024-12-16T18:26:50.047614Z"
    }
   },
   "outputs": [
    {
     "name": "stdout",
     "output_type": "stream",
     "text": [
      "BEFORE\n",
      "Column: ram_brand\n",
      "Unique Values and Counts:\n",
      "ram_brand\n",
      "DDR5       1143\n",
      "DDR4        601\n",
      "LPDDR5      163\n",
      "LPDDR5X     123\n",
      "LPDDR4X      36\n",
      "LPDDR4       12\n",
      "LPDDR3       11\n",
      "LDDR4         1\n",
      "Name: count, dtype: int64\n",
      "Total Count: 2090\n",
      "----------------------------------------------------------------------------------------------------\n",
      "AFTER\n",
      "Column: ram_brand\n",
      "Unique Values and Counts:\n",
      "ram_brand\n",
      "DDR5       1143\n",
      "DDR4        601\n",
      "LPDDR5      163\n",
      "LPDDR5X     123\n",
      "LPDDR4X      36\n",
      "LPDDR4       12\n",
      "LPDDR3       11\n",
      "LDDR4         1\n",
      "Name: count, dtype: int64\n",
      "Total Count: 2090\n",
      "----------------------------------------------------------------------------------------------------\n"
     ]
    }
   ],
   "source": [
    "# Process ram_brand\n",
    "print_unique_values_with_counts(combined_df, column='ram_brand', prefix='BEFORE')\n",
    "combined_df = process_ram_brand(combined_df)\n",
    "print_unique_values_with_counts(combined_df, column='ram_brand', prefix='AFTER')"
   ]
  },
  {
   "cell_type": "code",
   "execution_count": 47,
   "id": "8ede77006f5b9dd",
   "metadata": {
    "ExecuteTime": {
     "end_time": "2024-12-16T18:26:50.123964Z",
     "start_time": "2024-12-16T18:26:50.095827Z"
    }
   },
   "outputs": [
    {
     "name": "stdout",
     "output_type": "stream",
     "text": [
      "BEFORE\n",
      "Column: hard_drive_capacity\n",
      "Unique Values and Counts:\n",
      "hard_drive_capacity\n",
      "512GB     1130\n",
      "1TB        559\n",
      "512 GB     201\n",
      "256GB       98\n",
      "1 TB        71\n",
      "2TB         50\n",
      "256 GB      11\n",
      "4TB          5\n",
      "2 TB         4\n",
      "128GB        4\n",
      "Name: count, dtype: int64\n",
      "Total Count: 2133\n",
      "----------------------------------------------------------------------------------------------------\n",
      "AFTER\n",
      "Column: hard_drive_capacity\n",
      "Unique Values and Counts:\n",
      "hard_drive_capacity\n",
      "512.0     1331\n",
      "1024.0     630\n",
      "256.0      109\n",
      "2048.0      54\n",
      "4096.0       5\n",
      "128.0        4\n",
      "Name: count, dtype: int64\n",
      "Total Count: 2133\n",
      "----------------------------------------------------------------------------------------------------\n"
     ]
    },
    {
     "name": "stderr",
     "output_type": "stream",
     "text": [
      "C:\\Users\\Admin\\AppData\\Local\\Temp\\ipykernel_10856\\2261890516.py:5: FutureWarning: Downcasting behavior in `replace` is deprecated and will be removed in a future version. To retain the old behavior, explicitly call `result.infer_objects(copy=False)`. To opt-in to the future behavior, set `pd.set_option('future.no_silent_downcasting', True)`\n",
      "  data[column] = data[column].replace(hard_drive_capacity_mapping)\n"
     ]
    }
   ],
   "source": [
    "# Process hard_drive_capacity\n",
    "print_unique_values_with_counts(combined_df, column='hard_drive_capacity', prefix='BEFORE')\n",
    "combined_df = process_hard_drive_capacity(combined_df)\n",
    "print_unique_values_with_counts(combined_df, column='hard_drive_capacity', prefix='AFTER')"
   ]
  },
  {
   "cell_type": "code",
   "execution_count": 48,
   "id": "1a92986895a781fe",
   "metadata": {
    "ExecuteTime": {
     "end_time": "2024-12-16T18:26:50.154672Z",
     "start_time": "2024-12-16T18:26:50.142192Z"
    }
   },
   "outputs": [
    {
     "name": "stdout",
     "output_type": "stream",
     "text": [
      "BEFORE\n",
      "Column: hard_drive_type\n",
      "Unique Values and Counts:\n",
      "hard_drive_type\n",
      "SSD    2179\n",
      "512      12\n",
      "1TB       5\n",
      "9Z2       3\n",
      "256       1\n",
      "2TB       1\n",
      "Name: count, dtype: int64\n",
      "Total Count: 2201\n",
      "----------------------------------------------------------------------------------------------------\n",
      "AFTER\n",
      "Column: hard_drive_type\n",
      "Unique Values and Counts:\n",
      "hard_drive_type\n",
      "SSD    2179\n",
      "Name: count, dtype: int64\n",
      "Total Count: 2179\n",
      "----------------------------------------------------------------------------------------------------\n"
     ]
    }
   ],
   "source": [
    "# Process hard_drive_type\n",
    "print_unique_values_with_counts(combined_df, column='hard_drive_type', prefix='BEFORE')\n",
    "combined_df = process_hard_drive_type(combined_df)\n",
    "print_unique_values_with_counts(combined_df, column='hard_drive_type', prefix='AFTER')"
   ]
  },
  {
   "cell_type": "code",
   "execution_count": 49,
   "id": "288ac303e11b1a71",
   "metadata": {
    "ExecuteTime": {
     "end_time": "2024-12-16T18:26:50.216349Z",
     "start_time": "2024-12-16T18:26:50.187758Z"
    }
   },
   "outputs": [
    {
     "name": "stdout",
     "output_type": "stream",
     "text": [
      "BEFORE\n",
      "Column: card\n",
      "Unique Values and Counts:\n",
      "card\n",
      "Intel Iris Xe Graphics                     439\n",
      "Intel Arc Graphics                         259\n",
      "Intel UHD Graphics                         215\n",
      "Intel Graphics                             184\n",
      "NVIDIA GeForce RTX 4060                     88\n",
      "                                          ... \n",
      "NVIDIA GeForce RTX 3050Ti                    1\n",
      "AMD Radeon RX7600S 8GB GDDR6                 1\n",
      "Intel UHD Graphics | NVIDIA Quadro P520      1\n",
      "NVIDIA GeForce RTX 4060 6GB GDDR6            1\n",
      "NVIDIA GeForce RTX3080 16GB                  1\n",
      "Name: count, Length: 186, dtype: int64\n",
      "Total Count: 2169\n",
      "----------------------------------------------------------------------------------------------------\n",
      "AFTER\n",
      "Column: card\n",
      "Unique Values and Counts:\n",
      "card\n",
      "Intel Iris Xe Graphics                     439\n",
      "Intel Arc Graphics                         259\n",
      "Intel UHD Graphics                         215\n",
      "Intel Graphics                             184\n",
      "NVIDIA GeForce RTX 4060                     88\n",
      "                                          ... \n",
      "NVIDIA GeForce RTX 3050Ti                    1\n",
      "AMD Radeon RX7600S 8GB GDDR6                 1\n",
      "Intel UHD Graphics | NVIDIA Quadro P520      1\n",
      "NVIDIA GeForce RTX 4060 6GB GDDR6            1\n",
      "NVIDIA GeForce RTX3080 16GB                  1\n",
      "Name: count, Length: 186, dtype: int64\n",
      "Total Count: 2169\n",
      "----------------------------------------------------------------------------------------------------\n"
     ]
    }
   ],
   "source": [
    "# Process card \n",
    "print_unique_values_with_counts(combined_df, column='card', prefix='BEFORE')\n",
    "combined_df = process_card(combined_df)\n",
    "print_unique_values_with_counts(combined_df, column='card', prefix='AFTER')"
   ]
  },
  {
   "cell_type": "code",
   "execution_count": 50,
   "id": "1ac190d464872be9",
   "metadata": {
    "ExecuteTime": {
     "end_time": "2024-12-16T18:26:50.248055Z",
     "start_time": "2024-12-16T18:26:50.236938Z"
    }
   },
   "outputs": [
    {
     "name": "stdout",
     "output_type": "stream",
     "text": [
      "BEFORE\n",
      "Column: card_brand\n",
      "Unique Values and Counts:\n",
      "card_brand\n",
      "Intel         1101\n",
      "Nvidia         456\n",
      "NVIDIA         177\n",
      "AMD            118\n",
      "Apple           79\n",
      "RTX             73\n",
      "GeForce         49\n",
      "Card            36\n",
      "Iris            14\n",
      "Quadro          13\n",
      "Geforce          8\n",
      "Qualcomm         7\n",
      "UHD              7\n",
      "GPU              5\n",
      "Integrated       4\n",
      "Qualcom          3\n",
      "Radeon           3\n",
      "Arc              2\n",
      "30-core          2\n",
      "SD               2\n",
      "NVidia           2\n",
      "Không            1\n",
      "Adreno           1\n",
      "10-core          1\n",
      "RX               1\n",
      "8-Core           1\n",
      "14-core          1\n",
      "18-core          1\n",
      "eForce           1\n",
      "Name: count, dtype: int64\n",
      "Total Count: 2169\n",
      "----------------------------------------------------------------------------------------------------\n",
      "AFTER\n",
      "Column: card_brand\n",
      "Unique Values and Counts:\n",
      "card_brand\n",
      "Intel       1124\n",
      "NVIDIA       779\n",
      "AMD          122\n",
      "Apple         79\n",
      "Qualcomm      11\n",
      "Name: count, dtype: int64\n",
      "Total Count: 2115\n",
      "----------------------------------------------------------------------------------------------------\n"
     ]
    }
   ],
   "source": [
    "# Process card_brand\n",
    "print_unique_values_with_counts(combined_df, column='card_brand', prefix='BEFORE')\n",
    "combined_df = process_card_brand(combined_df)\n",
    "print_unique_values_with_counts(combined_df, column='card_brand', prefix='AFTER')"
   ]
  },
  {
   "cell_type": "code",
   "execution_count": 51,
   "id": "cbe49bbd",
   "metadata": {},
   "outputs": [
    {
     "name": "stdout",
     "output_type": "stream",
     "text": [
      "BEFORE\n",
      "Column: screen_size\n",
      "Unique Values and Counts:\n",
      "screen_size\n",
      "15.6                                                            650\n",
      "14.0                                                            508\n",
      "16.0                                                            294\n",
      "14                                                              190\n",
      "16                                                              174\n",
      "13.3                                                             69\n",
      "14.5                                                             52\n",
      "16.1                                                             43\n",
      "13.4                                                             25\n",
      "18.0                                                             19\n",
      "13.5                                                             11\n",
      "16.3                                                             11\n",
      "14.2                                                             10\n",
      "15.3                                                              8\n",
      "13                                                                8\n",
      "16.2                                                              8\n",
      "17.3                                                              8\n",
      "18                                                                7\n",
      "13.6                                                              7\n",
      "17.0                                                              5\n",
      "12.3                                                              5\n",
      "17                                                                4\n",
      "13.0                                                              4\n",
      "17” QHD+ 16:10 (2560x1600), 165Hz, IPS, 100% DCI-P3, Cảm ứng      3\n",
      "16  4K UHD (3840 x 2160), OLED Touchscree                         3\n",
      "60Hz                                                              2\n",
      "10.5                                                              2\n",
      "Liquid Retina XDR 16.2                                            2\n",
      "Liquid Retina XDR 14                                              2\n",
      "15                                                                2\n",
      "16” QHD+ 16:10 (2560x1600), 240Hz, IPS, 100% DCI-P3               1\n",
      "17” QHD+ IPS 240Hz                                                1\n",
      "2 Màn hình 14.0 Inch OLED 3K, 120Hz                               1\n",
      "2 màn hình 14.0                                                   1\n",
      "15.6 FHD IPS 144Hz                                                1\n",
      "16” QHD+ IPS 240Hz 100% DCI-P3                                    1\n",
      "16 Inch FHD+ 16:10 (1920x1200), 144Hz, IPS                        1\n",
      "15.6 FHD IPS 144Hz 100% sRGB                                      1\n",
      "14.0 Inch 2.8K (2880x1800), 90Hz, OLED, 100% DCI-P3               1\n",
      "Liquid Retina XDR 14.2                                            1\n",
      "16.                                                               1\n",
      "15.0                                                              1\n",
      "Name: count, dtype: int64\n",
      "Total Count: 2148\n",
      "----------------------------------------------------------------------------------------------------\n",
      "AFTER\n",
      "Column: screen_size\n",
      "Unique Values and Counts:\n",
      "screen_size\n",
      "15.6    652\n",
      "14.0    508\n",
      "16.0    294\n",
      "14      195\n",
      "16      181\n",
      "13.3     69\n",
      "14.5     52\n",
      "16.1     43\n",
      "13.4     25\n",
      "18.0     19\n",
      "17       13\n",
      "13       12\n",
      "14.2     11\n",
      "13.5     11\n",
      "16.3     11\n",
      "16.2     10\n",
      "17.3      8\n",
      "15.3      8\n",
      "18        7\n",
      "13.6      7\n",
      "12.3      5\n",
      "15        3\n",
      "10.5      2\n",
      "Name: count, dtype: int64\n",
      "Total Count: 2146\n",
      "----------------------------------------------------------------------------------------------------\n"
     ]
    }
   ],
   "source": [
    "# Process screen_size\n",
    "print_unique_values_with_counts(combined_df, column='screen_size', prefix='BEFORE')\n",
    "combined_df = process_screen_size(combined_df)\n",
    "print_unique_values_with_counts(combined_df, column='screen_size', prefix='AFTER')"
   ]
  },
  {
   "cell_type": "code",
   "execution_count": 52,
   "id": "ac469356c531a35f",
   "metadata": {
    "ExecuteTime": {
     "end_time": "2024-12-16T18:26:50.295617Z",
     "start_time": "2024-12-16T18:26:50.268534Z"
    }
   },
   "outputs": [],
   "source": [
    "# Save the combined dataframe to a new CSV file\n",
    "combined_df.to_csv(CSV_FILE, index=False)"
   ]
  },
  {
   "cell_type": "code",
   "execution_count": null,
   "id": "64618af66764a704",
   "metadata": {
    "ExecuteTime": {
     "end_time": "2024-12-16T18:26:50.325834Z",
     "start_time": "2024-12-16T18:26:50.312326Z"
    }
   },
   "outputs": [],
   "source": []
  }
 ],
 "metadata": {
  "kernelspec": {
   "display_name": "base",
   "language": "python",
   "name": "python3"
  },
  "language_info": {
   "codemirror_mode": {
    "name": "ipython",
    "version": 3
   },
   "file_extension": ".py",
   "mimetype": "text/x-python",
   "name": "python",
   "nbconvert_exporter": "python",
   "pygments_lexer": "ipython3",
   "version": "3.9.18"
  }
 },
 "nbformat": 4,
 "nbformat_minor": 5
}
