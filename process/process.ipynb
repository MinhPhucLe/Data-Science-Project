{
 "cells": [
  {
   "metadata": {
    "ExecuteTime": {
     "end_time": "2024-12-16T10:17:28.248069Z",
     "start_time": "2024-12-16T10:17:28.231502Z"
    }
   },
   "cell_type": "code",
   "source": [
    "import os\n",
    "import pandas as pd\n",
    "from pandas import DataFrame"
   ],
   "id": "5dbe69991a0183b3",
   "outputs": [],
   "execution_count": 17
  },
  {
   "metadata": {
    "ExecuteTime": {
     "end_time": "2024-12-16T10:17:28.263229Z",
     "start_time": "2024-12-16T10:17:28.257582Z"
    }
   },
   "cell_type": "code",
   "source": [
    "# Define the folder containing the CSV files\n",
    "FOLDER_PATH = '../Crawl'\n",
    "CSV_FILE = '../combined.csv'"
   ],
   "id": "14a15d63b535a2b1",
   "outputs": [],
   "execution_count": 18
  },
  {
   "metadata": {
    "ExecuteTime": {
     "end_time": "2024-12-16T10:17:28.325146Z",
     "start_time": "2024-12-16T10:17:28.297164Z"
    }
   },
   "cell_type": "code",
   "source": [
    " # List to hold dataframes\n",
    "dfs = []\n",
    "\n",
    "# Iterate over all files in the folder\n",
    "for filename in os.listdir(FOLDER_PATH):\n",
    "    if filename.endswith('.csv'):\n",
    "        file_path = os.path.join(FOLDER_PATH, filename)\n",
    "        # Read the CSV file into a dataframe\n",
    "        df = pd.read_csv(file_path)\n",
    "        # Append the dataframe to the list\n",
    "        dfs.append(df)\n",
    "\n",
    "# Concatenate all dataframes\n",
    "combined_df = pd.concat(dfs, ignore_index=True)\n",
    "\n",
    "# Drop unnecessary columns \n",
    "combined_df = combined_df.drop(columns=['page', 'name', 'link', 'image'])"
   ],
   "id": "c7a9e4b16e1a2379",
   "outputs": [],
   "execution_count": 19
  },
  {
   "metadata": {
    "ExecuteTime": {
     "end_time": "2024-12-16T10:17:28.372084Z",
     "start_time": "2024-12-16T10:17:28.358031Z"
    }
   },
   "cell_type": "code",
   "source": [
    "def print_unique_values_with_counts(df: DataFrame, column: str, prefix: str):\n",
    "    print(prefix)\n",
    "    print(f\"Column: {column}\")\n",
    "    print(\"Unique Values and Counts:\")\n",
    "    print(df[column].value_counts())\n",
    "    print(f\"Total Count: {df[column].count()}\")\n",
    "    print(\"-\" * 100)"
   ],
   "id": "cd22f29a3f280950",
   "outputs": [],
   "execution_count": 20
  },
  {
   "metadata": {
    "ExecuteTime": {
     "end_time": "2024-12-16T10:17:28.418726Z",
     "start_time": "2024-12-16T10:17:28.404682Z"
    }
   },
   "cell_type": "code",
   "source": [
    "from mapping_brand import brand_mapping\n",
    "\n",
    "def process_brand(data: DataFrame, column='brand') -> DataFrame:\n",
    "    data[column] = data[column].replace(brand_mapping)\n",
    "    data = data[~data[column].isin(['Prestige', 'kstation', 'gaming', 'Workstation', 'Samsung', 'iPad'])]\n",
    "    \n",
    "    return data"
   ],
   "id": "f459017a8a53befe",
   "outputs": [],
   "execution_count": 21
  },
  {
   "metadata": {
    "ExecuteTime": {
     "end_time": "2024-12-16T10:17:28.465393Z",
     "start_time": "2024-12-16T10:17:28.453317Z"
    }
   },
   "cell_type": "code",
   "source": [
    "def process_cpu(data: DataFrame, column='cpu') -> DataFrame:\n",
    "    return data"
   ],
   "id": "ded108c201650d33",
   "outputs": [],
   "execution_count": 22
  },
  {
   "metadata": {
    "ExecuteTime": {
     "end_time": "2024-12-16T10:17:28.511742Z",
     "start_time": "2024-12-16T10:17:28.498966Z"
    }
   },
   "cell_type": "code",
   "source": [
    "from mapping_cpu_brand import cpu_brand_mapping\n",
    "\n",
    "def process_cpu_brand(data: DataFrame, column='cpu_brand') -> DataFrame:\n",
    "    data['cpu_brand'] = data['cpu_brand'].replace(cpu_brand_mapping)\n",
    "    data = data[~data['cpu_brand'].isin(['CPU', 'Chip'])]\n",
    "    \n",
    "    return data"
   ],
   "id": "280dd698a7611219",
   "outputs": [],
   "execution_count": 23
  },
  {
   "metadata": {
    "ExecuteTime": {
     "end_time": "2024-12-16T10:17:28.557687Z",
     "start_time": "2024-12-16T10:17:28.545292Z"
    }
   },
   "cell_type": "code",
   "source": [
    "def process_ram_capacity(data: DataFrame, column='ram_capacity') -> DataFrame:\n",
    "    data[column] = data[column].str.extract(r\"(\\d+)\").astype(float)\n",
    "    return data"
   ],
   "id": "6598b27ed4316155",
   "outputs": [],
   "execution_count": 24
  },
  {
   "metadata": {
    "ExecuteTime": {
     "end_time": "2024-12-16T10:17:28.603467Z",
     "start_time": "2024-12-16T10:17:28.592384Z"
    }
   },
   "cell_type": "code",
   "source": [
    "from mapping_ram_brand import ram_brand_mapping\n",
    "\n",
    "def process_ram_brand(data: DataFrame, column='ram_brand') -> DataFrame:\n",
    "    data[column] = data[column].str.strip().replace(ram_brand_mapping)\n",
    "    return data"
   ],
   "id": "cb84583c37f805a3",
   "outputs": [],
   "execution_count": 25
  },
  {
   "metadata": {
    "ExecuteTime": {
     "end_time": "2024-12-16T10:17:28.650099Z",
     "start_time": "2024-12-16T10:17:28.637476Z"
    }
   },
   "cell_type": "code",
   "source": [
    "def process_hard_drive_capacity(data: DataFrame, column='hard_drive_capacity') -> DataFrame:\n",
    "    data[column] = data[column].str.extract(r\"(\\d+)\")[0].astype(float).apply(lambda x: f\"{int(x)}TB\" if x in [1, 2, 4] else (\"1TB\" if x == 1024 else (f\"{int(x)}GB\" if x in [128, 256, 512] else None)))\n",
    "    return data"
   ],
   "id": "59057276a8eaad3d",
   "outputs": [],
   "execution_count": 26
  },
  {
   "metadata": {
    "ExecuteTime": {
     "end_time": "2024-12-16T10:17:28.727006Z",
     "start_time": "2024-12-16T10:17:28.713257Z"
    }
   },
   "cell_type": "code",
   "source": [
    "# Process brand\n",
    "print_unique_values_with_counts(combined_df, column='brand', prefix='BEFORE')\n",
    "combined_df = process_brand(combined_df)\n",
    "print_unique_values_with_counts(combined_df, column='brand', prefix='AFTER')"
   ],
   "id": "78b4ebd2d7890876",
   "outputs": [
    {
     "name": "stdout",
     "output_type": "stream",
     "text": [
      "BEFORE\n",
      "Column: brand\n",
      "Unique Values and Counts:\n",
      "brand\n",
      "Lenovo         320\n",
      "Dell           140\n",
      "Asus           130\n",
      "HP              84\n",
      "Acer            77\n",
      "MSI             72\n",
      "ASUS            40\n",
      "LG              19\n",
      "Gaming          17\n",
      "Macbook         13\n",
      "Microsoft       10\n",
      "LENOVO           4\n",
      "iPad             2\n",
      "Samsung          2\n",
      "Ideapad          2\n",
      "Workstation      2\n",
      "MacBook          2\n",
      "Apple            2\n",
      "ACER             2\n",
      "gaming           1\n",
      "ThinkPad         1\n",
      "kstation         1\n",
      "Prestige         1\n",
      "Legion           1\n",
      "Name: count, dtype: int64\n",
      "Total Count: 945\n",
      "----------------------------------------------------------------------------------------------------\n",
      "AFTER\n",
      "Column: brand\n",
      "Unique Values and Counts:\n",
      "brand\n",
      "Lenovo       328\n",
      "Asus         170\n",
      "Dell         140\n",
      "HP            84\n",
      "Acer          79\n",
      "MSI           72\n",
      "LG            19\n",
      "Macbook       17\n",
      "Gaming        17\n",
      "Microsoft     10\n",
      "Name: count, dtype: int64\n",
      "Total Count: 936\n",
      "----------------------------------------------------------------------------------------------------\n"
     ]
    }
   ],
   "execution_count": 27
  },
  {
   "metadata": {
    "ExecuteTime": {
     "end_time": "2024-12-16T10:17:28.849372Z",
     "start_time": "2024-12-16T10:17:28.829041Z"
    }
   },
   "cell_type": "code",
   "source": [
    "# Process cpu\n",
    "print_unique_values_with_counts(combined_df, column='cpu', prefix='BEFORE')\n",
    "combined_df = process_cpu(combined_df)\n",
    "print_unique_values_with_counts(combined_df, column='cpu', prefix='AFTER')"
   ],
   "id": "9b31241f22a1c29a",
   "outputs": [
    {
     "name": "stdout",
     "output_type": "stream",
     "text": [
      "BEFORE\n",
      "Column: cpu\n",
      "Unique Values and Counts:\n",
      "cpu\n",
      "Intel Core i5                  37\n",
      "Intel Core i7                  36\n",
      "Intel Core Ultra 7 155H        29\n",
      "Intel Core Ultra 7             29\n",
      "CPU Intel Core Ultra 7 155H    22\n",
      "                               ..\n",
      "CPU AMD Ryzen 5 - 7530U         1\n",
      "CPU Intel Core i9-13950HX       1\n",
      "CPU Intel Core i9 -13980HX      1\n",
      "CPU Intel Core i7 - 13620H      1\n",
      "Intel Core i9 10885H            1\n",
      "Name: count, Length: 338, dtype: int64\n",
      "Total Count: 936\n",
      "----------------------------------------------------------------------------------------------------\n",
      "AFTER\n",
      "Column: cpu\n",
      "Unique Values and Counts:\n",
      "cpu\n",
      "Intel Core i5                  37\n",
      "Intel Core i7                  36\n",
      "Intel Core Ultra 7 155H        29\n",
      "Intel Core Ultra 7             29\n",
      "CPU Intel Core Ultra 7 155H    22\n",
      "                               ..\n",
      "CPU AMD Ryzen 5 - 7530U         1\n",
      "CPU Intel Core i9-13950HX       1\n",
      "CPU Intel Core i9 -13980HX      1\n",
      "CPU Intel Core i7 - 13620H      1\n",
      "Intel Core i9 10885H            1\n",
      "Name: count, Length: 338, dtype: int64\n",
      "Total Count: 936\n",
      "----------------------------------------------------------------------------------------------------\n"
     ]
    }
   ],
   "execution_count": 28
  },
  {
   "metadata": {
    "ExecuteTime": {
     "end_time": "2024-12-16T10:17:29.003305Z",
     "start_time": "2024-12-16T10:17:28.990435Z"
    }
   },
   "cell_type": "code",
   "source": [
    "# Process cpu_brand\n",
    "print_unique_values_with_counts(combined_df, column='cpu_brand', prefix='BEFORE')\n",
    "combined_df = process_cpu_brand(combined_df)\n",
    "print_unique_values_with_counts(combined_df, column='cpu_brand', prefix='AFTER')"
   ],
   "id": "2761a01e10f97816",
   "outputs": [
    {
     "name": "stdout",
     "output_type": "stream",
     "text": [
      "BEFORE\n",
      "Column: cpu_brand\n",
      "Unique Values and Counts:\n",
      "cpu_brand\n",
      "Intel         750\n",
      "AMD           128\n",
      "Ryzen          13\n",
      "Apple          10\n",
      "Core           10\n",
      "Ultra           6\n",
      "Snapdragon      5\n",
      "Qualcomm        5\n",
      "M3              2\n",
      "CPU             1\n",
      "M               1\n",
      "i7              1\n",
      "M2              1\n",
      "i5-12500H       1\n",
      "Chip            1\n",
      "Intel;          1\n",
      "Name: count, dtype: int64\n",
      "Total Count: 936\n",
      "----------------------------------------------------------------------------------------------------\n",
      "AFTER\n",
      "Column: cpu_brand\n",
      "Unique Values and Counts:\n",
      "cpu_brand\n",
      "Intel       769\n",
      "AMD         128\n",
      "Apple        14\n",
      "Ryzen        13\n",
      "Qualcomm     10\n",
      "Name: count, dtype: int64\n",
      "Total Count: 934\n",
      "----------------------------------------------------------------------------------------------------\n"
     ]
    }
   ],
   "execution_count": 29
  },
  {
   "metadata": {
    "ExecuteTime": {
     "end_time": "2024-12-16T10:17:29.080095Z",
     "start_time": "2024-12-16T10:17:29.065460Z"
    }
   },
   "cell_type": "code",
   "source": [
    "# Process ram_capacity\n",
    "print_unique_values_with_counts(combined_df, column='ram_capacity', prefix='BEFORE')\n",
    "combined_df = process_ram_capacity(combined_df)\n",
    "print_unique_values_with_counts(combined_df, column='ram_capacity', prefix='AFTER')"
   ],
   "id": "ac68f69e45993ea3",
   "outputs": [
    {
     "name": "stdout",
     "output_type": "stream",
     "text": [
      "BEFORE\n",
      "Column: ram_capacity\n",
      "Unique Values and Counts:\n",
      "ram_capacity\n",
      "16GB     444\n",
      "32GB     183\n",
      "8GB      115\n",
      "16 GB    104\n",
      "8 GB      21\n",
      "12GB      13\n",
      "64GB      12\n",
      "32 GB     12\n",
      "24GB      11\n",
      "36GB       4\n",
      "12 GB      4\n",
      "24 GB      4\n",
      "           3\n",
      "18GB       2\n",
      "48GB       2\n",
      "GB         1\n",
      "Name: count, dtype: int64\n",
      "Total Count: 935\n",
      "----------------------------------------------------------------------------------------------------\n",
      "AFTER\n",
      "Column: ram_capacity\n",
      "Unique Values and Counts:\n",
      "ram_capacity\n",
      "16.0    548\n",
      "32.0    195\n",
      "8.0     136\n",
      "12.0     17\n",
      "24.0     15\n",
      "64.0     12\n",
      "36.0      4\n",
      "18.0      2\n",
      "48.0      2\n",
      "Name: count, dtype: int64\n",
      "Total Count: 931\n",
      "----------------------------------------------------------------------------------------------------\n"
     ]
    }
   ],
   "execution_count": 30
  },
  {
   "metadata": {
    "ExecuteTime": {
     "end_time": "2024-12-16T10:17:29.155935Z",
     "start_time": "2024-12-16T10:17:29.135723Z"
    }
   },
   "cell_type": "code",
   "source": [
    "# Process ram_brand\n",
    "print_unique_values_with_counts(combined_df, column='ram_brand', prefix='BEFORE')\n",
    "combined_df = process_ram_brand(combined_df)\n",
    "print_unique_values_with_counts(combined_df, column='ram_brand', prefix='AFTER')"
   ],
   "id": "f4f9781deb3a4a6e",
   "outputs": [
    {
     "name": "stdout",
     "output_type": "stream",
     "text": [
      "BEFORE\n",
      "Column: ram_brand\n",
      "Unique Values and Counts:\n",
      "ram_brand\n",
      "DDR5            325\n",
      "DDR4            228\n",
      "LPDDR5          120\n",
      "LPDDR5X          75\n",
      "LPDDR5x          45\n",
      "LPDDR4X          29\n",
      "LPDDR3           11\n",
      "LPDDR4            9\n",
      "LPDDR4x           7\n",
      "3200              7\n",
      "5600              6\n",
      "DDR5 4800MHz      5\n",
      "DDR5-4800         4\n",
      "4800              4\n",
      "5200              4\n",
      "DDR4-3200         3\n",
      "LPDDR5x-7467      3\n",
      "DDR5 4800         2\n",
      "DDR5-5600         2\n",
      "1TB               1\n",
      "LPDDDR5           1\n",
      "7467              1\n",
      "Soldered          1\n",
      "LPDDR5-6400       1\n",
      "6400              1\n",
      "7500              1\n",
      "LPDDR5-5200       1\n",
      "                  1\n",
      "Name: count, dtype: int64\n",
      "Total Count: 898\n",
      "----------------------------------------------------------------------------------------------------\n",
      "AFTER\n",
      "Column: ram_brand\n",
      "Unique Values and Counts:\n",
      "ram_brand\n",
      "DDR5       338\n",
      "DDR4       231\n",
      "LPDDR5X    123\n",
      "LPDDR5     123\n",
      "LPDDR4X     36\n",
      "LPDDR3      11\n",
      "LPDDR4       9\n",
      "Name: count, dtype: int64\n",
      "Total Count: 871\n",
      "----------------------------------------------------------------------------------------------------\n"
     ]
    }
   ],
   "execution_count": 31
  },
  {
   "metadata": {
    "ExecuteTime": {
     "end_time": "2024-12-16T10:17:29.217134Z",
     "start_time": "2024-12-16T10:17:29.191357Z"
    }
   },
   "cell_type": "code",
   "source": [
    "# Process hard_drive_capacity\n",
    "print_unique_values_with_counts(combined_df, column='hard_drive_capacity', prefix='BEFORE')\n",
    "combined_df = process_hard_drive_capacity(combined_df)\n",
    "print_unique_values_with_counts(combined_df, column='hard_drive_capacity', prefix='AFTER')"
   ],
   "id": "8ede77006f5b9dd",
   "outputs": [
    {
     "name": "stdout",
     "output_type": "stream",
     "text": [
      "BEFORE\n",
      "Column: hard_drive_capacity\n",
      "Unique Values and Counts:\n",
      "hard_drive_capacity\n",
      "512 GB     259\n",
      "512GB      227\n",
      "1TB        148\n",
      "1          105\n",
      "256 GB      48\n",
      "256GB       24\n",
      "512         17\n",
      "B           13\n",
      "2           11\n",
      "2TB          9\n",
      "SSD          4\n",
      "1024         4\n",
      "4TB          4\n",
      "128 GB       2\n",
      "128GB        2\n",
      "(            2\n",
      "5PA          1\n",
      "6PA          1\n",
      "1TB SSD      1\n",
      "9PA          1\n",
      "PCIe         1\n",
      "256          1\n",
      "Name: count, dtype: int64\n",
      "Total Count: 885\n",
      "----------------------------------------------------------------------------------------------------\n",
      "AFTER\n",
      "Column: hard_drive_capacity\n",
      "Unique Values and Counts:\n",
      "hard_drive_capacity\n",
      "512GB    503\n",
      "1TB      258\n",
      "256GB     73\n",
      "2TB       20\n",
      "128GB      4\n",
      "4TB        4\n",
      "Name: count, dtype: int64\n",
      "Total Count: 862\n",
      "----------------------------------------------------------------------------------------------------\n"
     ]
    }
   ],
   "execution_count": 32
  },
  {
   "metadata": {
    "ExecuteTime": {
     "end_time": "2024-12-16T10:17:29.263327Z",
     "start_time": "2024-12-16T10:17:29.251269Z"
    }
   },
   "cell_type": "code",
   "source": [
    "# Process card \n",
    "print_unique_values_with_counts(combined_df, column='card', prefix='BEFORE')\n",
    "combined_df = process_hard_drive_capacity(combined_df)\n",
    "print_unique_values_with_counts(combined_df, column='card', prefix='AFTER')"
   ],
   "id": "288ac303e11b1a71",
   "outputs": [
    {
     "name": "stdout",
     "output_type": "stream",
     "text": [
      "BEFORE\n",
      "Column: card\n",
      "Unique Values and Counts:\n",
      "card\n",
      "Intel Iris Xe Graphics                           133\n",
      "Intel Arc Graphics                                88\n",
      "Intel UHD Graphics                                68\n",
      "Intel Graphics                                    41\n",
      "AMD Radeon Graphics                               26\n",
      "                                                ... \n",
      "NVIDIA RTX A4000 w/8GB                             1\n",
      "NVIDIA RTX A2000 w/4GB Intel Iris Xe Graphics      1\n",
      "NVidia Geforce RTX 4060 8GB                        1\n",
      "NVidia Geforce RTX 4050                            1\n",
      "Geforce RTX3080 16GB                               1\n",
      "Name: count, Length: 245, dtype: int64\n",
      "Total Count: 924\n",
      "----------------------------------------------------------------------------------------------------\n",
      "AFTER\n",
      "Column: card\n",
      "Unique Values and Counts:\n",
      "card\n",
      "Intel Iris Xe Graphics                           133\n",
      "Intel Arc Graphics                                88\n",
      "Intel UHD Graphics                                68\n",
      "Intel Graphics                                    41\n",
      "AMD Radeon Graphics                               26\n",
      "                                                ... \n",
      "NVIDIA RTX A4000 w/8GB                             1\n",
      "NVIDIA RTX A2000 w/4GB Intel Iris Xe Graphics      1\n",
      "NVidia Geforce RTX 4060 8GB                        1\n",
      "NVidia Geforce RTX 4050                            1\n",
      "Geforce RTX3080 16GB                               1\n",
      "Name: count, Length: 245, dtype: int64\n",
      "Total Count: 924\n",
      "----------------------------------------------------------------------------------------------------\n"
     ]
    }
   ],
   "execution_count": 33
  },
  {
   "metadata": {
    "ExecuteTime": {
     "end_time": "2024-12-16T10:17:29.309952Z",
     "start_time": "2024-12-16T10:17:29.296914Z"
    }
   },
   "cell_type": "code",
   "source": [
    "# Save the combined dataframe to a new CSV file\n",
    "# combined_df.to_csv(CSV_FILE, index=False)"
   ],
   "id": "ac469356c531a35f",
   "outputs": [],
   "execution_count": 34
  }
 ],
 "metadata": {
  "kernelspec": {
   "display_name": "Python 3",
   "language": "python",
   "name": "python3"
  },
  "language_info": {
   "codemirror_mode": {
    "name": "ipython",
    "version": 2
   },
   "file_extension": ".py",
   "mimetype": "text/x-python",
   "name": "python",
   "nbconvert_exporter": "python",
   "pygments_lexer": "ipython2",
   "version": "2.7.6"
  }
 },
 "nbformat": 4,
 "nbformat_minor": 5
}
