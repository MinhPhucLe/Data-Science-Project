{
 "cells": [
  {
   "cell_type": "code",
   "id": "5dbe69991a0183b3",
   "metadata": {
    "ExecuteTime": {
     "end_time": "2024-12-16T16:54:24.857088Z",
     "start_time": "2024-12-16T16:54:24.850752Z"
    }
   },
   "source": [
    "import os\n",
    "import pandas as pd\n",
    "from pandas import DataFrame"
   ],
   "outputs": [],
   "execution_count": 23
  },
  {
   "cell_type": "code",
   "id": "14a15d63b535a2b1",
   "metadata": {
    "ExecuteTime": {
     "end_time": "2024-12-16T16:54:24.873226Z",
     "start_time": "2024-12-16T16:54:24.866371Z"
    }
   },
   "source": [
    "# Define the folder containing the CSV files\n",
    "FOLDER_PATH = '../Crawl'\n",
    "FILE_PATH = '../Data/Data.csv'\n",
    "CSV_FILE = '../Data/processed_data.csv'"
   ],
   "outputs": [],
   "execution_count": 24
  },
  {
   "cell_type": "code",
   "id": "c7a9e4b16e1a2379",
   "metadata": {
    "ExecuteTime": {
     "end_time": "2024-12-16T16:54:24.903915Z",
     "start_time": "2024-12-16T16:54:24.890893Z"
    }
   },
   "source": [
    "#  # List to hold dataframes\n",
    "# dfs = []\n",
    "# \n",
    "# # Iterate over all files in the folder\n",
    "# for filename in os.listdir(FOLDER_PATH):\n",
    "#     if filename.endswith('.csv'):\n",
    "#         file_path = os.path.join(FOLDER_PATH, filename)\n",
    "#         # Read the CSV file into a dataframe\n",
    "#         df = pd.read_csv(file_path)\n",
    "#         # Append the dataframe to the list\n",
    "#         dfs.append(df)\n",
    "# \n",
    "# Concatenate all dataframes\n",
    "# combined_df = pd.concat(dfs, ignore_index=True)\n",
    "combined_df = pd.read_csv(FILE_PATH)\n",
    "\n",
    "# Drop unnecessary columns \n",
    "# combined_df = combined_df.drop(columns=['page', 'name', 'link', 'image'])"
   ],
   "outputs": [],
   "execution_count": 25
  },
  {
   "cell_type": "code",
   "id": "cd22f29a3f280950",
   "metadata": {
    "ExecuteTime": {
     "end_time": "2024-12-16T16:54:24.935165Z",
     "start_time": "2024-12-16T16:54:24.920744Z"
    }
   },
   "source": [
    "def print_unique_values_with_counts(df: DataFrame, column: str, prefix: str):\n",
    "    print(prefix)\n",
    "    print(f\"Column: {column}\")\n",
    "    print(\"Unique Values and Counts:\")\n",
    "    print(df[column].value_counts())\n",
    "    print(f\"Total Count: {df[column].count()}\")\n",
    "    print(\"-\" * 100)"
   ],
   "outputs": [],
   "execution_count": 26
  },
  {
   "cell_type": "code",
   "id": "f459017a8a53befe",
   "metadata": {
    "ExecuteTime": {
     "end_time": "2024-12-16T16:54:24.966863Z",
     "start_time": "2024-12-16T16:54:24.952556Z"
    }
   },
   "source": [
    "from mapping_brand import brand_mapping\n",
    "\n",
    "def process_brand(data: DataFrame, column='brand') -> DataFrame:\n",
    "    data[column] = data[column].replace(brand_mapping)\n",
    "    data = data[~data[column].isin(['Prestige', 'kstation', 'gaming', 'Workstation', 'Samsung', 'iPad'])]\n",
    "    \n",
    "    return data"
   ],
   "outputs": [],
   "execution_count": 27
  },
  {
   "cell_type": "code",
   "id": "ded108c201650d33",
   "metadata": {
    "ExecuteTime": {
     "end_time": "2024-12-16T16:54:24.997255Z",
     "start_time": "2024-12-16T16:54:24.983998Z"
    }
   },
   "source": [
    "from mapping_cpu import cpu_mapping\n",
    "\n",
    "def process_cpu(data: DataFrame, column='cpu') -> DataFrame:\n",
    "    data[column] = data[column].str.replace(\"CPU \", \"\", regex=False)\n",
    "    data[column] = data[column].replace(cpu_mapping)\n",
    "    return data"
   ],
   "outputs": [],
   "execution_count": 28
  },
  {
   "cell_type": "code",
   "id": "280dd698a7611219",
   "metadata": {
    "ExecuteTime": {
     "end_time": "2024-12-16T16:54:25.028344Z",
     "start_time": "2024-12-16T16:54:25.014288Z"
    }
   },
   "source": [
    "from mapping_cpu_brand import cpu_brand_mapping\n",
    "\n",
    "def process_cpu_brand(data: DataFrame, column='cpu_brand') -> DataFrame:\n",
    "    data[column] = data[column].replace(cpu_brand_mapping)\n",
    "    data = data[~data[column].isin(['CPU', 'Chip'])]\n",
    "    \n",
    "    return data"
   ],
   "outputs": [],
   "execution_count": 29
  },
  {
   "cell_type": "code",
   "id": "6598b27ed4316155",
   "metadata": {
    "ExecuteTime": {
     "end_time": "2024-12-16T16:54:25.059264Z",
     "start_time": "2024-12-16T16:54:25.044960Z"
    }
   },
   "source": [
    "def process_ram_capacity(data: DataFrame, column='ram_capacity') -> DataFrame:\n",
    "    data[column] = data[column].str.extract(r\"(\\d+)\").astype(float)\n",
    "    return data"
   ],
   "outputs": [],
   "execution_count": 30
  },
  {
   "cell_type": "code",
   "id": "cb84583c37f805a3",
   "metadata": {
    "ExecuteTime": {
     "end_time": "2024-12-16T16:54:25.091289Z",
     "start_time": "2024-12-16T16:54:25.077154Z"
    }
   },
   "source": [
    "from mapping_ram_brand import ram_brand_mapping\n",
    "\n",
    "def process_ram_brand(data: DataFrame, column='ram_brand') -> DataFrame:\n",
    "    data[column] = data[column].str.strip().replace(ram_brand_mapping)\n",
    "    data = data[~data[column].isin([\"3200\", \"5600\", \"4800\", \"5200\", \"7467\", \"6400\", \"7500\", \"1TB\", \"Soldered\"])]\n",
    "    return data"
   ],
   "outputs": [],
   "execution_count": 31
  },
  {
   "cell_type": "code",
   "id": "59057276a8eaad3d",
   "metadata": {
    "ExecuteTime": {
     "end_time": "2024-12-16T16:54:25.122611Z",
     "start_time": "2024-12-16T16:54:25.108325Z"
    }
   },
   "source": [
    "def process_hard_drive_capacity(data: DataFrame, column='hard_drive_capacity') -> DataFrame:\n",
    "    data[column] = data[column].str.extract(r\"(\\d+)\")[0].astype(float).apply(lambda x: f\"{int(x)}TB\" if x in [1, 2, 4] else (\"1TB\" if x == 1024 else (f\"{int(x)}GB\" if x in [128, 256, 512] else None)))\n",
    "    return data"
   ],
   "outputs": [],
   "execution_count": 32
  },
  {
   "cell_type": "code",
   "id": "1c07124dc0753163",
   "metadata": {
    "ExecuteTime": {
     "end_time": "2024-12-16T16:54:25.154025Z",
     "start_time": "2024-12-16T16:54:25.139711Z"
    }
   },
   "source": [
    "from mapping_card import card_mapping\n",
    "\n",
    "def process_card(data: DataFrame, column='card') -> DataFrame:\n",
    "    data[column] = data[column].str.replace(\"Card rời \", \"\", regex=False)\n",
    "    data[column] = data[column].str.replace(\"Nvidia\", \"NVIDIA\", regex=False)\n",
    "    data[column] = data[column].str.replace(\"NVidia\", \"NVIDIA\", regex=False)\n",
    "    data[column] = data[column].str.replace(\"Geforce\", \"GeForce\", regex=False)\n",
    "    data[column] = data[column].str.replace(\n",
    "        r'^(GeForce|Quadro)',\n",
    "        'NVIDIA GeForce',\n",
    "        regex=True\n",
    "    )\n",
    "    data[column] = data[column].replace(card_mapping)\n",
    "    return data"
   ],
   "outputs": [],
   "execution_count": 33
  },
  {
   "metadata": {
    "ExecuteTime": {
     "end_time": "2024-12-16T16:54:25.184867Z",
     "start_time": "2024-12-16T16:54:25.169978Z"
    }
   },
   "cell_type": "code",
   "source": [
    "from mapping_card_brand import card_brand_mapping\n",
    "\n",
    "def process_card_brand(data: DataFrame, column='card_brand') -> DataFrame:\n",
    "    data[column] = data[column].str.replace(\"Nvidia\", \"NVIDIA\", regex=False)\n",
    "    data[column] = data[column].str.replace(\"NVidia\", \"NVIDIA\", regex=False) \n",
    "    data[column] = data[column].replace(card_brand_mapping)\n",
    "    return data "
   ],
   "id": "41b4ead4e17597d7",
   "outputs": [],
   "execution_count": 34
  },
  {
   "cell_type": "code",
   "id": "a6ac7410",
   "metadata": {
    "ExecuteTime": {
     "end_time": "2024-12-16T16:54:25.231615Z",
     "start_time": "2024-12-16T16:54:25.201818Z"
    }
   },
   "source": [
    "#Process card\n",
    "print_unique_values_with_counts(combined_df, column='card', prefix='BEFORE')\n",
    "combined_df = process_card(combined_df)\n",
    "print_unique_values_with_counts(combined_df, column='card', prefix='AFTER')"
   ],
   "outputs": [
    {
     "name": "stdout",
     "output_type": "stream",
     "text": [
      "BEFORE\n",
      "Column: card\n",
      "Unique Values and Counts:\n",
      "card\n",
      "Intel Iris Xe Graphics                         441\n",
      "Intel Arc Graphics                             264\n",
      "Intel UHD Graphics                             217\n",
      "Intel Graphics                                 186\n",
      "NVIDIA GeForce RTX 4060                         89\n",
      "                                              ... \n",
      "Intel Iris Xe Graphics | Intel UHD Graphics      1\n",
      "Intel UHD Graphics | NVIDIA Quadro P520          1\n",
      "NVIDIA GeForce RTX 4060 6GB GDDR6                1\n",
      "Apple GPU 16 Core                                1\n",
      "NVIDIA GeForce RTX3080 16GB                      1\n",
      "Name: count, Length: 192, dtype: int64\n",
      "Total Count: 2203\n",
      "----------------------------------------------------------------------------------------------------\n",
      "AFTER\n",
      "Column: card\n",
      "Unique Values and Counts:\n",
      "card\n",
      "Intel Iris Xe Graphics                         442\n",
      "Intel Arc Graphics                             264\n",
      "Intel UHD Graphics                             217\n",
      "Intel Graphics                                 186\n",
      "NVIDIA GeForce RTX 4060                         89\n",
      "                                              ... \n",
      "AMD Radeon RX7600S 8GB GDDR6                     1\n",
      "Intel Iris Xe Graphics | Intel UHD Graphics      1\n",
      "Intel UHD Graphics | NVIDIA Quadro P520          1\n",
      "NVIDIA GeForce RTX 4060 6GB GDDR6                1\n",
      "NVIDIA GeForce RTX3080 16GB                      1\n",
      "Name: count, Length: 191, dtype: int64\n",
      "Total Count: 2203\n",
      "----------------------------------------------------------------------------------------------------\n"
     ]
    }
   ],
   "execution_count": 35
  },
  {
   "cell_type": "code",
   "id": "78b4ebd2d7890876",
   "metadata": {
    "ExecuteTime": {
     "end_time": "2024-12-16T16:54:25.278037Z",
     "start_time": "2024-12-16T16:54:25.264240Z"
    }
   },
   "source": [
    "# Process brand\n",
    "print_unique_values_with_counts(combined_df, column='brand', prefix='BEFORE')\n",
    "combined_df = process_brand(combined_df)\n",
    "print_unique_values_with_counts(combined_df, column='brand', prefix='AFTER')"
   ],
   "outputs": [
    {
     "name": "stdout",
     "output_type": "stream",
     "text": [
      "BEFORE\n",
      "Column: brand\n",
      "Unique Values and Counts:\n",
      "brand\n",
      "Lenovo       696\n",
      "Asus         356\n",
      "HP           336\n",
      "Dell         326\n",
      "Acer         230\n",
      "MSI          168\n",
      "Macbook       38\n",
      "LG            35\n",
      "Gaming        17\n",
      "Microsoft     10\n",
      "Name: count, dtype: int64\n",
      "Total Count: 2212\n",
      "----------------------------------------------------------------------------------------------------\n",
      "AFTER\n",
      "Column: brand\n",
      "Unique Values and Counts:\n",
      "brand\n",
      "Lenovo       696\n",
      "Asus         356\n",
      "HP           336\n",
      "Dell         326\n",
      "Acer         230\n",
      "MSI          168\n",
      "Macbook       38\n",
      "LG            35\n",
      "Gaming        17\n",
      "Microsoft     10\n",
      "Name: count, dtype: int64\n",
      "Total Count: 2212\n",
      "----------------------------------------------------------------------------------------------------\n"
     ]
    }
   ],
   "execution_count": 36
  },
  {
   "cell_type": "code",
   "id": "9b31241f22a1c29a",
   "metadata": {
    "ExecuteTime": {
     "end_time": "2024-12-16T16:54:25.324237Z",
     "start_time": "2024-12-16T16:54:25.301306Z"
    }
   },
   "source": [
    "# Process cpu\n",
    "print_unique_values_with_counts(combined_df, column='cpu', prefix='BEFORE')\n",
    "combined_df = process_cpu(combined_df)\n",
    "print_unique_values_with_counts(combined_df, column='cpu', prefix='AFTER')"
   ],
   "outputs": [
    {
     "name": "stdout",
     "output_type": "stream",
     "text": [
      "BEFORE\n",
      "Column: cpu\n",
      "Unique Values and Counts:\n",
      "cpu\n",
      "Intel Core Ultra 7 155H    174\n",
      "Intel Core i71355U          86\n",
      "Intel Core Ultra 5 125H     74\n",
      "Intel Core i51335U          68\n",
      "Intel Core Ultra 5 125U     40\n",
      "                          ... \n",
      "AMD Ryzen 5 6600H            1\n",
      "Apple M4                     1\n",
      "Apple M4 (10-core)           1\n",
      "Intel Core i5-1334U          1\n",
      "AMD Ryzen 5 4650U            1\n",
      "Name: count, Length: 355, dtype: int64\n",
      "Total Count: 2206\n",
      "----------------------------------------------------------------------------------------------------\n",
      "AFTER\n",
      "Column: cpu\n",
      "Unique Values and Counts:\n",
      "cpu\n",
      "Intel Core Ultra 7 155H     174\n",
      "Intel Core i71355U           86\n",
      "Intel Core Ultra 5 125H      74\n",
      "Intel Core i51335U           68\n",
      "Intel Core Ultra 5 125U      40\n",
      "                           ... \n",
      "Apple M4                      1\n",
      "Apple M4 (10-core)            1\n",
      "Intel Core i5-1334U           1\n",
      "Intel Core  Ultra 5 125H      1\n",
      "AMD Ryzen 5 4650U             1\n",
      "Name: count, Length: 352, dtype: int64\n",
      "Total Count: 2206\n",
      "----------------------------------------------------------------------------------------------------\n"
     ]
    }
   ],
   "execution_count": 37
  },
  {
   "cell_type": "code",
   "id": "2761a01e10f97816",
   "metadata": {
    "ExecuteTime": {
     "end_time": "2024-12-16T16:54:25.370812Z",
     "start_time": "2024-12-16T16:54:25.354898Z"
    }
   },
   "source": [
    "# Process cpu_brand\n",
    "print_unique_values_with_counts(combined_df, column='cpu_brand', prefix='BEFORE')\n",
    "combined_df = process_cpu_brand(combined_df)\n",
    "print_unique_values_with_counts(combined_df, column='cpu_brand', prefix='AFTER')"
   ],
   "outputs": [
    {
     "name": "stdout",
     "output_type": "stream",
     "text": [
      "BEFORE\n",
      "Column: cpu_brand\n",
      "Unique Values and Counts:\n",
      "cpu_brand\n",
      "Intel       1862\n",
      "AMD          286\n",
      "Apple         36\n",
      "Qualcomm      16\n",
      "Ryzen         13\n",
      "Name: count, dtype: int64\n",
      "Total Count: 2213\n",
      "----------------------------------------------------------------------------------------------------\n",
      "AFTER\n",
      "Column: cpu_brand\n",
      "Unique Values and Counts:\n",
      "cpu_brand\n",
      "Intel       1862\n",
      "AMD          299\n",
      "Apple         36\n",
      "Qualcomm      16\n",
      "Name: count, dtype: int64\n",
      "Total Count: 2213\n",
      "----------------------------------------------------------------------------------------------------\n"
     ]
    }
   ],
   "execution_count": 38
  },
  {
   "cell_type": "code",
   "id": "ac68f69e45993ea3",
   "metadata": {
    "ExecuteTime": {
     "end_time": "2024-12-16T16:54:25.401715Z",
     "start_time": "2024-12-16T16:54:25.389120Z"
    }
   },
   "source": [
    "# # Process ram_capacity\n",
    "# print_unique_values_with_counts(combined_df, column='ram_capacity', prefix='BEFORE')\n",
    "# combined_df = process_ram_capacity(combined_df)\n",
    "# print_unique_values_with_counts(combined_df, column='ram_capacity', prefix='AFTER')"
   ],
   "outputs": [],
   "execution_count": 39
  },
  {
   "cell_type": "code",
   "id": "f4f9781deb3a4a6e",
   "metadata": {
    "ExecuteTime": {
     "end_time": "2024-12-16T16:54:25.432488Z",
     "start_time": "2024-12-16T16:54:25.419069Z"
    }
   },
   "source": [
    "# Process ram_brand\n",
    "print_unique_values_with_counts(combined_df, column='ram_brand', prefix='BEFORE')\n",
    "combined_df = process_ram_brand(combined_df)\n",
    "print_unique_values_with_counts(combined_df, column='ram_brand', prefix='AFTER')"
   ],
   "outputs": [
    {
     "name": "stdout",
     "output_type": "stream",
     "text": [
      "BEFORE\n",
      "Column: ram_brand\n",
      "Unique Values and Counts:\n",
      "ram_brand\n",
      "DDR5       1143\n",
      "DDR4        601\n",
      "LPDDR5      163\n",
      "LPDDR5X     123\n",
      "LPDDR4X      36\n",
      "LPDDR4       12\n",
      "LPDDR3       11\n",
      "LDDR4         1\n",
      "Name: count, dtype: int64\n",
      "Total Count: 2090\n",
      "----------------------------------------------------------------------------------------------------\n",
      "AFTER\n",
      "Column: ram_brand\n",
      "Unique Values and Counts:\n",
      "ram_brand\n",
      "DDR5       1143\n",
      "DDR4        601\n",
      "LPDDR5      163\n",
      "LPDDR5X     123\n",
      "LPDDR4X      36\n",
      "LPDDR4       12\n",
      "LPDDR3       11\n",
      "LDDR4         1\n",
      "Name: count, dtype: int64\n",
      "Total Count: 2090\n",
      "----------------------------------------------------------------------------------------------------\n"
     ]
    }
   ],
   "execution_count": 40
  },
  {
   "cell_type": "code",
   "id": "8ede77006f5b9dd",
   "metadata": {
    "ExecuteTime": {
     "end_time": "2024-12-16T16:54:25.572618Z",
     "start_time": "2024-12-16T16:54:25.559817Z"
    }
   },
   "source": [
    "# Process hard_drive_capacity\n",
    "print_unique_values_with_counts(combined_df, column='hard_drive_capacity', prefix='BEFORE')\n",
    "combined_df = process_hard_drive_capacity(combined_df)\n",
    "print_unique_values_with_counts(combined_df, column='hard_drive_capacity', prefix='AFTER')"
   ],
   "outputs": [
    {
     "name": "stdout",
     "output_type": "stream",
     "text": [
      "BEFORE\n",
      "Column: hard_drive_capacity\n",
      "Unique Values and Counts:\n",
      "hard_drive_capacity\n",
      "512GB     1130\n",
      "1TB        559\n",
      "512 GB     201\n",
      "256GB       98\n",
      "1 TB        71\n",
      "2TB         50\n",
      "256 GB      11\n",
      "4TB          5\n",
      "2 TB         4\n",
      "128GB        4\n",
      "Name: count, dtype: int64\n",
      "Total Count: 2133\n",
      "----------------------------------------------------------------------------------------------------\n",
      "AFTER\n",
      "Column: hard_drive_capacity\n",
      "Unique Values and Counts:\n",
      "hard_drive_capacity\n",
      "512GB    1331\n",
      "1TB       630\n",
      "256GB     109\n",
      "2TB        54\n",
      "4TB         5\n",
      "128GB       4\n",
      "Name: count, dtype: int64\n",
      "Total Count: 2133\n",
      "----------------------------------------------------------------------------------------------------\n"
     ]
    }
   ],
   "execution_count": 41
  },
  {
   "cell_type": "code",
   "id": "288ac303e11b1a71",
   "metadata": {
    "ExecuteTime": {
     "end_time": "2024-12-16T16:54:25.742583Z",
     "start_time": "2024-12-16T16:54:25.699414Z"
    }
   },
   "source": [
    "# Process card \n",
    "print_unique_values_with_counts(combined_df, column='card', prefix='BEFORE')\n",
    "combined_df = process_card(combined_df)\n",
    "print_unique_values_with_counts(combined_df, column='card', prefix='AFTER')"
   ],
   "outputs": [
    {
     "name": "stdout",
     "output_type": "stream",
     "text": [
      "BEFORE\n",
      "Column: card\n",
      "Unique Values and Counts:\n",
      "card\n",
      "Intel Iris Xe Graphics                         442\n",
      "Intel Arc Graphics                             264\n",
      "Intel UHD Graphics                             217\n",
      "Intel Graphics                                 186\n",
      "NVIDIA GeForce RTX 4060                         89\n",
      "                                              ... \n",
      "AMD Radeon RX7600S 8GB GDDR6                     1\n",
      "Intel Iris Xe Graphics | Intel UHD Graphics      1\n",
      "Intel UHD Graphics | NVIDIA Quadro P520          1\n",
      "NVIDIA GeForce RTX 4060 6GB GDDR6                1\n",
      "NVIDIA GeForce RTX3080 16GB                      1\n",
      "Name: count, Length: 191, dtype: int64\n",
      "Total Count: 2203\n",
      "----------------------------------------------------------------------------------------------------\n",
      "AFTER\n",
      "Column: card\n",
      "Unique Values and Counts:\n",
      "card\n",
      "Intel Iris Xe Graphics                         442\n",
      "Intel Arc Graphics                             264\n",
      "Intel UHD Graphics                             217\n",
      "Intel Graphics                                 186\n",
      "NVIDIA GeForce RTX 4060                         89\n",
      "                                              ... \n",
      "AMD Radeon RX7600S 8GB GDDR6                     1\n",
      "Intel Iris Xe Graphics | Intel UHD Graphics      1\n",
      "Intel UHD Graphics | NVIDIA Quadro P520          1\n",
      "NVIDIA GeForce RTX 4060 6GB GDDR6                1\n",
      "NVIDIA GeForce RTX3080 16GB                      1\n",
      "Name: count, Length: 191, dtype: int64\n",
      "Total Count: 2203\n",
      "----------------------------------------------------------------------------------------------------\n"
     ]
    }
   ],
   "execution_count": 42
  },
  {
   "metadata": {
    "ExecuteTime": {
     "end_time": "2024-12-16T16:54:25.836477Z",
     "start_time": "2024-12-16T16:54:25.818684Z"
    }
   },
   "cell_type": "code",
   "source": [
    "# Process card _brand\n",
    "print_unique_values_with_counts(combined_df, column='card_brand', prefix='BEFORE')\n",
    "combined_df = process_card_brand(combined_df)\n",
    "print_unique_values_with_counts(combined_df, column='card_brand', prefix='AFTER')"
   ],
   "id": "1ac190d464872be9",
   "outputs": [
    {
     "name": "stdout",
     "output_type": "stream",
     "text": [
      "BEFORE\n",
      "Column: card_brand\n",
      "Unique Values and Counts:\n",
      "card_brand\n",
      "Intel         1114\n",
      "Nvidia         465\n",
      "NVIDIA         182\n",
      "AMD            122\n",
      "Apple           80\n",
      "RTX             74\n",
      "GeForce         49\n",
      "Card            37\n",
      "Iris            14\n",
      "Quadro          13\n",
      "Geforce          8\n",
      "Qualcomm         7\n",
      "UHD              7\n",
      "GPU              5\n",
      "Integrated       4\n",
      "Qualcom          3\n",
      "Radeon           3\n",
      "Arc              2\n",
      "30-core          2\n",
      "SD               2\n",
      "NVidia           2\n",
      "Không            1\n",
      "Adreno           1\n",
      "10-core          1\n",
      "RX               1\n",
      "8-Core           1\n",
      "14-core          1\n",
      "18-core          1\n",
      "eForce           1\n",
      "Name: count, dtype: int64\n",
      "Total Count: 2203\n",
      "----------------------------------------------------------------------------------------------------\n",
      "AFTER\n",
      "Column: card_brand\n",
      "Unique Values and Counts:\n",
      "card_brand\n",
      "Intel       1137\n",
      "NVIDIA       794\n",
      "AMD          126\n",
      "Apple         80\n",
      "Qualcomm      11\n",
      "Name: count, dtype: int64\n",
      "Total Count: 2148\n",
      "----------------------------------------------------------------------------------------------------\n"
     ]
    }
   ],
   "execution_count": 43
  },
  {
   "cell_type": "code",
   "id": "ac469356c531a35f",
   "metadata": {
    "ExecuteTime": {
     "end_time": "2024-12-16T16:54:25.868236Z",
     "start_time": "2024-12-16T16:54:25.854073Z"
    }
   },
   "source": [
    "# Save the combined dataframe to a new CSV file\n",
    "combined_df.to_csv(CSV_FILE, index=False)"
   ],
   "outputs": [],
   "execution_count": 44
  },
  {
   "metadata": {
    "ExecuteTime": {
     "end_time": "2024-12-16T16:54:25.898637Z",
     "start_time": "2024-12-16T16:54:25.884225Z"
    }
   },
   "cell_type": "code",
   "source": "",
   "id": "64618af66764a704",
   "outputs": [],
   "execution_count": null
  }
 ],
 "metadata": {
  "kernelspec": {
   "display_name": "base",
   "language": "python",
   "name": "python3"
  },
  "language_info": {
   "codemirror_mode": {
    "name": "ipython",
    "version": 3
   },
   "file_extension": ".py",
   "mimetype": "text/x-python",
   "name": "python",
   "nbconvert_exporter": "python",
   "pygments_lexer": "ipython3",
   "version": "3.12.5"
  }
 },
 "nbformat": 4,
 "nbformat_minor": 5
}
