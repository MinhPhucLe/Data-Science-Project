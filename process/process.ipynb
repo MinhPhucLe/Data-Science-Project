{
 "cells": [
  {
   "cell_type": "code",
   "execution_count": 115,
   "id": "5dbe69991a0183b3",
   "metadata": {
    "ExecuteTime": {
     "end_time": "2024-12-16T11:13:11.464765Z",
     "start_time": "2024-12-16T11:13:11.455725Z"
    }
   },
   "outputs": [],
   "source": [
    "import os\n",
    "import pandas as pd\n",
    "from pandas import DataFrame"
   ]
  },
  {
   "cell_type": "code",
   "execution_count": 116,
   "id": "14a15d63b535a2b1",
   "metadata": {
    "ExecuteTime": {
     "end_time": "2024-12-16T11:13:11.479814Z",
     "start_time": "2024-12-16T11:13:11.471298Z"
    }
   },
   "outputs": [],
   "source": [
    "# Define the folder containing the CSV files\n",
    "FOLDER_PATH = '../Crawl'\n",
    "CSV_FILE = '../combined.csv'"
   ]
  },
  {
   "cell_type": "code",
   "execution_count": 117,
   "id": "c7a9e4b16e1a2379",
   "metadata": {
    "ExecuteTime": {
     "end_time": "2024-12-16T11:13:11.542583Z",
     "start_time": "2024-12-16T11:13:11.513003Z"
    }
   },
   "outputs": [],
   "source": [
    " # List to hold dataframes\n",
    "dfs = []\n",
    "\n",
    "# Iterate over all files in the folder\n",
    "for filename in os.listdir(FOLDER_PATH):\n",
    "    if filename.endswith('.csv'):\n",
    "        file_path = os.path.join(FOLDER_PATH, filename)\n",
    "        # Read the CSV file into a dataframe\n",
    "        df = pd.read_csv(file_path)\n",
    "        # Append the dataframe to the list\n",
    "        dfs.append(df)\n",
    "\n",
    "# Concatenate all dataframes\n",
    "combined_df = pd.concat(dfs, ignore_index=True)\n",
    "\n",
    "# Drop unnecessary columns \n",
    "combined_df = combined_df.drop(columns=['page', 'name', 'link', 'image'])"
   ]
  },
  {
   "cell_type": "code",
   "execution_count": 118,
   "id": "cd22f29a3f280950",
   "metadata": {
    "ExecuteTime": {
     "end_time": "2024-12-16T11:13:11.588788Z",
     "start_time": "2024-12-16T11:13:11.576680Z"
    }
   },
   "outputs": [],
   "source": [
    "def print_unique_values_with_counts(df: DataFrame, column: str, prefix: str):\n",
    "    print(prefix)\n",
    "    print(f\"Column: {column}\")\n",
    "    print(\"Unique Values and Counts:\")\n",
    "    print(df[column].value_counts())\n",
    "    print(f\"Total Count: {df[column].count()}\")\n",
    "    print(\"-\" * 100)"
   ]
  },
  {
   "cell_type": "code",
   "execution_count": 119,
   "id": "f459017a8a53befe",
   "metadata": {
    "ExecuteTime": {
     "end_time": "2024-12-16T11:13:11.634832Z",
     "start_time": "2024-12-16T11:13:11.621810Z"
    }
   },
   "outputs": [],
   "source": [
    "from mapping_brand import brand_mapping\n",
    "\n",
    "def process_brand(data: DataFrame, column='brand') -> DataFrame:\n",
    "    data[column] = data[column].replace(brand_mapping)\n",
    "    data = data[~data[column].isin(['Prestige', 'kstation', 'gaming', 'Workstation', 'Samsung', 'iPad'])]\n",
    "    \n",
    "    return data"
   ]
  },
  {
   "cell_type": "code",
   "execution_count": 120,
   "id": "ded108c201650d33",
   "metadata": {
    "ExecuteTime": {
     "end_time": "2024-12-16T11:13:11.681180Z",
     "start_time": "2024-12-16T11:13:11.667696Z"
    }
   },
   "outputs": [],
   "source": [
    "from mapping_cpu import cpu_mapping\n",
    "\n",
    "def process_cpu(data: DataFrame, column='cpu') -> DataFrame:\n",
    "    data[column] = data[column].str.replace(\"CPU \", \"\", regex=False)\n",
    "    data[column] = data[column].replace(cpu_mapping)\n",
    "    return data"
   ]
  },
  {
   "cell_type": "code",
   "execution_count": 121,
   "id": "280dd698a7611219",
   "metadata": {
    "ExecuteTime": {
     "end_time": "2024-12-16T11:13:11.728798Z",
     "start_time": "2024-12-16T11:13:11.714728Z"
    }
   },
   "outputs": [],
   "source": [
    "from mapping_cpu_brand import cpu_brand_mapping\n",
    "\n",
    "def process_cpu_brand(data: DataFrame, column='cpu_brand') -> DataFrame:\n",
    "    data[column] = data[column].replace(cpu_brand_mapping)\n",
    "    data = data[~data[column].isin(['CPU', 'Chip'])]\n",
    "    \n",
    "    return data"
   ]
  },
  {
   "cell_type": "code",
   "execution_count": 122,
   "id": "6598b27ed4316155",
   "metadata": {
    "ExecuteTime": {
     "end_time": "2024-12-16T11:13:11.774720Z",
     "start_time": "2024-12-16T11:13:11.761685Z"
    }
   },
   "outputs": [],
   "source": [
    "def process_ram_capacity(data: DataFrame, column='ram_capacity') -> DataFrame:\n",
    "    data[column] = data[column].str.extract(r\"(\\d+)\").astype(float)\n",
    "    return data"
   ]
  },
  {
   "cell_type": "code",
   "execution_count": 123,
   "id": "cb84583c37f805a3",
   "metadata": {
    "ExecuteTime": {
     "end_time": "2024-12-16T11:13:11.821405Z",
     "start_time": "2024-12-16T11:13:11.809868Z"
    }
   },
   "outputs": [],
   "source": [
    "from mapping_ram_brand import ram_brand_mapping\n",
    "\n",
    "def process_ram_brand(data: DataFrame, column='ram_brand') -> DataFrame:\n",
    "    data[column] = data[column].str.strip().replace(ram_brand_mapping)\n",
    "    data = data[~data[column].isin([\"3200\", \"5600\", \"4800\", \"5200\", \"7467\", \"6400\", \"7500\", \"1TB\", \"Soldered\"])]\n",
    "    return data"
   ]
  },
  {
   "cell_type": "code",
   "execution_count": 124,
   "id": "59057276a8eaad3d",
   "metadata": {
    "ExecuteTime": {
     "end_time": "2024-12-16T11:13:11.928580Z",
     "start_time": "2024-12-16T11:13:11.915052Z"
    }
   },
   "outputs": [],
   "source": [
    "def process_hard_drive_capacity(data: DataFrame, column='hard_drive_capacity') -> DataFrame:\n",
    "    data[column] = data[column].str.extract(r\"(\\d+)\")[0].astype(float).apply(lambda x: f\"{int(x)}TB\" if x in [1, 2, 4] else (\"1TB\" if x == 1024 else (f\"{int(x)}GB\" if x in [128, 256, 512] else None)))\n",
    "    return data"
   ]
  },
  {
   "cell_type": "code",
   "execution_count": 125,
   "id": "1c07124dc0753163",
   "metadata": {
    "ExecuteTime": {
     "end_time": "2024-12-16T11:13:11.943221Z",
     "start_time": "2024-12-16T11:13:11.935182Z"
    }
   },
   "outputs": [],
   "source": [
    "def process_card(data: DataFrame, column='card') -> DataFrame:\n",
    "    return data"
   ]
  },
  {
   "cell_type": "code",
   "execution_count": 126,
   "id": "78b4ebd2d7890876",
   "metadata": {
    "ExecuteTime": {
     "end_time": "2024-12-16T11:13:11.988621Z",
     "start_time": "2024-12-16T11:13:11.975511Z"
    }
   },
   "outputs": [
    {
     "name": "stdout",
     "output_type": "stream",
     "text": [
      "BEFORE\n",
      "Column: brand\n",
      "Unique Values and Counts:\n",
      "brand\n",
      "Lenovo         320\n",
      "Dell           140\n",
      "Asus           130\n",
      "HP              84\n",
      "Acer            77\n",
      "MSI             72\n",
      "ASUS            40\n",
      "LG              19\n",
      "Gaming          17\n",
      "Macbook         13\n",
      "Microsoft       10\n",
      "LENOVO           4\n",
      "Ideapad          2\n",
      "ACER             2\n",
      "Workstation      2\n",
      "iPad             2\n",
      "Samsung          2\n",
      "Apple            2\n",
      "MacBook          2\n",
      "gaming           1\n",
      "ThinkPad         1\n",
      "kstation         1\n",
      "Legion           1\n",
      "Prestige         1\n",
      "Name: count, dtype: int64\n",
      "Total Count: 945\n",
      "----------------------------------------------------------------------------------------------------\n",
      "AFTER\n",
      "Column: brand\n",
      "Unique Values and Counts:\n",
      "brand\n",
      "Lenovo       328\n",
      "Asus         170\n",
      "Dell         140\n",
      "HP            84\n",
      "Acer          79\n",
      "MSI           72\n",
      "LG            19\n",
      "Macbook       17\n",
      "Gaming        17\n",
      "Microsoft     10\n",
      "Name: count, dtype: int64\n",
      "Total Count: 936\n",
      "----------------------------------------------------------------------------------------------------\n"
     ]
    }
   ],
   "source": [
    "# Process brand\n",
    "print_unique_values_with_counts(combined_df, column='brand', prefix='BEFORE')\n",
    "combined_df = process_brand(combined_df)\n",
    "print_unique_values_with_counts(combined_df, column='brand', prefix='AFTER')"
   ]
  },
  {
   "cell_type": "code",
   "execution_count": 127,
   "id": "9b31241f22a1c29a",
   "metadata": {
    "ExecuteTime": {
     "end_time": "2024-12-16T11:16:37.225067Z",
     "start_time": "2024-12-16T11:16:37.203513Z"
    }
   },
   "outputs": [
    {
     "name": "stdout",
     "output_type": "stream",
     "text": [
      "BEFORE\n",
      "Column: cpu\n",
      "Unique Values and Counts:\n",
      "cpu\n",
      "Intel Core i5                  37\n",
      "Intel Core i7                  36\n",
      "Intel Core Ultra 7             29\n",
      "Intel Core Ultra 7 155H        29\n",
      "CPU Intel Core Ultra 7 155H    22\n",
      "                               ..\n",
      "CPU Intel Core i7-11800H        1\n",
      "CPU Intel Core i7-12850HX       1\n",
      "CPU Intel XEON W-11855M         1\n",
      "CPU Intel Core i9-11950H        1\n",
      "Intel Core i9 10885H            1\n",
      "Name: count, Length: 338, dtype: int64\n",
      "Total Count: 936\n",
      "----------------------------------------------------------------------------------------------------\n",
      "AFTER\n",
      "Column: cpu\n",
      "Unique Values and Counts:\n",
      "cpu\n",
      "Intel Core Ultra 7 155H    60\n",
      "Intel Core i5              37\n",
      "Intel Core i7              36\n",
      "Intel Core Ultra 7         29\n",
      "Intel Core Ultra 5 125H    23\n",
      "                           ..\n",
      "Apple M2 (8-core CPU)       1\n",
      "Intel Core i7-9750H         1\n",
      "Intel Core i5-1145G7        1\n",
      "Intel Core i9-12900H        1\n",
      "AMD Ryzen 5 4650U           1\n",
      "Name: count, Length: 208, dtype: int64\n",
      "Total Count: 929\n",
      "----------------------------------------------------------------------------------------------------\n"
     ]
    }
   ],
   "source": [
    "# Process cpu\n",
    "print_unique_values_with_counts(combined_df, column='cpu', prefix='BEFORE')\n",
    "combined_df = process_cpu(combined_df)\n",
    "print_unique_values_with_counts(combined_df, column='cpu', prefix='AFTER')"
   ]
  },
  {
   "cell_type": "code",
   "execution_count": 128,
   "id": "2761a01e10f97816",
   "metadata": {
    "ExecuteTime": {
     "end_time": "2024-12-16T11:13:12.221676Z",
     "start_time": "2024-12-16T11:13:12.202852Z"
    }
   },
   "outputs": [
    {
     "name": "stdout",
     "output_type": "stream",
     "text": [
      "BEFORE\n",
      "Column: cpu_brand\n",
      "Unique Values and Counts:\n",
      "cpu_brand\n",
      "Intel         750\n",
      "AMD           128\n",
      "Ryzen          13\n",
      "Apple          10\n",
      "Core           10\n",
      "Ultra           6\n",
      "Snapdragon      5\n",
      "Qualcomm        5\n",
      "M3              2\n",
      "CPU             1\n",
      "M               1\n",
      "i7              1\n",
      "M2              1\n",
      "i5-12500H       1\n",
      "Chip            1\n",
      "Intel;          1\n",
      "Name: count, dtype: int64\n",
      "Total Count: 936\n",
      "----------------------------------------------------------------------------------------------------\n",
      "AFTER\n",
      "Column: cpu_brand\n",
      "Unique Values and Counts:\n",
      "cpu_brand\n",
      "Intel       769\n",
      "AMD         128\n",
      "Apple        14\n",
      "Ryzen        13\n",
      "Qualcomm     10\n",
      "Name: count, dtype: int64\n",
      "Total Count: 934\n",
      "----------------------------------------------------------------------------------------------------\n"
     ]
    }
   ],
   "source": [
    "# Process cpu_brand\n",
    "print_unique_values_with_counts(combined_df, column='cpu_brand', prefix='BEFORE')\n",
    "combined_df = process_cpu_brand(combined_df)\n",
    "print_unique_values_with_counts(combined_df, column='cpu_brand', prefix='AFTER')"
   ]
  },
  {
   "cell_type": "code",
   "execution_count": 129,
   "id": "ac68f69e45993ea3",
   "metadata": {
    "ExecuteTime": {
     "end_time": "2024-12-16T11:13:12.283465Z",
     "start_time": "2024-12-16T11:13:12.258756Z"
    }
   },
   "outputs": [
    {
     "name": "stdout",
     "output_type": "stream",
     "text": [
      "BEFORE\n",
      "Column: ram_capacity\n",
      "Unique Values and Counts:\n",
      "ram_capacity\n",
      "16GB     444\n",
      "32GB     183\n",
      "8GB      115\n",
      "16 GB    104\n",
      "8 GB      21\n",
      "12GB      13\n",
      "64GB      12\n",
      "32 GB     12\n",
      "24GB      11\n",
      "36GB       4\n",
      "12 GB      4\n",
      "24 GB      4\n",
      "           3\n",
      "18GB       2\n",
      "48GB       2\n",
      "GB         1\n",
      "Name: count, dtype: int64\n",
      "Total Count: 935\n",
      "----------------------------------------------------------------------------------------------------\n",
      "AFTER\n",
      "Column: ram_capacity\n",
      "Unique Values and Counts:\n",
      "ram_capacity\n",
      "16.0    548\n",
      "32.0    195\n",
      "8.0     136\n",
      "12.0     17\n",
      "24.0     15\n",
      "64.0     12\n",
      "36.0      4\n",
      "18.0      2\n",
      "48.0      2\n",
      "Name: count, dtype: int64\n",
      "Total Count: 931\n",
      "----------------------------------------------------------------------------------------------------\n"
     ]
    }
   ],
   "source": [
    "# Process ram_capacity\n",
    "print_unique_values_with_counts(combined_df, column='ram_capacity', prefix='BEFORE')\n",
    "combined_df = process_ram_capacity(combined_df)\n",
    "print_unique_values_with_counts(combined_df, column='ram_capacity', prefix='AFTER')"
   ]
  },
  {
   "cell_type": "code",
   "execution_count": 130,
   "id": "f4f9781deb3a4a6e",
   "metadata": {
    "ExecuteTime": {
     "end_time": "2024-12-16T11:13:12.330010Z",
     "start_time": "2024-12-16T11:13:12.316057Z"
    }
   },
   "outputs": [
    {
     "name": "stdout",
     "output_type": "stream",
     "text": [
      "BEFORE\n",
      "Column: ram_brand\n",
      "Unique Values and Counts:\n",
      "ram_brand\n",
      "DDR5            325\n",
      "DDR4            228\n",
      "LPDDR5          120\n",
      "LPDDR5X          75\n",
      "LPDDR5x          45\n",
      "LPDDR4X          29\n",
      "LPDDR3           11\n",
      "LPDDR4            9\n",
      "3200              7\n",
      "LPDDR4x           7\n",
      "5600              6\n",
      "DDR5 4800MHz      5\n",
      "DDR5-4800         4\n",
      "5200              4\n",
      "4800              4\n",
      "DDR4-3200         3\n",
      "LPDDR5x-7467      3\n",
      "DDR5-5600         2\n",
      "DDR5 4800         2\n",
      "Soldered          1\n",
      "7467              1\n",
      "LPDDR5-6400       1\n",
      "7500              1\n",
      "LPDDDR5           1\n",
      "1TB               1\n",
      "                  1\n",
      "LPDDR5-5200       1\n",
      "6400              1\n",
      "Name: count, dtype: int64\n",
      "Total Count: 898\n",
      "----------------------------------------------------------------------------------------------------\n",
      "AFTER\n",
      "Column: ram_brand\n",
      "Unique Values and Counts:\n",
      "ram_brand\n",
      "DDR5       338\n",
      "DDR4       231\n",
      "LPDDR5     123\n",
      "LPDDR5X    123\n",
      "LPDDR4X     36\n",
      "LPDDR3      11\n",
      "LPDDR4       9\n",
      "Name: count, dtype: int64\n",
      "Total Count: 871\n",
      "----------------------------------------------------------------------------------------------------\n"
     ]
    }
   ],
   "source": [
    "# Process ram_brand\n",
    "print_unique_values_with_counts(combined_df, column='ram_brand', prefix='BEFORE')\n",
    "combined_df = process_ram_brand(combined_df)\n",
    "print_unique_values_with_counts(combined_df, column='ram_brand', prefix='AFTER')"
   ]
  },
  {
   "cell_type": "code",
   "execution_count": 131,
   "id": "8ede77006f5b9dd",
   "metadata": {
    "ExecuteTime": {
     "end_time": "2024-12-16T11:13:12.376315Z",
     "start_time": "2024-12-16T11:13:12.362265Z"
    }
   },
   "outputs": [
    {
     "name": "stdout",
     "output_type": "stream",
     "text": [
      "BEFORE\n",
      "Column: hard_drive_capacity\n",
      "Unique Values and Counts:\n",
      "hard_drive_capacity\n",
      "512 GB     259\n",
      "512GB      227\n",
      "1TB        148\n",
      "1          105\n",
      "256 GB      48\n",
      "256GB       24\n",
      "512         17\n",
      "B           13\n",
      "2           11\n",
      "2TB          9\n",
      "SSD          4\n",
      "1024         4\n",
      "4TB          4\n",
      "128 GB       2\n",
      "128GB        2\n",
      "(            2\n",
      "PCIe         1\n",
      "9PA          1\n",
      "6PA          1\n",
      "5PA          1\n",
      "256          1\n",
      "1TB SSD      1\n",
      "Name: count, dtype: int64\n",
      "Total Count: 885\n",
      "----------------------------------------------------------------------------------------------------\n",
      "AFTER\n",
      "Column: hard_drive_capacity\n",
      "Unique Values and Counts:\n",
      "hard_drive_capacity\n",
      "512GB    503\n",
      "1TB      258\n",
      "256GB     73\n",
      "2TB       20\n",
      "128GB      4\n",
      "4TB        4\n",
      "Name: count, dtype: int64\n",
      "Total Count: 862\n",
      "----------------------------------------------------------------------------------------------------\n"
     ]
    }
   ],
   "source": [
    "# Process hard_drive_capacity\n",
    "print_unique_values_with_counts(combined_df, column='hard_drive_capacity', prefix='BEFORE')\n",
    "combined_df = process_hard_drive_capacity(combined_df)\n",
    "print_unique_values_with_counts(combined_df, column='hard_drive_capacity', prefix='AFTER')"
   ]
  },
  {
   "cell_type": "code",
   "execution_count": 132,
   "id": "288ac303e11b1a71",
   "metadata": {
    "ExecuteTime": {
     "end_time": "2024-12-16T11:13:12.424072Z",
     "start_time": "2024-12-16T11:13:12.410552Z"
    }
   },
   "outputs": [
    {
     "name": "stdout",
     "output_type": "stream",
     "text": [
      "BEFORE\n",
      "Column: card\n",
      "Unique Values and Counts:\n",
      "card\n",
      "Intel Iris Xe Graphics                           133\n",
      "Intel Arc Graphics                                88\n",
      "Intel UHD Graphics                                68\n",
      "Intel Graphics                                    41\n",
      "AMD Radeon Graphics                               26\n",
      "                                                ... \n",
      "Nvidia Geforce RTX 4050 GDDR6                      1\n",
      "AMD Radeon 680M                                    1\n",
      "NVIDIA GeForce RTX 4060 8GB GDDR6 MUX Switch)      1\n",
      "18-core GPU                                        1\n",
      "Geforce RTX3080 16GB                               1\n",
      "Name: count, Length: 245, dtype: int64\n",
      "Total Count: 924\n",
      "----------------------------------------------------------------------------------------------------\n",
      "AFTER\n",
      "Column: card\n",
      "Unique Values and Counts:\n",
      "card\n",
      "Intel Iris Xe Graphics                           133\n",
      "Intel Arc Graphics                                88\n",
      "Intel UHD Graphics                                68\n",
      "Intel Graphics                                    41\n",
      "AMD Radeon Graphics                               26\n",
      "                                                ... \n",
      "Nvidia Geforce RTX 4050 GDDR6                      1\n",
      "AMD Radeon 680M                                    1\n",
      "NVIDIA GeForce RTX 4060 8GB GDDR6 MUX Switch)      1\n",
      "18-core GPU                                        1\n",
      "Geforce RTX3080 16GB                               1\n",
      "Name: count, Length: 245, dtype: int64\n",
      "Total Count: 924\n",
      "----------------------------------------------------------------------------------------------------\n"
     ]
    }
   ],
   "source": [
    "# Process card \n",
    "print_unique_values_with_counts(combined_df, column='card', prefix='BEFORE')\n",
    "combined_df = process_card(combined_df)\n",
    "print_unique_values_with_counts(combined_df, column='card', prefix='AFTER')"
   ]
  },
  {
   "cell_type": "code",
   "execution_count": null,
   "id": "ac469356c531a35f",
   "metadata": {
    "ExecuteTime": {
     "end_time": "2024-12-16T11:13:12.502837Z",
     "start_time": "2024-12-16T11:13:12.488760Z"
    }
   },
   "outputs": [],
   "source": [
    "# Save the combined dataframe to a new CSV file\n",
    "# combined_df.to_csv(CSV_FILE, index=False)"
   ]
  }
 ],
 "metadata": {
  "kernelspec": {
   "display_name": "base",
   "language": "python",
   "name": "python3"
  },
  "language_info": {
   "codemirror_mode": {
    "name": "ipython",
    "version": 2
   },
   "file_extension": ".py",
   "mimetype": "text/x-python",
   "name": "python",
   "nbconvert_exporter": "python",
   "pygments_lexer": "ipython2",
   "version": "3.12.5"
  }
 },
 "nbformat": 4,
 "nbformat_minor": 5
}
