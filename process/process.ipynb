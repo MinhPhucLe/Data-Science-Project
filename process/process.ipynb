{
 "cells": [
  {
   "metadata": {
    "ExecuteTime": {
     "end_time": "2024-12-16T11:13:11.464765Z",
     "start_time": "2024-12-16T11:13:11.455725Z"
    }
   },
   "cell_type": "code",
   "source": [
    "import os\n",
    "import pandas as pd\n",
    "from pandas import DataFrame"
   ],
   "id": "5dbe69991a0183b3",
   "outputs": [],
   "execution_count": 20
  },
  {
   "metadata": {
    "ExecuteTime": {
     "end_time": "2024-12-16T11:13:11.479814Z",
     "start_time": "2024-12-16T11:13:11.471298Z"
    }
   },
   "cell_type": "code",
   "source": [
    "# Define the folder containing the CSV files\n",
    "FOLDER_PATH = '../Crawl'\n",
    "CSV_FILE = '../combined.csv'"
   ],
   "id": "14a15d63b535a2b1",
   "outputs": [],
   "execution_count": 21
  },
  {
   "metadata": {
    "ExecuteTime": {
     "end_time": "2024-12-16T11:13:11.542583Z",
     "start_time": "2024-12-16T11:13:11.513003Z"
    }
   },
   "cell_type": "code",
   "source": [
    " # List to hold dataframes\n",
    "dfs = []\n",
    "\n",
    "# Iterate over all files in the folder\n",
    "for filename in os.listdir(FOLDER_PATH):\n",
    "    if filename.endswith('.csv'):\n",
    "        file_path = os.path.join(FOLDER_PATH, filename)\n",
    "        # Read the CSV file into a dataframe\n",
    "        df = pd.read_csv(file_path)\n",
    "        # Append the dataframe to the list\n",
    "        dfs.append(df)\n",
    "\n",
    "# Concatenate all dataframes\n",
    "combined_df = pd.concat(dfs, ignore_index=True)\n",
    "\n",
    "# Drop unnecessary columns \n",
    "combined_df = combined_df.drop(columns=['page', 'name', 'link', 'image'])"
   ],
   "id": "c7a9e4b16e1a2379",
   "outputs": [],
   "execution_count": 22
  },
  {
   "metadata": {
    "ExecuteTime": {
     "end_time": "2024-12-16T11:13:11.588788Z",
     "start_time": "2024-12-16T11:13:11.576680Z"
    }
   },
   "cell_type": "code",
   "source": [
    "def print_unique_values_with_counts(df: DataFrame, column: str, prefix: str):\n",
    "    print(prefix)\n",
    "    print(f\"Column: {column}\")\n",
    "    print(\"Unique Values and Counts:\")\n",
    "    print(df[column].value_counts())\n",
    "    print(f\"Total Count: {df[column].count()}\")\n",
    "    print(\"-\" * 100)"
   ],
   "id": "cd22f29a3f280950",
   "outputs": [],
   "execution_count": 23
  },
  {
   "metadata": {
    "ExecuteTime": {
     "end_time": "2024-12-16T11:13:11.634832Z",
     "start_time": "2024-12-16T11:13:11.621810Z"
    }
   },
   "cell_type": "code",
   "source": [
    "from mapping_brand import brand_mapping\n",
    "\n",
    "def process_brand(data: DataFrame, column='brand') -> DataFrame:\n",
    "    data[column] = data[column].replace(brand_mapping)\n",
    "    data = data[~data[column].isin(['Prestige', 'kstation', 'gaming', 'Workstation', 'Samsung', 'iPad'])]\n",
    "    \n",
    "    return data"
   ],
   "id": "f459017a8a53befe",
   "outputs": [],
   "execution_count": 24
  },
  {
   "metadata": {
    "ExecuteTime": {
     "end_time": "2024-12-16T11:13:11.681180Z",
     "start_time": "2024-12-16T11:13:11.667696Z"
    }
   },
   "cell_type": "code",
   "source": [
    "from mapping_cpu import cpu_mapping\n",
    "\n",
    "def process_cpu(data: DataFrame, column='cpu') -> DataFrame:\n",
    "    data[column] = data[column].str.replace(\"CPU \", \"\", regex=False)\n",
    "    data[column] = data[column].replace(cpu_mapping)\n",
    "    return data"
   ],
   "id": "ded108c201650d33",
   "outputs": [],
   "execution_count": 25
  },
  {
   "metadata": {
    "ExecuteTime": {
     "end_time": "2024-12-16T11:13:11.728798Z",
     "start_time": "2024-12-16T11:13:11.714728Z"
    }
   },
   "cell_type": "code",
   "source": [
    "from mapping_cpu_brand import cpu_brand_mapping\n",
    "\n",
    "def process_cpu_brand(data: DataFrame, column='cpu_brand') -> DataFrame:\n",
    "    data[column] = data[column].replace(cpu_brand_mapping)\n",
    "    data = data[~data[column].isin(['CPU', 'Chip'])]\n",
    "    \n",
    "    return data"
   ],
   "id": "280dd698a7611219",
   "outputs": [],
   "execution_count": 26
  },
  {
   "metadata": {
    "ExecuteTime": {
     "end_time": "2024-12-16T11:13:11.774720Z",
     "start_time": "2024-12-16T11:13:11.761685Z"
    }
   },
   "cell_type": "code",
   "source": [
    "def process_ram_capacity(data: DataFrame, column='ram_capacity') -> DataFrame:\n",
    "    data[column] = data[column].str.extract(r\"(\\d+)\").astype(float)\n",
    "    return data"
   ],
   "id": "6598b27ed4316155",
   "outputs": [],
   "execution_count": 27
  },
  {
   "metadata": {
    "ExecuteTime": {
     "end_time": "2024-12-16T11:13:11.821405Z",
     "start_time": "2024-12-16T11:13:11.809868Z"
    }
   },
   "cell_type": "code",
   "source": [
    "from mapping_ram_brand import ram_brand_mapping\n",
    "\n",
    "def process_ram_brand(data: DataFrame, column='ram_brand') -> DataFrame:\n",
    "    data[column] = data[column].str.strip().replace(ram_brand_mapping)\n",
    "    data = data[~data[column].isin([\"3200\", \"5600\", \"4800\", \"5200\", \"7467\", \"6400\", \"7500\", \"1TB\", \"Soldered\"])]\n",
    "    return data"
   ],
   "id": "cb84583c37f805a3",
   "outputs": [],
   "execution_count": 28
  },
  {
   "metadata": {
    "ExecuteTime": {
     "end_time": "2024-12-16T11:13:11.928580Z",
     "start_time": "2024-12-16T11:13:11.915052Z"
    }
   },
   "cell_type": "code",
   "source": [
    "def process_hard_drive_capacity(data: DataFrame, column='hard_drive_capacity') -> DataFrame:\n",
    "    data[column] = data[column].str.extract(r\"(\\d+)\")[0].astype(float).apply(lambda x: f\"{int(x)}TB\" if x in [1, 2, 4] else (\"1TB\" if x == 1024 else (f\"{int(x)}GB\" if x in [128, 256, 512] else None)))\n",
    "    return data"
   ],
   "id": "59057276a8eaad3d",
   "outputs": [],
   "execution_count": 29
  },
  {
   "metadata": {
    "ExecuteTime": {
     "end_time": "2024-12-16T11:13:11.943221Z",
     "start_time": "2024-12-16T11:13:11.935182Z"
    }
   },
   "cell_type": "code",
   "source": [
    "def process_card(data: DataFrame, column='card') -> DataFrame:\n",
    "    return data"
   ],
   "id": "1c07124dc0753163",
   "outputs": [],
   "execution_count": 30
  },
  {
   "metadata": {
    "ExecuteTime": {
     "end_time": "2024-12-16T11:13:11.988621Z",
     "start_time": "2024-12-16T11:13:11.975511Z"
    }
   },
   "cell_type": "code",
   "source": [
    "# Process brand\n",
    "print_unique_values_with_counts(combined_df, column='brand', prefix='BEFORE')\n",
    "combined_df = process_brand(combined_df)\n",
    "print_unique_values_with_counts(combined_df, column='brand', prefix='AFTER')"
   ],
   "id": "78b4ebd2d7890876",
   "outputs": [
    {
     "name": "stdout",
     "output_type": "stream",
     "text": [
      "BEFORE\n",
      "Column: brand\n",
      "Unique Values and Counts:\n",
      "brand\n",
      "Lenovo         320\n",
      "Dell           140\n",
      "Asus           130\n",
      "HP              84\n",
      "Acer            77\n",
      "MSI             72\n",
      "ASUS            40\n",
      "LG              19\n",
      "Gaming          17\n",
      "Macbook         13\n",
      "Microsoft       10\n",
      "LENOVO           4\n",
      "iPad             2\n",
      "Samsung          2\n",
      "Ideapad          2\n",
      "Workstation      2\n",
      "MacBook          2\n",
      "Apple            2\n",
      "ACER             2\n",
      "gaming           1\n",
      "ThinkPad         1\n",
      "kstation         1\n",
      "Prestige         1\n",
      "Legion           1\n",
      "Name: count, dtype: int64\n",
      "Total Count: 945\n",
      "----------------------------------------------------------------------------------------------------\n",
      "AFTER\n",
      "Column: brand\n",
      "Unique Values and Counts:\n",
      "brand\n",
      "Lenovo       328\n",
      "Asus         170\n",
      "Dell         140\n",
      "HP            84\n",
      "Acer          79\n",
      "MSI           72\n",
      "LG            19\n",
      "Macbook       17\n",
      "Gaming        17\n",
      "Microsoft     10\n",
      "Name: count, dtype: int64\n",
      "Total Count: 936\n",
      "----------------------------------------------------------------------------------------------------\n"
     ]
    }
   ],
   "execution_count": 31
  },
  {
   "metadata": {
    "ExecuteTime": {
     "end_time": "2024-12-16T11:16:37.225067Z",
     "start_time": "2024-12-16T11:16:37.203513Z"
    }
   },
   "cell_type": "code",
   "source": [
    "# Process cpu\n",
    "print_unique_values_with_counts(combined_df, column='cpu', prefix='BEFORE')\n",
    "combined_df = process_cpu(combined_df)\n",
    "print_unique_values_with_counts(combined_df, column='cpu', prefix='AFTER')"
   ],
   "id": "9b31241f22a1c29a",
   "outputs": [
    {
     "name": "stdout",
     "output_type": "stream",
     "text": [
      "BEFORE\n",
      "Column: cpu\n",
      "Unique Values and Counts:\n",
      "cpu\n",
      "Intel Core Ultra 7 155H    60\n",
      "Intel Core i5              37\n",
      "Intel Core i7              36\n",
      "Intel Core Ultra 7         29\n",
      "Intel Core Ultra 5 125H    23\n",
      "                           ..\n",
      "Intel Core i7-9750H         1\n",
      "Intel Core i7-10610u        1\n",
      "Intel Core i9-12900H        1\n",
      "Intel Core i9-13950HX       1\n",
      "AMD Ryzen 5 4650U           1\n",
      "Name: count, Length: 223, dtype: int64\n",
      "Total Count: 927\n",
      "----------------------------------------------------------------------------------------------------\n",
      "['AMD Ryzen 9 AI Processor 365' 'AMD Ryzen 7 8845H'\n",
      " 'Apple M4 Max (14-core & 16-core)' 'Apple M4 Pro (14-core)'\n",
      " 'Apple M4 Max (14-core)' 'Apple M4 Pro (12-core & 14-core)'\n",
      " 'AMD Ryzen 5 7520U' 'Intel Core i7-1355U' 'AMD Ryzen 7 8840HS'\n",
      " 'Intel Core i7-13650HX' 'Intel Core i9-14900HX' 'AMD Ryzen 9 HX 370'\n",
      " 'AMD Ryzen 5 7235HS' 'AMD Ryzen 5 8640HS' 'AMD Ryzen 7 7435HS'\n",
      " 'Intel Core i5-12450HX' 'Intel Core i5-1340P' 'Intel Core Ultra 7 155H'\n",
      " 'Intel Core Ultra 5 125H' 'Intel Core i5-1145G7' 'Intel Core i5-13420H'\n",
      " 'Intel Core Ultra 7 258V' 'Intel Core i7-1255U' 'Intel Core i5-120U'\n",
      " 'Intel Core i3-1305U' 'Intel Core Ultra 7 155U' 'Intel Core i5-1235U'\n",
      " 'Intel Core i5-12450H' 'AMD Ryzen 5 7530U' 'AMD Ryzen 7 7730U'\n",
      " 'Intel Core i7-14650HX' 'Intel Core Ultra 9 185H' 'AMD Ryzen 7 7735U'\n",
      " 'Qualcomm Snapdragon X Elite X1E 78 100' 'Intel Core i7-13620H'\n",
      " 'Intel Core i7-14700HX' 'Intel Core i5-10310U' 'Intel Core i3-1315U'\n",
      " 'Intel Core i7-1360P' 'Intel Core i7-12650H' 'Intel Core i7-150U'\n",
      " 'Intel Core i5-1240P' 'Intel Core i5-1335U' 'Intel Core i7-13700H'\n",
      " 'Intel Core i5-13500H' 'AMD Ryzen 7 7840H' 'Intel Core i5-12500H'\n",
      " 'AMD Ryzen 7 6800H' 'AMD Ryzen 5 6600H' 'Intel Core i9-13900H' 'Apple M4'\n",
      " 'Apple M4 (10-core)' 'Intel Core i3 1215U' 'Intel Core i5-1334U'\n",
      " 'AMD Ryzen 7 8845HS' 'AMD Ryzen 5 7640HS' 'Intel Core i5 12450HX'\n",
      " 'Intel Core 5 120U' 'Intel Pentium Gold 6500Y' 'Intel Core i7-10750H'\n",
      " 'AMD Ryzen 8 8640HS' 'AMD Ryzen 7 885HS' 'Intel Core i5-1135G7'\n",
      " 'Intel Core i7-1265U' 'AMD Ryzen 9 7945HX' 'Intel Core Ultra 5 120U'\n",
      " 'Core Ultra 5 125H' 'Intel Core i9 10885H' 'Intel Core Ultra 5 125U'\n",
      " 'Intel Core i7-10850H' 'Intel Core i7-8750H' 'AMD Ryzen 5 7430U'\n",
      " 'AMD Ryzen 9 8945H' 'AMD Ryzen 5 7535HS' 'Intel Core i7-13700HX'\n",
      " 'AMD Ryzen 8 8845HS' 'Intel Core i7-1160G7' 'AMD Ryzen 7 8745H'\n",
      " 'AMD Ryzen 7 7735HS' 'Apple M3 Max (14-core CPU)'\n",
      " 'Apple M3 Pro (12-core CPU)' None 'Apple M3 (8-core CPU)' 'i7 13620H'\n",
      " 'Intel Core i7-12700H' 'AMD Ryzen 7 7840HS' 'AMD Ryzen 5 2500U'\n",
      " 'Intel Core  i5-12450H' 'Intel Core  i5-13420H' 'Intel Core i3-1215U'\n",
      " 'Intel Core i9-13900HX' 'Intel Core i5 1335U' 'Intel Core i5-1340p'\n",
      " 'Intel Core i7 8750H Intel Core i7 8850H Intel Xeon E-2186M'\n",
      " 'Intel Core i7-11800H' 'Intel Core i7-12850HX' 'Intel XEON W-11855M'\n",
      " 'Intel Core i9-11950H' 'Intel Core i5-13500HX' 'Intel Core  i5-13500HX'\n",
      " 'Intel Core i9-13950HX' 'Intel Core i9-13980HX' 'Intel Core i9-12900H'\n",
      " 'Intel Core i7-10610u' 'Intel Core i7-9750H' 'Apple M2 (8-core CPU)'\n",
      " 'Intel Core i7-9750H Intel Xeon' 'Intel Core i5-13450HX'\n",
      " 'Intel Core i7-1165G7' 'Intel Core i5-9300H' 'Intel Xeon E3'\n",
      " 'Intel Core i7 8850H Xeon E3' 'Intel Core i7-1065G7'\n",
      " 'Intel Core i7-9850H'\n",
      " 'Intel Core i7 - 7700HQ Intel Core i7 - 7820HQ Intel Core i7 - 6820HQ Xeon E3-1505M'\n",
      " 'Intel Core i3' 'i3-1315U' 'i5-1235U' 'i3-1305U' 'Intel Core i5'\n",
      " 'AMD Ryzen 7' 'Intel Core i7'\n",
      " 'Intel Core i5-13500H Processor 6P+8E 14 Cores 20 Threads'\n",
      " 'Intel Core i5-1355U' 'Intel Core 5' 'AMD Ryzen 5' 'Intel Core Ultra 5'\n",
      " 'Intel Core i9' 'Qualcomm Snapdragon X Plus' 'Intel Core 7'\n",
      " 'Intel Core Ultra 7' 'i7-13620H' 'Ultra 7 155H' 'Ryzen 7 8845HS'\n",
      " 'Ryzen 7 7735HS' 'i5-13450HX' 'AMD Ryzen 9'\n",
      " 'Core i7-14700HX 20 Cores 28 Threads' 'Qualcomm Snapdragon X Elite'\n",
      " 'i5-13500HX' 'i7-14700HX' 'i7-13700HX' 'Ryzen AI 9' 'i7-12700H'\n",
      " 'Ryzen 7 6800H' 'Intel Core Ultra 9' 'i9-12900H'\n",
      " 'Core Ultra 9 185H Processor 16 Cores 22 Threads' 'Ryzen 9 6900HX'\n",
      " 'Intel Core i7-14700HX Processor' 'i9-13900H' 'i9-13980HX' 'i9-14900HX'\n",
      " 'Ryzen 9 7945HX' 'i9-13950HX' 'Intel Core i5 1340P' 'Intel Core i7 1365U'\n",
      " 'AMD Ryzen 7 7735H' 'Intel Core i7 1255U' 'Intel Core i7 1280P' nan\n",
      " 'Intel Core i7 1360P' 'Intel Core i5 1230U' 'Intel Core i7 12700H'\n",
      " 'Apple Apple M2' 'Intel Core i7 11850H' 'Intel Core i5 10310U'\n",
      " 'Intel Core i7 1160G7' 'Intel Core i5 1145G7' 'Intel Core i5 8365U'\n",
      " 'Intel Core i7 1185G7' 'Intel Core i7 12650H' 'Intel Core i5 1135G7'\n",
      " 'Intel Core i7 1265U' 'Intel Core i7 10850H' 'Intel Core i7 10510U'\n",
      " 'Intel Core i5 1245U' 'Intel Core i7 1250U' 'Intel Xeon W-11855M'\n",
      " 'AMD Ryzen 7 5825U' 'Intel Core i9 9880H' 'Intel Core i7 1270P'\n",
      " 'Snapdragon X Elite' 'AMD Ryzen 9 8945HS' 'Intel Core i5 1350P'\n",
      " 'Intel Core i9 14900HX' 'Intel Ultra 7 155U' 'AMD R7 7730U'\n",
      " 'Intel Core Ultra 7-258V' 'Snapdragon X Elite X1E 78 100 Processor'\n",
      " 'Qualcomm Snapdragon X Plus X1P-42-100' 'AMD Ryzen 5-7235HS'\n",
      " 'Intel Ryzen 5 7535HS' 'AMD R7 7840HS' 'AMD Ryzen 5 8645H'\n",
      " 'Core i7-13700H' 'AMD Ryzen 5 7540U' 'AMD Ryzen 5 8645HS'\n",
      " 'Intel Core i5 13420H' 'Intel Core i7 10610U' 'Intel Ultra 7 155H'\n",
      " 'Intel Core Ultra 5 135U' 'Intel i7-14650HX' 'Intel Core i9-13905H'\n",
      " 'Core 5 120U' 'AMD Ryzen 7 5800H' 'Intel i7 13700HX'\n",
      " 'Intel Core i5 1140G7' 'Intel Core i7 13700HX' 'Intel; Core i7 13700H'\n",
      " 'AMD Ryzen 7 7840U' 'Intel Core i7-1365U' 'Intel Core i7 13800H'\n",
      " 'Intel Core i7 12850HX' 'Intel Core i7 1370P' 'Intel Core i9 13900HX'\n",
      " 'Intel Core i7 1165G7' 'Intel Xeon E2276M' 'Intel Core i9 11950H'\n",
      " 'Intel Xeon W-11955M' 'Intel Core i7 8665U' 'Intel Core i7 8565U'\n",
      " 'Intel Core i7-1180G7' 'Intel Core i7-12800H' 'AMD Ryzen 5 4650U']\n",
      "AFTER\n",
      "Column: cpu\n",
      "Unique Values and Counts:\n",
      "cpu\n",
      "Intel Core Ultra 7 155H    60\n",
      "Intel Core i5              37\n",
      "Intel Core i7              36\n",
      "Intel Core Ultra 7         29\n",
      "Intel Core Ultra 5 125H    23\n",
      "                           ..\n",
      "Intel Core i7-9750H         1\n",
      "Intel Core i7-10610u        1\n",
      "Intel Core i9-12900H        1\n",
      "Intel Core i9-13950HX       1\n",
      "AMD Ryzen 5 4650U           1\n",
      "Name: count, Length: 223, dtype: int64\n",
      "Total Count: 927\n",
      "----------------------------------------------------------------------------------------------------\n"
     ]
    }
   ],
   "execution_count": 39
  },
  {
   "metadata": {
    "ExecuteTime": {
     "end_time": "2024-12-16T11:13:12.221676Z",
     "start_time": "2024-12-16T11:13:12.202852Z"
    }
   },
   "cell_type": "code",
   "source": [
    "# Process cpu_brand\n",
    "print_unique_values_with_counts(combined_df, column='cpu_brand', prefix='BEFORE')\n",
    "combined_df = process_cpu_brand(combined_df)\n",
    "print_unique_values_with_counts(combined_df, column='cpu_brand', prefix='AFTER')"
   ],
   "id": "2761a01e10f97816",
   "outputs": [
    {
     "name": "stdout",
     "output_type": "stream",
     "text": [
      "BEFORE\n",
      "Column: cpu_brand\n",
      "Unique Values and Counts:\n",
      "cpu_brand\n",
      "Intel         750\n",
      "AMD           128\n",
      "Ryzen          13\n",
      "Apple          10\n",
      "Core           10\n",
      "Ultra           6\n",
      "Snapdragon      5\n",
      "Qualcomm        5\n",
      "M3              2\n",
      "CPU             1\n",
      "M               1\n",
      "i7              1\n",
      "M2              1\n",
      "i5-12500H       1\n",
      "Chip            1\n",
      "Intel;          1\n",
      "Name: count, dtype: int64\n",
      "Total Count: 936\n",
      "----------------------------------------------------------------------------------------------------\n",
      "AFTER\n",
      "Column: cpu_brand\n",
      "Unique Values and Counts:\n",
      "cpu_brand\n",
      "Intel       769\n",
      "AMD         128\n",
      "Apple        14\n",
      "Ryzen        13\n",
      "Qualcomm     10\n",
      "Name: count, dtype: int64\n",
      "Total Count: 934\n",
      "----------------------------------------------------------------------------------------------------\n"
     ]
    }
   ],
   "execution_count": 33
  },
  {
   "metadata": {
    "ExecuteTime": {
     "end_time": "2024-12-16T11:13:12.283465Z",
     "start_time": "2024-12-16T11:13:12.258756Z"
    }
   },
   "cell_type": "code",
   "source": [
    "# Process ram_capacity\n",
    "print_unique_values_with_counts(combined_df, column='ram_capacity', prefix='BEFORE')\n",
    "combined_df = process_ram_capacity(combined_df)\n",
    "print_unique_values_with_counts(combined_df, column='ram_capacity', prefix='AFTER')"
   ],
   "id": "ac68f69e45993ea3",
   "outputs": [
    {
     "name": "stdout",
     "output_type": "stream",
     "text": [
      "BEFORE\n",
      "Column: ram_capacity\n",
      "Unique Values and Counts:\n",
      "ram_capacity\n",
      "16GB     444\n",
      "32GB     183\n",
      "8GB      115\n",
      "16 GB    104\n",
      "8 GB      21\n",
      "12GB      13\n",
      "64GB      12\n",
      "32 GB     12\n",
      "24GB      11\n",
      "36GB       4\n",
      "12 GB      4\n",
      "24 GB      4\n",
      "           3\n",
      "18GB       2\n",
      "48GB       2\n",
      "GB         1\n",
      "Name: count, dtype: int64\n",
      "Total Count: 935\n",
      "----------------------------------------------------------------------------------------------------\n",
      "AFTER\n",
      "Column: ram_capacity\n",
      "Unique Values and Counts:\n",
      "ram_capacity\n",
      "16.0    548\n",
      "32.0    195\n",
      "8.0     136\n",
      "12.0     17\n",
      "24.0     15\n",
      "64.0     12\n",
      "36.0      4\n",
      "18.0      2\n",
      "48.0      2\n",
      "Name: count, dtype: int64\n",
      "Total Count: 931\n",
      "----------------------------------------------------------------------------------------------------\n"
     ]
    }
   ],
   "execution_count": 34
  },
  {
   "metadata": {
    "ExecuteTime": {
     "end_time": "2024-12-16T11:13:12.330010Z",
     "start_time": "2024-12-16T11:13:12.316057Z"
    }
   },
   "cell_type": "code",
   "source": [
    "# Process ram_brand\n",
    "print_unique_values_with_counts(combined_df, column='ram_brand', prefix='BEFORE')\n",
    "combined_df = process_ram_brand(combined_df)\n",
    "print_unique_values_with_counts(combined_df, column='ram_brand', prefix='AFTER')"
   ],
   "id": "f4f9781deb3a4a6e",
   "outputs": [
    {
     "name": "stdout",
     "output_type": "stream",
     "text": [
      "BEFORE\n",
      "Column: ram_brand\n",
      "Unique Values and Counts:\n",
      "ram_brand\n",
      "DDR5            325\n",
      "DDR4            228\n",
      "LPDDR5          120\n",
      "LPDDR5X          75\n",
      "LPDDR5x          45\n",
      "LPDDR4X          29\n",
      "LPDDR3           11\n",
      "LPDDR4            9\n",
      "LPDDR4x           7\n",
      "3200              7\n",
      "5600              6\n",
      "DDR5 4800MHz      5\n",
      "DDR5-4800         4\n",
      "4800              4\n",
      "5200              4\n",
      "DDR4-3200         3\n",
      "LPDDR5x-7467      3\n",
      "DDR5 4800         2\n",
      "DDR5-5600         2\n",
      "1TB               1\n",
      "LPDDDR5           1\n",
      "7467              1\n",
      "Soldered          1\n",
      "LPDDR5-6400       1\n",
      "6400              1\n",
      "7500              1\n",
      "LPDDR5-5200       1\n",
      "                  1\n",
      "Name: count, dtype: int64\n",
      "Total Count: 898\n",
      "----------------------------------------------------------------------------------------------------\n",
      "AFTER\n",
      "Column: ram_brand\n",
      "Unique Values and Counts:\n",
      "ram_brand\n",
      "DDR5       338\n",
      "DDR4       231\n",
      "LPDDR5X    123\n",
      "LPDDR5     123\n",
      "LPDDR4X     36\n",
      "LPDDR3      11\n",
      "LPDDR4       9\n",
      "Name: count, dtype: int64\n",
      "Total Count: 871\n",
      "----------------------------------------------------------------------------------------------------\n"
     ]
    }
   ],
   "execution_count": 35
  },
  {
   "metadata": {
    "ExecuteTime": {
     "end_time": "2024-12-16T11:13:12.376315Z",
     "start_time": "2024-12-16T11:13:12.362265Z"
    }
   },
   "cell_type": "code",
   "source": [
    "# Process hard_drive_capacity\n",
    "print_unique_values_with_counts(combined_df, column='hard_drive_capacity', prefix='BEFORE')\n",
    "combined_df = process_hard_drive_capacity(combined_df)\n",
    "print_unique_values_with_counts(combined_df, column='hard_drive_capacity', prefix='AFTER')"
   ],
   "id": "8ede77006f5b9dd",
   "outputs": [
    {
     "name": "stdout",
     "output_type": "stream",
     "text": [
      "BEFORE\n",
      "Column: hard_drive_capacity\n",
      "Unique Values and Counts:\n",
      "hard_drive_capacity\n",
      "512 GB     259\n",
      "512GB      227\n",
      "1TB        148\n",
      "1          105\n",
      "256 GB      48\n",
      "256GB       24\n",
      "512         17\n",
      "B           13\n",
      "2           11\n",
      "2TB          9\n",
      "SSD          4\n",
      "1024         4\n",
      "4TB          4\n",
      "128 GB       2\n",
      "128GB        2\n",
      "(            2\n",
      "5PA          1\n",
      "6PA          1\n",
      "1TB SSD      1\n",
      "9PA          1\n",
      "PCIe         1\n",
      "256          1\n",
      "Name: count, dtype: int64\n",
      "Total Count: 885\n",
      "----------------------------------------------------------------------------------------------------\n",
      "AFTER\n",
      "Column: hard_drive_capacity\n",
      "Unique Values and Counts:\n",
      "hard_drive_capacity\n",
      "512GB    503\n",
      "1TB      258\n",
      "256GB     73\n",
      "2TB       20\n",
      "128GB      4\n",
      "4TB        4\n",
      "Name: count, dtype: int64\n",
      "Total Count: 862\n",
      "----------------------------------------------------------------------------------------------------\n"
     ]
    }
   ],
   "execution_count": 36
  },
  {
   "metadata": {
    "ExecuteTime": {
     "end_time": "2024-12-16T11:13:12.424072Z",
     "start_time": "2024-12-16T11:13:12.410552Z"
    }
   },
   "cell_type": "code",
   "source": [
    "# Process card \n",
    "print_unique_values_with_counts(combined_df, column='card', prefix='BEFORE')\n",
    "combined_df = process_card(combined_df)\n",
    "print_unique_values_with_counts(combined_df, column='card', prefix='AFTER')"
   ],
   "id": "288ac303e11b1a71",
   "outputs": [
    {
     "name": "stdout",
     "output_type": "stream",
     "text": [
      "BEFORE\n",
      "Column: card\n",
      "Unique Values and Counts:\n",
      "card\n",
      "Intel Iris Xe Graphics                           133\n",
      "Intel Arc Graphics                                88\n",
      "Intel UHD Graphics                                68\n",
      "Intel Graphics                                    41\n",
      "AMD Radeon Graphics                               26\n",
      "                                                ... \n",
      "NVIDIA RTX A4000 w/8GB                             1\n",
      "NVIDIA RTX A2000 w/4GB Intel Iris Xe Graphics      1\n",
      "NVidia Geforce RTX 4060 8GB                        1\n",
      "NVidia Geforce RTX 4050                            1\n",
      "Geforce RTX3080 16GB                               1\n",
      "Name: count, Length: 245, dtype: int64\n",
      "Total Count: 924\n",
      "----------------------------------------------------------------------------------------------------\n",
      "AFTER\n",
      "Column: card\n",
      "Unique Values and Counts:\n",
      "card\n",
      "Intel Iris Xe Graphics                           133\n",
      "Intel Arc Graphics                                88\n",
      "Intel UHD Graphics                                68\n",
      "Intel Graphics                                    41\n",
      "AMD Radeon Graphics                               26\n",
      "                                                ... \n",
      "NVIDIA RTX A4000 w/8GB                             1\n",
      "NVIDIA RTX A2000 w/4GB Intel Iris Xe Graphics      1\n",
      "NVidia Geforce RTX 4060 8GB                        1\n",
      "NVidia Geforce RTX 4050                            1\n",
      "Geforce RTX3080 16GB                               1\n",
      "Name: count, Length: 245, dtype: int64\n",
      "Total Count: 924\n",
      "----------------------------------------------------------------------------------------------------\n"
     ]
    }
   ],
   "execution_count": 37
  },
  {
   "metadata": {
    "ExecuteTime": {
     "end_time": "2024-12-16T11:13:12.502837Z",
     "start_time": "2024-12-16T11:13:12.488760Z"
    }
   },
   "cell_type": "code",
   "source": [
    "# Save the combined dataframe to a new CSV file\n",
    "# combined_df.to_csv(CSV_FILE, index=False)"
   ],
   "id": "ac469356c531a35f",
   "outputs": [],
   "execution_count": 38
  }
 ],
 "metadata": {
  "kernelspec": {
   "display_name": "Python 3",
   "language": "python",
   "name": "python3"
  },
  "language_info": {
   "codemirror_mode": {
    "name": "ipython",
    "version": 2
   },
   "file_extension": ".py",
   "mimetype": "text/x-python",
   "name": "python",
   "nbconvert_exporter": "python",
   "pygments_lexer": "ipython2",
   "version": "2.7.6"
  }
 },
 "nbformat": 4,
 "nbformat_minor": 5
}
