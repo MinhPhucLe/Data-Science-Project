{
 "cells": [
  {
   "metadata": {
    "ExecuteTime": {
     "end_time": "2024-12-16T08:41:04.701207Z",
     "start_time": "2024-12-16T08:41:04.693197Z"
    }
   },
   "cell_type": "code",
   "source": [
    "import os\n",
    "import pandas as pd\n",
    "from pandas import DataFrame"
   ],
   "id": "5dbe69991a0183b3",
   "outputs": [],
   "execution_count": 18
  },
  {
   "metadata": {
    "ExecuteTime": {
     "end_time": "2024-12-16T08:41:04.716813Z",
     "start_time": "2024-12-16T08:41:04.709725Z"
    }
   },
   "cell_type": "code",
   "source": [
    "# Define the folder containing the CSV files\n",
    "FOLDER_PATH = '../Crawl'\n",
    "CSV_FILE = '../combined.csv'"
   ],
   "id": "14a15d63b535a2b1",
   "outputs": [],
   "execution_count": 19
  },
  {
   "metadata": {
    "ExecuteTime": {
     "end_time": "2024-12-16T08:41:04.780571Z",
     "start_time": "2024-12-16T08:41:04.751536Z"
    }
   },
   "cell_type": "code",
   "source": [
    " # List to hold dataframes\n",
    "dfs = []\n",
    "\n",
    "# Iterate over all files in the folder\n",
    "for filename in os.listdir(FOLDER_PATH):\n",
    "    if filename.endswith('.csv'):\n",
    "        file_path = os.path.join(FOLDER_PATH, filename)\n",
    "        # Read the CSV file into a dataframe\n",
    "        df = pd.read_csv(file_path)\n",
    "        # Append the dataframe to the list\n",
    "        dfs.append(df)\n",
    "\n",
    "# Concatenate all dataframes\n",
    "combined_df = pd.concat(dfs, ignore_index=True)\n",
    "\n",
    "# Drop unnecessary columns \n",
    "combined_df = combined_df.drop(columns=['page', 'name', 'link'])"
   ],
   "id": "c7a9e4b16e1a2379",
   "outputs": [],
   "execution_count": 20
  },
  {
   "metadata": {
    "ExecuteTime": {
     "end_time": "2024-12-16T08:41:04.811769Z",
     "start_time": "2024-12-16T08:41:04.798622Z"
    }
   },
   "cell_type": "code",
   "source": [
    "def print_unique_values_with_counts(df: DataFrame, column: str, prefix: str):\n",
    "    print(prefix)\n",
    "    print(f\"Column: {column}\")\n",
    "    print(\"Unique Values and Counts:\")\n",
    "    print(df[column].value_counts())\n",
    "    print(\"-\" * 100)"
   ],
   "id": "cd22f29a3f280950",
   "outputs": [],
   "execution_count": 21
  },
  {
   "metadata": {
    "ExecuteTime": {
     "end_time": "2024-12-16T08:41:04.858107Z",
     "start_time": "2024-12-16T08:41:04.845587Z"
    }
   },
   "cell_type": "code",
   "source": [
    "def process_brand(data: DataFrame) -> DataFrame:\n",
    "    return data"
   ],
   "id": "280dd698a7611219",
   "outputs": [],
   "execution_count": 22
  },
  {
   "metadata": {
    "ExecuteTime": {
     "end_time": "2024-12-16T08:41:04.905294Z",
     "start_time": "2024-12-16T08:41:04.891249Z"
    }
   },
   "cell_type": "code",
   "source": [
    "def process_ram_capacity(data: DataFrame) -> DataFrame:\n",
    "    return data"
   ],
   "id": "6598b27ed4316155",
   "outputs": [],
   "execution_count": 23
  },
  {
   "metadata": {
    "ExecuteTime": {
     "end_time": "2024-12-16T08:41:04.951818Z",
     "start_time": "2024-12-16T08:41:04.938375Z"
    }
   },
   "cell_type": "code",
   "source": [
    "def process_hard_drive_capacity(data: DataFrame) -> DataFrame:\n",
    "    return data"
   ],
   "id": "59057276a8eaad3d",
   "outputs": [],
   "execution_count": 24
  },
  {
   "metadata": {
    "ExecuteTime": {
     "end_time": "2024-12-16T08:41:04.997985Z",
     "start_time": "2024-12-16T08:41:04.984469Z"
    }
   },
   "cell_type": "code",
   "source": [
    "# Process brand\n",
    "print_unique_values_with_counts(combined_df, column='brand', prefix='BEFORE')\n",
    "combined_df = process_brand(combined_df)\n",
    "print_unique_values_with_counts(combined_df, column='brand', prefix='AFTER')"
   ],
   "id": "78b4ebd2d7890876",
   "outputs": [
    {
     "name": "stdout",
     "output_type": "stream",
     "text": [
      "BEFORE\n",
      "Column: brand\n",
      "Unique Values and Counts:\n",
      "brand\n",
      "Lenovo         320\n",
      "Dell           140\n",
      "Asus           130\n",
      "HP              84\n",
      "Acer            77\n",
      "MSI             72\n",
      "ASUS            40\n",
      "LG              19\n",
      "Gaming          17\n",
      "Macbook         13\n",
      "Microsoft       10\n",
      "LENOVO           4\n",
      "iPad             2\n",
      "Samsung          2\n",
      "Ideapad          2\n",
      "Workstation      2\n",
      "MacBook          2\n",
      "Apple            2\n",
      "ACER             2\n",
      "gaming           1\n",
      "ThinkPad         1\n",
      "kstation         1\n",
      "Prestige         1\n",
      "Legion           1\n",
      "Name: count, dtype: int64\n",
      "----------------------------------------------------------------------------------------------------\n",
      "AFTER\n",
      "Column: brand\n",
      "Unique Values and Counts:\n",
      "brand\n",
      "Lenovo         320\n",
      "Dell           140\n",
      "Asus           130\n",
      "HP              84\n",
      "Acer            77\n",
      "MSI             72\n",
      "ASUS            40\n",
      "LG              19\n",
      "Gaming          17\n",
      "Macbook         13\n",
      "Microsoft       10\n",
      "LENOVO           4\n",
      "iPad             2\n",
      "Samsung          2\n",
      "Ideapad          2\n",
      "Workstation      2\n",
      "MacBook          2\n",
      "Apple            2\n",
      "ACER             2\n",
      "gaming           1\n",
      "ThinkPad         1\n",
      "kstation         1\n",
      "Prestige         1\n",
      "Legion           1\n",
      "Name: count, dtype: int64\n",
      "----------------------------------------------------------------------------------------------------\n"
     ]
    }
   ],
   "execution_count": 25
  },
  {
   "metadata": {
    "ExecuteTime": {
     "end_time": "2024-12-16T08:41:05.044787Z",
     "start_time": "2024-12-16T08:41:05.031638Z"
    }
   },
   "cell_type": "code",
   "source": [
    "# Process ram_capacity\n",
    "print_unique_values_with_counts(combined_df, column='ram_capacity', prefix='BEFORE')\n",
    "combined_df = process_ram_capacity(combined_df)\n",
    "print_unique_values_with_counts(combined_df, column='ram_capacity', prefix='AFTER')"
   ],
   "id": "ac68f69e45993ea3",
   "outputs": [
    {
     "name": "stdout",
     "output_type": "stream",
     "text": [
      "BEFORE\n",
      "Column: ram_capacity\n",
      "Unique Values and Counts:\n",
      "ram_capacity\n",
      "16GB     450\n",
      "32GB     185\n",
      "8GB      116\n",
      "16 GB    104\n",
      "8 GB      21\n",
      "12GB      13\n",
      "64GB      12\n",
      "32 GB     12\n",
      "24GB      11\n",
      "36GB       4\n",
      "12 GB      4\n",
      "24 GB      4\n",
      "           3\n",
      "18GB       2\n",
      "48GB       2\n",
      "GB         1\n",
      "Name: count, dtype: int64\n",
      "----------------------------------------------------------------------------------------------------\n",
      "AFTER\n",
      "Column: ram_capacity\n",
      "Unique Values and Counts:\n",
      "ram_capacity\n",
      "16GB     450\n",
      "32GB     185\n",
      "8GB      116\n",
      "16 GB    104\n",
      "8 GB      21\n",
      "12GB      13\n",
      "64GB      12\n",
      "32 GB     12\n",
      "24GB      11\n",
      "36GB       4\n",
      "12 GB      4\n",
      "24 GB      4\n",
      "           3\n",
      "18GB       2\n",
      "48GB       2\n",
      "GB         1\n",
      "Name: count, dtype: int64\n",
      "----------------------------------------------------------------------------------------------------\n"
     ]
    }
   ],
   "execution_count": 26
  },
  {
   "metadata": {
    "ExecuteTime": {
     "end_time": "2024-12-16T08:41:05.091551Z",
     "start_time": "2024-12-16T08:41:05.079032Z"
    }
   },
   "cell_type": "code",
   "source": [
    "# Process hard_drive_capacity\n",
    "print_unique_values_with_counts(combined_df, column='hard_drive_capacity', prefix='BEFORE')\n",
    "combined_df = process_hard_drive_capacity(combined_df)\n",
    "print_unique_values_with_counts(combined_df, column='hard_drive_capacity', prefix='AFTER')"
   ],
   "id": "8ede77006f5b9dd",
   "outputs": [
    {
     "name": "stdout",
     "output_type": "stream",
     "text": [
      "BEFORE\n",
      "Column: hard_drive_capacity\n",
      "Unique Values and Counts:\n",
      "hard_drive_capacity\n",
      "512 GB       259\n",
      "512GB        230\n",
      "1TB          149\n",
      "1            105\n",
      "256 GB        48\n",
      "256GB         24\n",
      "512           17\n",
      "B             13\n",
      "2             11\n",
      "2TB            9\n",
      "SSD            5\n",
      "1024           4\n",
      "4TB            4\n",
      "128 GB         2\n",
      "128GB          2\n",
      "(              2\n",
      "GB+1024GB      1\n",
      "5PA            1\n",
      "6PA            1\n",
      "1TB SSD        1\n",
      "9PA            1\n",
      "PCIe           1\n",
      "256            1\n",
      "Name: count, dtype: int64\n",
      "----------------------------------------------------------------------------------------------------\n",
      "AFTER\n",
      "Column: hard_drive_capacity\n",
      "Unique Values and Counts:\n",
      "hard_drive_capacity\n",
      "512 GB       259\n",
      "512GB        230\n",
      "1TB          149\n",
      "1            105\n",
      "256 GB        48\n",
      "256GB         24\n",
      "512           17\n",
      "B             13\n",
      "2             11\n",
      "2TB            9\n",
      "SSD            5\n",
      "1024           4\n",
      "4TB            4\n",
      "128 GB         2\n",
      "128GB          2\n",
      "(              2\n",
      "GB+1024GB      1\n",
      "5PA            1\n",
      "6PA            1\n",
      "1TB SSD        1\n",
      "9PA            1\n",
      "PCIe           1\n",
      "256            1\n",
      "Name: count, dtype: int64\n",
      "----------------------------------------------------------------------------------------------------\n"
     ]
    }
   ],
   "execution_count": 27
  },
  {
   "metadata": {
    "ExecuteTime": {
     "end_time": "2024-12-16T08:41:05.138710Z",
     "start_time": "2024-12-16T08:41:05.125196Z"
    }
   },
   "cell_type": "code",
   "source": [
    "# Save the combined dataframe to a new CSV file\n",
    "# combined_df.to_csv(CSV_FILE, index=False)"
   ],
   "id": "ac469356c531a35f",
   "outputs": [],
   "execution_count": 28
  }
 ],
 "metadata": {
  "kernelspec": {
   "display_name": "Python 3",
   "language": "python",
   "name": "python3"
  },
  "language_info": {
   "codemirror_mode": {
    "name": "ipython",
    "version": 2
   },
   "file_extension": ".py",
   "mimetype": "text/x-python",
   "name": "python",
   "nbconvert_exporter": "python",
   "pygments_lexer": "ipython2",
   "version": "2.7.6"
  }
 },
 "nbformat": 4,
 "nbformat_minor": 5
}
